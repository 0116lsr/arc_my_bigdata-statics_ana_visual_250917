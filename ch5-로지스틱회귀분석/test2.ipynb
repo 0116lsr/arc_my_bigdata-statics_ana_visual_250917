{
 "cells": [
  {
   "cell_type": "markdown",
   "metadata": {},
   "source": [
    "## 결정 트리 분석 , 시각화 산점도, 선형 회귀 그래프 이용할 예정.\n",
    "### 결정 트리 시각화 (다른 프로그램을 설치해야함. )\n",
    "### 샘플 데이터, 센서 데이터의 움직임 수집한 데이터. \n",
    "### UCI 대학의 연구원들이 몸에 센서달고, 몇일 간 생활을해서, \n",
    "### 움직임을 판단 -> 서있기, 앉기, 눕기, 계단 오르기 등. "
   ]
  },
  {
   "cell_type": "markdown",
   "metadata": {},
   "source": [
    "## 용어정리\n",
    "### 결정 트리 : 머신러닝 알고리즘 중에 하나이고, 다중 분류를 하는데 사용을 많이 함.\n",
    "### 스스로 데이터 안에 특정 규칙을 찾아서 학습하고, 트리 구조 분류 규칙을 만든다. \n",
    "### 규칙 노드, 리프노드(결정노드) \n",
    "### 예) 날개가 있나요? : 규칙노드 \n",
    "###      /True        \\False\n",
    "### 날수있니?    털이 있니? : 규칙 노드 \n",
    "###   /T     \\ F     /T     \\F\n",
    "### 참새   펭귄    다람쥐  개구리 : 결정 노드 \n",
    "\n",
    "### 정보이득지수 : 엔트로피(entropy) 개념을 기반으로함.\n",
    "### 엔트로피 : 데이터 집합의 혼잡도를 의미. \n",
    "### 예) 데이터에 다른 데이터가 섞여서 균일도가 떨어지면 -> 혼잡도가 높다 -> 엔트로피 높다. \n",
    "### 정보이득지수 = 1 - 엔트로피 \n",
    "### 엔트로피 높다 -> 정보이득지수 낮다. -> 데이터가 순수하지 않다. (다른 데이터들이 섞여 있다.)\n",
    "### 엔트로피 낮다 -> 정보이득지수 높다. -> 데이터가 균일도가 높다. -> (다른 데이터들이 많이 섞여 있지 않다..)\n",
    "\n",
    "### 지니계수 : 경제학 용어이고, 소득의 불균형의 정도를 나타 낼 때 사용했고, 우리는 데이터의 순도\n",
    "### 지니계수 높다 -> 순도가 낮은 데이터의 집합 -> 균일도 낮다 -> 엔트로피 높다 -> 다른 데이터들이 섞여 있다.\n",
    "\n",
    "\n",
    "### 사이킷런에서 제공하는 결정 트리 분류 모델의 매개변수 \n",
    "### min_samples_split : 노드를 분할하기 위한 최소 샘플 데이터 갯수 (기본값: 2)\n",
    "### min_samples_leaf : 리프 노드가 되기 위한 최소 샘플 데이터 갯수 \n",
    "### max_features : 최적의 분할을 하기위 한 고려해야할 최대 피처 갯수 (예, 독립변수 ) \n",
    "### None : 모든 피쳐 사용 , int : 사용할 피쳐의 갯수, float : 사용할 피처 개수를 퍼센트 \n",
    "### sqrt : 루트 계산. \n",
    "\n",
    "### max_depth : 트리의 최대 깊이 \n",
    "### max_leaf_nodes : 리프노드(결정 노드 ) 에 들어가는 샘플의 최대 데이터 갯수. \n",
    "\n",
    "### Graphviz 패키지 : 결정 트리를 시각화 하는 도구. "
   ]
  },
  {
   "cell_type": "markdown",
   "metadata": {},
   "source": [
    "### 샘플 데이터 소개: README.txt 상세히 설명이 나옴. \n",
    "### 요약 : 30명의 연구원이 데이터 수집에 참여했고, 삼성 갤럭시 s2 을 착용하고, 6가지 움직임을 실험.\n",
    "### 워킹, 계단 오르기, 계단 내리기, 눕기, 서있기, 앉기 등 \n",
    "### 움직임은 가속계, 자이로스코프 를 이용해서, XYZ 3축에 대한 데이터를 수집. \n"
   ]
  },
  {
   "cell_type": "code",
   "metadata": {
    "ExecuteTime": {
     "end_time": "2025-09-22T06:05:24.914181Z",
     "start_time": "2025-09-22T06:05:24.899183Z"
    }
   },
   "source": [
    "# 샘플 데이터 받아서, 정리해보기.\n",
    "import numpy as np \n",
    "import pandas as pd \n",
    "pd.__version__"
   ],
   "outputs": [
    {
     "data": {
      "text/plain": [
       "'2.2.3'"
      ]
     },
     "execution_count": 1,
     "metadata": {},
     "output_type": "execute_result"
    }
   ],
   "execution_count": 1
  },
  {
   "cell_type": "code",
   "metadata": {
    "ExecuteTime": {
     "end_time": "2025-09-22T06:06:39.957673Z",
     "start_time": "2025-09-22T06:06:39.931671Z"
    }
   },
   "source": [
    "# 피처 이름 읽기\n",
    "# sep=\"\\s+\" -> 하나 이상의 공백을 의미\n",
    "# header=None -> 처음 부터 실제값을 사용하겠다라는 의미. \n",
    "feature_name_df = pd.read_csv(\"./UCI HAR Dataset/features.txt\", sep=\"\\s+\", header=None, names=[\"index\",\"feature_name\"], engine=\"python\")\n",
    "feature_name_df.head()"
   ],
   "outputs": [
    {
     "data": {
      "text/plain": [
       "   index       feature_name\n",
       "0      1  tBodyAcc-mean()-X\n",
       "1      2  tBodyAcc-mean()-Y\n",
       "2      3  tBodyAcc-mean()-Z\n",
       "3      4   tBodyAcc-std()-X\n",
       "4      5   tBodyAcc-std()-Y"
      ],
      "text/html": [
       "<div>\n",
       "<style scoped>\n",
       "    .dataframe tbody tr th:only-of-type {\n",
       "        vertical-align: middle;\n",
       "    }\n",
       "\n",
       "    .dataframe tbody tr th {\n",
       "        vertical-align: top;\n",
       "    }\n",
       "\n",
       "    .dataframe thead th {\n",
       "        text-align: right;\n",
       "    }\n",
       "</style>\n",
       "<table border=\"1\" class=\"dataframe\">\n",
       "  <thead>\n",
       "    <tr style=\"text-align: right;\">\n",
       "      <th></th>\n",
       "      <th>index</th>\n",
       "      <th>feature_name</th>\n",
       "    </tr>\n",
       "  </thead>\n",
       "  <tbody>\n",
       "    <tr>\n",
       "      <th>0</th>\n",
       "      <td>1</td>\n",
       "      <td>tBodyAcc-mean()-X</td>\n",
       "    </tr>\n",
       "    <tr>\n",
       "      <th>1</th>\n",
       "      <td>2</td>\n",
       "      <td>tBodyAcc-mean()-Y</td>\n",
       "    </tr>\n",
       "    <tr>\n",
       "      <th>2</th>\n",
       "      <td>3</td>\n",
       "      <td>tBodyAcc-mean()-Z</td>\n",
       "    </tr>\n",
       "    <tr>\n",
       "      <th>3</th>\n",
       "      <td>4</td>\n",
       "      <td>tBodyAcc-std()-X</td>\n",
       "    </tr>\n",
       "    <tr>\n",
       "      <th>4</th>\n",
       "      <td>5</td>\n",
       "      <td>tBodyAcc-std()-Y</td>\n",
       "    </tr>\n",
       "  </tbody>\n",
       "</table>\n",
       "</div>"
      ]
     },
     "execution_count": 3,
     "metadata": {},
     "output_type": "execute_result"
    }
   ],
   "execution_count": 3
  },
  {
   "cell_type": "code",
   "metadata": {
    "ExecuteTime": {
     "end_time": "2025-09-22T06:09:02.626348Z",
     "start_time": "2025-09-22T06:09:02.618349Z"
    }
   },
   "source": [
    "# 데이터 갯수 조회 \n",
    "feature_name_df.shape"
   ],
   "outputs": [
    {
     "data": {
      "text/plain": [
       "(561, 2)"
      ]
     },
     "execution_count": 4,
     "metadata": {},
     "output_type": "execute_result"
    }
   ],
   "execution_count": 4
  },
  {
   "cell_type": "code",
   "metadata": {
    "ExecuteTime": {
     "end_time": "2025-09-22T06:09:19.431427Z",
     "start_time": "2025-09-22T06:09:19.419439Z"
    }
   },
   "source": [
    "# 해당 피쳐 이름만 추출해보기. \n",
    "feature_name = feature_name_df.iloc[:,1].values.tolist()\n",
    "# head() 함수와 동일한 기능.\n",
    "feature_name[:5]"
   ],
   "outputs": [
    {
     "data": {
      "text/plain": [
       "['tBodyAcc-mean()-X',\n",
       " 'tBodyAcc-mean()-Y',\n",
       " 'tBodyAcc-mean()-Z',\n",
       " 'tBodyAcc-std()-X',\n",
       " 'tBodyAcc-std()-Y']"
      ]
     },
     "execution_count": 5,
     "metadata": {},
     "output_type": "execute_result"
    }
   ],
   "execution_count": 5
  },
  {
   "cell_type": "code",
   "metadata": {
    "ExecuteTime": {
     "end_time": "2025-09-22T06:09:51.120831Z",
     "start_time": "2025-09-22T06:09:45.785553Z"
    }
   },
   "source": [
    "# 샘플 데이터의 학습용 데이터, 평가용 데이터를 , 로드해서, 메모리상에 불러오기. \n",
    "X_train = pd.read_csv(\"./UCI HAR Dataset/train/X_train.txt\",sep=\"\\s+\", header=None, engine=\"python\")\n",
    "X_train.shape"
   ],
   "outputs": [
    {
     "data": {
      "text/plain": [
       "(7352, 561)"
      ]
     },
     "execution_count": 6,
     "metadata": {},
     "output_type": "execute_result"
    }
   ],
   "execution_count": 6
  },
  {
   "cell_type": "code",
   "metadata": {
    "ExecuteTime": {
     "end_time": "2025-09-22T06:10:11.950954Z",
     "start_time": "2025-09-22T06:10:11.914954Z"
    }
   },
   "source": [
    "# 샘플 데이터의 학습용 데이터, 평가용 데이터를 , 로드해서, 메모리상에 불러오기. \n",
    "Y_train = pd.read_csv(\"./UCI HAR Dataset/train/y_train.txt\",sep=\"\\s+\", header=None, names=[\"action\"],engine=\"python\")\n",
    "Y_train.shape"
   ],
   "outputs": [
    {
     "data": {
      "text/plain": [
       "(7352, 1)"
      ]
     },
     "execution_count": 7,
     "metadata": {},
     "output_type": "execute_result"
    }
   ],
   "execution_count": 7
  },
  {
   "cell_type": "code",
   "metadata": {
    "ExecuteTime": {
     "end_time": "2025-09-22T06:10:30.742711Z",
     "start_time": "2025-09-22T06:10:28.662860Z"
    }
   },
   "source": [
    "# 샘플 데이터의 학습용 데이터, 평가용 데이터를 , 로드해서, 메모리상에 불러오기. \n",
    "X_test = pd.read_csv(\"./UCI HAR Dataset/test/X_test.txt\",sep=\"\\s+\", header=None, engine=\"python\")\n",
    "X_test.shape"
   ],
   "outputs": [
    {
     "data": {
      "text/plain": [
       "(2947, 561)"
      ]
     },
     "execution_count": 8,
     "metadata": {},
     "output_type": "execute_result"
    }
   ],
   "execution_count": 8
  },
  {
   "cell_type": "code",
   "metadata": {
    "ExecuteTime": {
     "end_time": "2025-09-22T06:10:33.510054Z",
     "start_time": "2025-09-22T06:10:33.486053Z"
    }
   },
   "source": [
    "Y_test = pd.read_csv(\"./UCI HAR Dataset/test/y_test.txt\",sep=\"\\s+\", header=None,names=[\"action\"], engine=\"python\")\n",
    "Y_test.shape"
   ],
   "outputs": [
    {
     "data": {
      "text/plain": [
       "(2947, 1)"
      ]
     },
     "execution_count": 9,
     "metadata": {},
     "output_type": "execute_result"
    }
   ],
   "execution_count": 9
  },
  {
   "cell_type": "code",
   "metadata": {
    "ExecuteTime": {
     "end_time": "2025-09-22T06:11:02.206808Z",
     "start_time": "2025-09-22T06:11:02.189797Z"
    }
   },
   "source": [
    "# train, test 의 컬럼 달기. \n",
    "X_train.columns = feature_name\n",
    "X_test.columns = feature_name\n"
   ],
   "outputs": [],
   "execution_count": 10
  },
  {
   "cell_type": "code",
   "metadata": {
    "ExecuteTime": {
     "end_time": "2025-09-22T06:11:04.816356Z",
     "start_time": "2025-09-22T06:11:04.786373Z"
    }
   },
   "source": [
    "# X_train , 상위 5개 조회 \n",
    "X_train.head()"
   ],
   "outputs": [
    {
     "data": {
      "text/plain": [
       "   tBodyAcc-mean()-X  tBodyAcc-mean()-Y  tBodyAcc-mean()-Z  tBodyAcc-std()-X  \\\n",
       "0           0.288585          -0.020294          -0.132905         -0.995279   \n",
       "1           0.278419          -0.016411          -0.123520         -0.998245   \n",
       "2           0.279653          -0.019467          -0.113462         -0.995380   \n",
       "3           0.279174          -0.026201          -0.123283         -0.996091   \n",
       "4           0.276629          -0.016570          -0.115362         -0.998139   \n",
       "\n",
       "   tBodyAcc-std()-Y  tBodyAcc-std()-Z  tBodyAcc-mad()-X  tBodyAcc-mad()-Y  \\\n",
       "0         -0.983111         -0.913526         -0.995112         -0.983185   \n",
       "1         -0.975300         -0.960322         -0.998807         -0.974914   \n",
       "2         -0.967187         -0.978944         -0.996520         -0.963668   \n",
       "3         -0.983403         -0.990675         -0.997099         -0.982750   \n",
       "4         -0.980817         -0.990482         -0.998321         -0.979672   \n",
       "\n",
       "   tBodyAcc-mad()-Z  tBodyAcc-max()-X  ...  fBodyBodyGyroJerkMag-meanFreq()  \\\n",
       "0         -0.923527         -0.934724  ...                        -0.074323   \n",
       "1         -0.957686         -0.943068  ...                         0.158075   \n",
       "2         -0.977469         -0.938692  ...                         0.414503   \n",
       "3         -0.989302         -0.938692  ...                         0.404573   \n",
       "4         -0.990441         -0.942469  ...                         0.087753   \n",
       "\n",
       "   fBodyBodyGyroJerkMag-skewness()  fBodyBodyGyroJerkMag-kurtosis()  \\\n",
       "0                        -0.298676                        -0.710304   \n",
       "1                        -0.595051                        -0.861499   \n",
       "2                        -0.390748                        -0.760104   \n",
       "3                        -0.117290                        -0.482845   \n",
       "4                        -0.351471                        -0.699205   \n",
       "\n",
       "   angle(tBodyAccMean,gravity)  angle(tBodyAccJerkMean),gravityMean)  \\\n",
       "0                    -0.112754                              0.030400   \n",
       "1                     0.053477                             -0.007435   \n",
       "2                    -0.118559                              0.177899   \n",
       "3                    -0.036788                             -0.012892   \n",
       "4                     0.123320                              0.122542   \n",
       "\n",
       "   angle(tBodyGyroMean,gravityMean)  angle(tBodyGyroJerkMean,gravityMean)  \\\n",
       "0                         -0.464761                             -0.018446   \n",
       "1                         -0.732626                              0.703511   \n",
       "2                          0.100699                              0.808529   \n",
       "3                          0.640011                             -0.485366   \n",
       "4                          0.693578                             -0.615971   \n",
       "\n",
       "   angle(X,gravityMean)  angle(Y,gravityMean)  angle(Z,gravityMean)  \n",
       "0             -0.841247              0.179941             -0.058627  \n",
       "1             -0.844788              0.180289             -0.054317  \n",
       "2             -0.848933              0.180637             -0.049118  \n",
       "3             -0.848649              0.181935             -0.047663  \n",
       "4             -0.847865              0.185151             -0.043892  \n",
       "\n",
       "[5 rows x 561 columns]"
      ],
      "text/html": [
       "<div>\n",
       "<style scoped>\n",
       "    .dataframe tbody tr th:only-of-type {\n",
       "        vertical-align: middle;\n",
       "    }\n",
       "\n",
       "    .dataframe tbody tr th {\n",
       "        vertical-align: top;\n",
       "    }\n",
       "\n",
       "    .dataframe thead th {\n",
       "        text-align: right;\n",
       "    }\n",
       "</style>\n",
       "<table border=\"1\" class=\"dataframe\">\n",
       "  <thead>\n",
       "    <tr style=\"text-align: right;\">\n",
       "      <th></th>\n",
       "      <th>tBodyAcc-mean()-X</th>\n",
       "      <th>tBodyAcc-mean()-Y</th>\n",
       "      <th>tBodyAcc-mean()-Z</th>\n",
       "      <th>tBodyAcc-std()-X</th>\n",
       "      <th>tBodyAcc-std()-Y</th>\n",
       "      <th>tBodyAcc-std()-Z</th>\n",
       "      <th>tBodyAcc-mad()-X</th>\n",
       "      <th>tBodyAcc-mad()-Y</th>\n",
       "      <th>tBodyAcc-mad()-Z</th>\n",
       "      <th>tBodyAcc-max()-X</th>\n",
       "      <th>...</th>\n",
       "      <th>fBodyBodyGyroJerkMag-meanFreq()</th>\n",
       "      <th>fBodyBodyGyroJerkMag-skewness()</th>\n",
       "      <th>fBodyBodyGyroJerkMag-kurtosis()</th>\n",
       "      <th>angle(tBodyAccMean,gravity)</th>\n",
       "      <th>angle(tBodyAccJerkMean),gravityMean)</th>\n",
       "      <th>angle(tBodyGyroMean,gravityMean)</th>\n",
       "      <th>angle(tBodyGyroJerkMean,gravityMean)</th>\n",
       "      <th>angle(X,gravityMean)</th>\n",
       "      <th>angle(Y,gravityMean)</th>\n",
       "      <th>angle(Z,gravityMean)</th>\n",
       "    </tr>\n",
       "  </thead>\n",
       "  <tbody>\n",
       "    <tr>\n",
       "      <th>0</th>\n",
       "      <td>0.288585</td>\n",
       "      <td>-0.020294</td>\n",
       "      <td>-0.132905</td>\n",
       "      <td>-0.995279</td>\n",
       "      <td>-0.983111</td>\n",
       "      <td>-0.913526</td>\n",
       "      <td>-0.995112</td>\n",
       "      <td>-0.983185</td>\n",
       "      <td>-0.923527</td>\n",
       "      <td>-0.934724</td>\n",
       "      <td>...</td>\n",
       "      <td>-0.074323</td>\n",
       "      <td>-0.298676</td>\n",
       "      <td>-0.710304</td>\n",
       "      <td>-0.112754</td>\n",
       "      <td>0.030400</td>\n",
       "      <td>-0.464761</td>\n",
       "      <td>-0.018446</td>\n",
       "      <td>-0.841247</td>\n",
       "      <td>0.179941</td>\n",
       "      <td>-0.058627</td>\n",
       "    </tr>\n",
       "    <tr>\n",
       "      <th>1</th>\n",
       "      <td>0.278419</td>\n",
       "      <td>-0.016411</td>\n",
       "      <td>-0.123520</td>\n",
       "      <td>-0.998245</td>\n",
       "      <td>-0.975300</td>\n",
       "      <td>-0.960322</td>\n",
       "      <td>-0.998807</td>\n",
       "      <td>-0.974914</td>\n",
       "      <td>-0.957686</td>\n",
       "      <td>-0.943068</td>\n",
       "      <td>...</td>\n",
       "      <td>0.158075</td>\n",
       "      <td>-0.595051</td>\n",
       "      <td>-0.861499</td>\n",
       "      <td>0.053477</td>\n",
       "      <td>-0.007435</td>\n",
       "      <td>-0.732626</td>\n",
       "      <td>0.703511</td>\n",
       "      <td>-0.844788</td>\n",
       "      <td>0.180289</td>\n",
       "      <td>-0.054317</td>\n",
       "    </tr>\n",
       "    <tr>\n",
       "      <th>2</th>\n",
       "      <td>0.279653</td>\n",
       "      <td>-0.019467</td>\n",
       "      <td>-0.113462</td>\n",
       "      <td>-0.995380</td>\n",
       "      <td>-0.967187</td>\n",
       "      <td>-0.978944</td>\n",
       "      <td>-0.996520</td>\n",
       "      <td>-0.963668</td>\n",
       "      <td>-0.977469</td>\n",
       "      <td>-0.938692</td>\n",
       "      <td>...</td>\n",
       "      <td>0.414503</td>\n",
       "      <td>-0.390748</td>\n",
       "      <td>-0.760104</td>\n",
       "      <td>-0.118559</td>\n",
       "      <td>0.177899</td>\n",
       "      <td>0.100699</td>\n",
       "      <td>0.808529</td>\n",
       "      <td>-0.848933</td>\n",
       "      <td>0.180637</td>\n",
       "      <td>-0.049118</td>\n",
       "    </tr>\n",
       "    <tr>\n",
       "      <th>3</th>\n",
       "      <td>0.279174</td>\n",
       "      <td>-0.026201</td>\n",
       "      <td>-0.123283</td>\n",
       "      <td>-0.996091</td>\n",
       "      <td>-0.983403</td>\n",
       "      <td>-0.990675</td>\n",
       "      <td>-0.997099</td>\n",
       "      <td>-0.982750</td>\n",
       "      <td>-0.989302</td>\n",
       "      <td>-0.938692</td>\n",
       "      <td>...</td>\n",
       "      <td>0.404573</td>\n",
       "      <td>-0.117290</td>\n",
       "      <td>-0.482845</td>\n",
       "      <td>-0.036788</td>\n",
       "      <td>-0.012892</td>\n",
       "      <td>0.640011</td>\n",
       "      <td>-0.485366</td>\n",
       "      <td>-0.848649</td>\n",
       "      <td>0.181935</td>\n",
       "      <td>-0.047663</td>\n",
       "    </tr>\n",
       "    <tr>\n",
       "      <th>4</th>\n",
       "      <td>0.276629</td>\n",
       "      <td>-0.016570</td>\n",
       "      <td>-0.115362</td>\n",
       "      <td>-0.998139</td>\n",
       "      <td>-0.980817</td>\n",
       "      <td>-0.990482</td>\n",
       "      <td>-0.998321</td>\n",
       "      <td>-0.979672</td>\n",
       "      <td>-0.990441</td>\n",
       "      <td>-0.942469</td>\n",
       "      <td>...</td>\n",
       "      <td>0.087753</td>\n",
       "      <td>-0.351471</td>\n",
       "      <td>-0.699205</td>\n",
       "      <td>0.123320</td>\n",
       "      <td>0.122542</td>\n",
       "      <td>0.693578</td>\n",
       "      <td>-0.615971</td>\n",
       "      <td>-0.847865</td>\n",
       "      <td>0.185151</td>\n",
       "      <td>-0.043892</td>\n",
       "    </tr>\n",
       "  </tbody>\n",
       "</table>\n",
       "<p>5 rows × 561 columns</p>\n",
       "</div>"
      ]
     },
     "execution_count": 11,
     "metadata": {},
     "output_type": "execute_result"
    }
   ],
   "execution_count": 11
  },
  {
   "cell_type": "code",
   "metadata": {
    "ExecuteTime": {
     "end_time": "2025-09-22T06:11:27.039177Z",
     "start_time": "2025-09-22T06:11:27.028176Z"
    }
   },
   "source": [
    "# Y_train 값 조회 \n",
    "# Y_train_value_count= Y_train[\"action\"].value_counts()\n",
    "print(f\"Y_train['action'].value_counts() : \\n {Y_train['action'].value_counts()}\")"
   ],
   "outputs": [
    {
     "name": "stdout",
     "output_type": "stream",
     "text": [
      "Y_train['action'].value_counts() : \n",
      " action\n",
      "6    1407\n",
      "5    1374\n",
      "4    1286\n",
      "1    1226\n",
      "2    1073\n",
      "3     986\n",
      "Name: count, dtype: int64\n"
     ]
    }
   ],
   "execution_count": 12
  },
  {
   "cell_type": "code",
   "metadata": {
    "ExecuteTime": {
     "end_time": "2025-09-22T06:11:46.768225Z",
     "start_time": "2025-09-22T06:11:46.753225Z"
    }
   },
   "source": [
    "# 움직임의 6가지 라벨링 불러오기. \n",
    "label_name_df = pd.read_csv(\"./UCI HAR Dataset/activity_labels.txt\", sep=\"\\s+\", header=None ,\n",
    "                            names=[\"index\",\"label\"], engine=\"python\")\n",
    "label_name_df.head()"
   ],
   "outputs": [
    {
     "data": {
      "text/plain": [
       "   index               label\n",
       "0      1             WALKING\n",
       "1      2    WALKING_UPSTAIRS\n",
       "2      3  WALKING_DOWNSTAIRS\n",
       "3      4             SITTING\n",
       "4      5            STANDING"
      ],
      "text/html": [
       "<div>\n",
       "<style scoped>\n",
       "    .dataframe tbody tr th:only-of-type {\n",
       "        vertical-align: middle;\n",
       "    }\n",
       "\n",
       "    .dataframe tbody tr th {\n",
       "        vertical-align: top;\n",
       "    }\n",
       "\n",
       "    .dataframe thead th {\n",
       "        text-align: right;\n",
       "    }\n",
       "</style>\n",
       "<table border=\"1\" class=\"dataframe\">\n",
       "  <thead>\n",
       "    <tr style=\"text-align: right;\">\n",
       "      <th></th>\n",
       "      <th>index</th>\n",
       "      <th>label</th>\n",
       "    </tr>\n",
       "  </thead>\n",
       "  <tbody>\n",
       "    <tr>\n",
       "      <th>0</th>\n",
       "      <td>1</td>\n",
       "      <td>WALKING</td>\n",
       "    </tr>\n",
       "    <tr>\n",
       "      <th>1</th>\n",
       "      <td>2</td>\n",
       "      <td>WALKING_UPSTAIRS</td>\n",
       "    </tr>\n",
       "    <tr>\n",
       "      <th>2</th>\n",
       "      <td>3</td>\n",
       "      <td>WALKING_DOWNSTAIRS</td>\n",
       "    </tr>\n",
       "    <tr>\n",
       "      <th>3</th>\n",
       "      <td>4</td>\n",
       "      <td>SITTING</td>\n",
       "    </tr>\n",
       "    <tr>\n",
       "      <th>4</th>\n",
       "      <td>5</td>\n",
       "      <td>STANDING</td>\n",
       "    </tr>\n",
       "  </tbody>\n",
       "</table>\n",
       "</div>"
      ]
     },
     "execution_count": 13,
     "metadata": {},
     "output_type": "execute_result"
    }
   ],
   "execution_count": 13
  },
  {
   "cell_type": "code",
   "metadata": {
    "ExecuteTime": {
     "end_time": "2025-09-22T06:11:58.818049Z",
     "start_time": "2025-09-22T06:11:58.804049Z"
    }
   },
   "source": [
    "# 인덱스 제거 \n",
    "label_name = label_name_df.iloc[:,1].values.tolist()\n",
    "label_name"
   ],
   "outputs": [
    {
     "data": {
      "text/plain": [
       "['WALKING',\n",
       " 'WALKING_UPSTAIRS',\n",
       " 'WALKING_DOWNSTAIRS',\n",
       " 'SITTING',\n",
       " 'STANDING',\n",
       " 'LAYING']"
      ]
     },
     "execution_count": 14,
     "metadata": {},
     "output_type": "execute_result"
    }
   ],
   "execution_count": 14
  },
  {
   "cell_type": "code",
   "metadata": {
    "ExecuteTime": {
     "end_time": "2025-09-22T06:12:07.003135Z",
     "start_time": "2025-09-22T06:12:06.398886Z"
    }
   },
   "source": [
    "# 분석 모델 구축\n",
    "from sklearn.tree import DecisionTreeClassifier"
   ],
   "outputs": [],
   "execution_count": 15
  },
  {
   "cell_type": "code",
   "metadata": {
    "ExecuteTime": {
     "end_time": "2025-09-22T06:12:12.817103Z",
     "start_time": "2025-09-22T06:12:12.805105Z"
    }
   },
   "source": [
    "# 모델 불러오기\n",
    "dt_HAR = DecisionTreeClassifier()\n"
   ],
   "outputs": [],
   "execution_count": 16
  },
  {
   "cell_type": "code",
   "metadata": {
    "ExecuteTime": {
     "end_time": "2025-09-22T06:12:21.810984Z",
     "start_time": "2025-09-22T06:12:17.792453Z"
    }
   },
   "source": [
    "# 모델 훈련(학습 시키기)\n",
    "dt_HAR.fit(X_train, Y_train)"
   ],
   "outputs": [
    {
     "data": {
      "text/plain": [
       "DecisionTreeClassifier()"
      ]
     },
     "execution_count": 17,
     "metadata": {},
     "output_type": "execute_result"
    }
   ],
   "execution_count": 17
  },
  {
   "cell_type": "code",
   "metadata": {
    "ExecuteTime": {
     "end_time": "2025-09-22T06:12:31.169031Z",
     "start_time": "2025-09-22T06:12:31.150034Z"
    }
   },
   "source": [
    "# 학습 된 모델을 이용해서, 평가하기(예측값 구하기.)\n",
    "Y_predict = dt_HAR.predict(X_test)"
   ],
   "outputs": [],
   "execution_count": 18
  },
  {
   "cell_type": "code",
   "metadata": {
    "ExecuteTime": {
     "end_time": "2025-09-22T06:12:38.964532Z",
     "start_time": "2025-09-22T06:12:38.954532Z"
    }
   },
   "source": [
    "# 정확도 측정 해보기. \n",
    "from sklearn.metrics import accuracy_score\n",
    "\n",
    "accuracy = accuracy_score(Y_test, Y_predict)\n",
    "print(f\"accuracy 정확도 : {accuracy}\")\n",
    "print(\"accuracy 정확도: {0:.4f}\".format(accuracy))"
   ],
   "outputs": [
    {
     "name": "stdout",
     "output_type": "stream",
     "text": [
      "accuracy 정확도 : 0.8585001696640652\n",
      "accuracy 정확도: 0.8585\n"
     ]
    }
   ],
   "execution_count": 19
  },
  {
   "cell_type": "code",
   "metadata": {
    "ExecuteTime": {
     "end_time": "2025-09-22T06:12:53.410718Z",
     "start_time": "2025-09-22T06:12:53.406716Z"
    }
   },
   "source": [
    "# 결정 트리의 하이퍼 매개변수의 기본정보 -> gini 정보 지수 확인용 \n",
    "# 'criterion': 'gini', 분할 기준이 지니 계수를 이용한다. \n",
    "print(\"결정 트리의 하이퍼 매개변수의 기본정보 : \", dt_HAR.get_params())"
   ],
   "outputs": [
    {
     "name": "stdout",
     "output_type": "stream",
     "text": [
      "결정 트리의 하이퍼 매개변수의 기본정보 :  {'ccp_alpha': 0.0, 'class_weight': None, 'criterion': 'gini', 'max_depth': None, 'max_features': None, 'max_leaf_nodes': None, 'min_impurity_decrease': 0.0, 'min_samples_leaf': 1, 'min_samples_split': 2, 'min_weight_fraction_leaf': 0.0, 'random_state': None, 'splitter': 'best'}\n"
     ]
    }
   ],
   "execution_count": 20
  },
  {
   "cell_type": "code",
   "metadata": {
    "ExecuteTime": {
     "end_time": "2025-09-22T06:14:53.015699Z",
     "start_time": "2025-09-22T06:13:21.605998Z"
    }
   },
   "source": [
    "# 해당 정보를 이용해서, 기본 그래프 확인.\n",
    "# 결정트리 시각화 툴 설치해서, 확인 해보기.\n",
    "from sklearn.model_selection import GridSearchCV\n",
    "\n",
    "# 규칙 노드와, 결정 노드 사이의 깊이를 임의로 정해서, 모델에게 넘겨주기\n",
    "# 모델은 전달받은 깊이를 스스로 학습해서, 최적의 깊이를 찾기.\n",
    "params = {\n",
    "  \"max_depth\" : [6,8,10,12,16,20,24]\n",
    "}\n",
    "# scoring=\"accuracy\" -> 정확도 기준\n",
    "# cv=5 -> 교차 검증 분할수 5번, 4개의 훈련셋 , 1개의 검증 , 5번 반복\n",
    "# return_train_score= True -> 훈련 데이터에 대한 성능 점수를 반환 받겠다. \n",
    "grid_cv = GridSearchCV(dt_HAR, param_grid=params, scoring=\"accuracy\", cv=5, return_train_score= True)\n",
    "\n",
    "# 교차 검증을 이용해서, 모델에 학습 시키기 \n",
    "grid_cv.fit(X_train,Y_train)\n",
    "\n",
    "#"
   ],
   "outputs": [
    {
     "data": {
      "text/plain": [
       "GridSearchCV(cv=5, estimator=DecisionTreeClassifier(),\n",
       "             param_grid={'max_depth': [6, 8, 10, 12, 16, 20, 24]},\n",
       "             return_train_score=True, scoring='accuracy')"
      ]
     },
     "execution_count": 21,
     "metadata": {},
     "output_type": "execute_result"
    }
   ],
   "execution_count": 21
  },
  {
   "cell_type": "code",
   "metadata": {
    "ExecuteTime": {
     "end_time": "2025-09-22T06:15:04.516796Z",
     "start_time": "2025-09-22T06:15:04.495796Z"
    }
   },
   "source": [
    "cv_results_df = pd.DataFrame(grid_cv.cv_results_)\n",
    "\n",
    "cv_results_df[[\"param_max_depth\", \"mean_test_score\",\"mean_train_score\"]]"
   ],
   "outputs": [
    {
     "data": {
      "text/plain": [
       "  param_max_depth  mean_test_score  mean_train_score\n",
       "0               6         0.844669          0.944913\n",
       "1               8         0.846444          0.982692\n",
       "2              10         0.844406          0.993403\n",
       "3              12         0.842774          0.997212\n",
       "4              16         0.846448          0.999626\n",
       "5              20         0.842094          0.999966\n",
       "6              24         0.843862          1.000000"
      ],
      "text/html": [
       "<div>\n",
       "<style scoped>\n",
       "    .dataframe tbody tr th:only-of-type {\n",
       "        vertical-align: middle;\n",
       "    }\n",
       "\n",
       "    .dataframe tbody tr th {\n",
       "        vertical-align: top;\n",
       "    }\n",
       "\n",
       "    .dataframe thead th {\n",
       "        text-align: right;\n",
       "    }\n",
       "</style>\n",
       "<table border=\"1\" class=\"dataframe\">\n",
       "  <thead>\n",
       "    <tr style=\"text-align: right;\">\n",
       "      <th></th>\n",
       "      <th>param_max_depth</th>\n",
       "      <th>mean_test_score</th>\n",
       "      <th>mean_train_score</th>\n",
       "    </tr>\n",
       "  </thead>\n",
       "  <tbody>\n",
       "    <tr>\n",
       "      <th>0</th>\n",
       "      <td>6</td>\n",
       "      <td>0.844669</td>\n",
       "      <td>0.944913</td>\n",
       "    </tr>\n",
       "    <tr>\n",
       "      <th>1</th>\n",
       "      <td>8</td>\n",
       "      <td>0.846444</td>\n",
       "      <td>0.982692</td>\n",
       "    </tr>\n",
       "    <tr>\n",
       "      <th>2</th>\n",
       "      <td>10</td>\n",
       "      <td>0.844406</td>\n",
       "      <td>0.993403</td>\n",
       "    </tr>\n",
       "    <tr>\n",
       "      <th>3</th>\n",
       "      <td>12</td>\n",
       "      <td>0.842774</td>\n",
       "      <td>0.997212</td>\n",
       "    </tr>\n",
       "    <tr>\n",
       "      <th>4</th>\n",
       "      <td>16</td>\n",
       "      <td>0.846448</td>\n",
       "      <td>0.999626</td>\n",
       "    </tr>\n",
       "    <tr>\n",
       "      <th>5</th>\n",
       "      <td>20</td>\n",
       "      <td>0.842094</td>\n",
       "      <td>0.999966</td>\n",
       "    </tr>\n",
       "    <tr>\n",
       "      <th>6</th>\n",
       "      <td>24</td>\n",
       "      <td>0.843862</td>\n",
       "      <td>1.000000</td>\n",
       "    </tr>\n",
       "  </tbody>\n",
       "</table>\n",
       "</div>"
      ]
     },
     "execution_count": 22,
     "metadata": {},
     "output_type": "execute_result"
    }
   ],
   "execution_count": 22
  },
  {
   "cell_type": "code",
   "metadata": {
    "ExecuteTime": {
     "end_time": "2025-09-22T06:16:04.598516Z",
     "start_time": "2025-09-22T06:16:04.589897Z"
    }
   },
   "source": [
    "print(\"최고의 평균 정확도 : {0:.4f}, 최적의 하이퍼 매개변수 : {1}\".format(grid_cv.best_score_,grid_cv.best_params_))"
   ],
   "outputs": [
    {
     "name": "stdout",
     "output_type": "stream",
     "text": [
      "최고의 평균 정확도 : 0.8464, 최적의 하이퍼 매개변수 : {'max_depth': 16}\n"
     ]
    }
   ],
   "execution_count": 23
  },
  {
   "cell_type": "code",
   "metadata": {
    "ExecuteTime": {
     "end_time": "2025-09-22T06:18:21.837095Z",
     "start_time": "2025-09-22T06:16:21.396976Z"
    }
   },
   "source": [
    "# 2번째, 교차 검증을 해서, 조금 더 정확한 결과를 확인해보기.\n",
    "params = {\n",
    "  \"max_depth\" : [8,16,20],\n",
    "  \"min_samples_split\" : [8,16,24]\n",
    "}\n",
    "\n",
    "# 모델 학습 시키기, 옵션 설정이 동일해서, 위의 코드 재사용. \n",
    "# scoring=\"accuracy\" -> 정확도 기준\n",
    "# cv=5 -> 교차 검증 분할수 5번, 4개의 훈련셋 , 1개의 검증 , 5번 반복\n",
    "# return_train_score= True -> 훈련 데이터에 대한 성능 점수를 반환 받겠다. \n",
    "grid_cv = GridSearchCV(dt_HAR, param_grid=params, scoring=\"accuracy\", cv=5, return_train_score= True)\n",
    "\n",
    "# 교차 검증을 이용해서, 모델에 학습 시키기 \n",
    "grid_cv.fit(X_train,Y_train)"
   ],
   "outputs": [
    {
     "data": {
      "text/plain": [
       "GridSearchCV(cv=5, estimator=DecisionTreeClassifier(),\n",
       "             param_grid={'max_depth': [8, 16, 20],\n",
       "                         'min_samples_split': [8, 16, 24]},\n",
       "             return_train_score=True, scoring='accuracy')"
      ]
     },
     "execution_count": 24,
     "metadata": {},
     "output_type": "execute_result"
    }
   ],
   "execution_count": 24
  },
  {
   "cell_type": "code",
   "metadata": {
    "ExecuteTime": {
     "end_time": "2025-09-22T06:18:33.506804Z",
     "start_time": "2025-09-22T06:18:33.486801Z"
    }
   },
   "source": [
    "cv_results_df = pd.DataFrame(grid_cv.cv_results_)\n",
    "# cv_results_df\n",
    "cv_results_df[[\"param_max_depth\",\"param_min_samples_split\",\"mean_test_score\",\"mean_train_score\"]]"
   ],
   "outputs": [
    {
     "data": {
      "text/plain": [
       "  param_max_depth param_min_samples_split  mean_test_score  mean_train_score\n",
       "0               8                       8         0.853519          0.981468\n",
       "1               8                      16         0.849844          0.979836\n",
       "2               8                      24         0.852430          0.978237\n",
       "3              16                       8         0.843183          0.994525\n",
       "4              16                      16         0.841687          0.990513\n",
       "5              16                      24         0.852022          0.986772\n",
       "6              20                       8         0.846038          0.994491\n",
       "7              20                      16         0.842367          0.990547\n",
       "8              20                      24         0.848213          0.986806"
      ],
      "text/html": [
       "<div>\n",
       "<style scoped>\n",
       "    .dataframe tbody tr th:only-of-type {\n",
       "        vertical-align: middle;\n",
       "    }\n",
       "\n",
       "    .dataframe tbody tr th {\n",
       "        vertical-align: top;\n",
       "    }\n",
       "\n",
       "    .dataframe thead th {\n",
       "        text-align: right;\n",
       "    }\n",
       "</style>\n",
       "<table border=\"1\" class=\"dataframe\">\n",
       "  <thead>\n",
       "    <tr style=\"text-align: right;\">\n",
       "      <th></th>\n",
       "      <th>param_max_depth</th>\n",
       "      <th>param_min_samples_split</th>\n",
       "      <th>mean_test_score</th>\n",
       "      <th>mean_train_score</th>\n",
       "    </tr>\n",
       "  </thead>\n",
       "  <tbody>\n",
       "    <tr>\n",
       "      <th>0</th>\n",
       "      <td>8</td>\n",
       "      <td>8</td>\n",
       "      <td>0.853519</td>\n",
       "      <td>0.981468</td>\n",
       "    </tr>\n",
       "    <tr>\n",
       "      <th>1</th>\n",
       "      <td>8</td>\n",
       "      <td>16</td>\n",
       "      <td>0.849844</td>\n",
       "      <td>0.979836</td>\n",
       "    </tr>\n",
       "    <tr>\n",
       "      <th>2</th>\n",
       "      <td>8</td>\n",
       "      <td>24</td>\n",
       "      <td>0.852430</td>\n",
       "      <td>0.978237</td>\n",
       "    </tr>\n",
       "    <tr>\n",
       "      <th>3</th>\n",
       "      <td>16</td>\n",
       "      <td>8</td>\n",
       "      <td>0.843183</td>\n",
       "      <td>0.994525</td>\n",
       "    </tr>\n",
       "    <tr>\n",
       "      <th>4</th>\n",
       "      <td>16</td>\n",
       "      <td>16</td>\n",
       "      <td>0.841687</td>\n",
       "      <td>0.990513</td>\n",
       "    </tr>\n",
       "    <tr>\n",
       "      <th>5</th>\n",
       "      <td>16</td>\n",
       "      <td>24</td>\n",
       "      <td>0.852022</td>\n",
       "      <td>0.986772</td>\n",
       "    </tr>\n",
       "    <tr>\n",
       "      <th>6</th>\n",
       "      <td>20</td>\n",
       "      <td>8</td>\n",
       "      <td>0.846038</td>\n",
       "      <td>0.994491</td>\n",
       "    </tr>\n",
       "    <tr>\n",
       "      <th>7</th>\n",
       "      <td>20</td>\n",
       "      <td>16</td>\n",
       "      <td>0.842367</td>\n",
       "      <td>0.990547</td>\n",
       "    </tr>\n",
       "    <tr>\n",
       "      <th>8</th>\n",
       "      <td>20</td>\n",
       "      <td>24</td>\n",
       "      <td>0.848213</td>\n",
       "      <td>0.986806</td>\n",
       "    </tr>\n",
       "  </tbody>\n",
       "</table>\n",
       "</div>"
      ]
     },
     "execution_count": 25,
     "metadata": {},
     "output_type": "execute_result"
    }
   ],
   "execution_count": 25
  },
  {
   "cell_type": "code",
   "metadata": {
    "ExecuteTime": {
     "end_time": "2025-09-22T06:18:46.576763Z",
     "start_time": "2025-09-22T06:18:46.562764Z"
    }
   },
   "source": [
    "print(\"최고의 평균 정확도 : {0:.4f}, 최적의 하이퍼 매개변수 : {1}\".format(grid_cv.best_score_,grid_cv.best_params_))"
   ],
   "outputs": [
    {
     "name": "stdout",
     "output_type": "stream",
     "text": [
      "최고의 평균 정확도 : 0.8535, 최적의 하이퍼 매개변수 : {'max_depth': 8, 'min_samples_split': 8}\n"
     ]
    }
   ],
   "execution_count": 26
  },
  {
   "cell_type": "code",
   "metadata": {
    "ExecuteTime": {
     "end_time": "2025-09-22T06:19:12.712798Z",
     "start_time": "2025-09-22T06:19:12.678822Z"
    }
   },
   "source": [
    "# 최적의 파라미터를 찾았고, 이 파라미터를 이용해서, \n",
    "# 최적의 모델을 구현해서, 다시 학습 후, 예측값을 구해서, 다시 평가 지표 점수를 확인. \n",
    "# 최적의 모델이라고 보면됨. \n",
    "best_dt_HAR = grid_cv.best_estimator_\n",
    "\n",
    "# 최적을 모델을 이용해서, 학습시키기 -> 예측값을 조회. \n",
    "best_Y_predict = best_dt_HAR.predict(X_test)\n",
    "\n",
    "# 채점, 확인하기. 정확도 얼마인지?\n",
    "best_accuracy = accuracy_score(Y_test, best_Y_predict)\n",
    "\n",
    "print(\"베스트 결정 트리 예측 정확도 : {0:.4f}\".format(best_accuracy))\n"
   ],
   "outputs": [
    {
     "name": "stdout",
     "output_type": "stream",
     "text": [
      "베스트 결정 트리 예측 정확도 : 0.8724\n"
     ]
    }
   ],
   "execution_count": 27
  },
  {
   "cell_type": "code",
   "metadata": {
    "ExecuteTime": {
     "end_time": "2025-09-22T06:19:32.867652Z",
     "start_time": "2025-09-22T06:19:32.850657Z"
    }
   },
   "source": [
    "# 간단한 막대 그래프로 시각화. \n",
    "# 독립 변수(=피처)가 : 561개 있음. 그중에서, 중요도가 높은 피처 10개를 찾아서, 그래프 그리기.\n",
    "\n",
    "import seaborn as sns \n",
    "import matplotlib.pyplot as plt  \n"
   ],
   "outputs": [],
   "execution_count": 28
  },
  {
   "cell_type": "code",
   "metadata": {
    "ExecuteTime": {
     "end_time": "2025-09-22T06:19:38.162193Z",
     "start_time": "2025-09-22T06:19:38.148193Z"
    }
   },
   "source": [
    "# 561개의 피쳐 중에서, 중요도로 10개 뽑기.\n",
    "feature_importances_values = best_dt_HAR.feature_importances_\n",
    "\n",
    "# 데이터 타입을 시리즈 라는 타입으로 변환해서, 확인, 시리즈, 행, 열이 한개씩 표현되는 데이터 구조. \n",
    "feature_importances_values_s = pd.Series(feature_importances_values, index=X_train.columns)\n",
    "\n",
    "# 내림 차순 정렬을 해서, 상위 10개만 슬라이싱으로 가져오기. \n",
    "feature_top10 = feature_importances_values_s.sort_values(ascending=False)[:10]\n",
    "\n",
    "feature_top10\n"
   ],
   "outputs": [
    {
     "data": {
      "text/plain": [
       "tGravityAcc-min()-X            0.253040\n",
       "fBodyAcc-mean()-X              0.212320\n",
       "angle(Y,gravityMean)           0.138828\n",
       "fBodyAccMag-energy()           0.115335\n",
       "tGravityAcc-arCoeff()-Z,2      0.101422\n",
       "fBodyGyro-maxInds-X            0.023941\n",
       "tBodyGyro-correlation()-Y,Z    0.016493\n",
       "tGravityAcc-energy()-Y         0.016413\n",
       "tGravityAccMag-arCoeff()1      0.015722\n",
       "tBodyGyro-max()-X              0.008876\n",
       "dtype: float64"
      ]
     },
     "execution_count": 29,
     "metadata": {},
     "output_type": "execute_result"
    }
   ],
   "execution_count": 29
  },
  {
   "cell_type": "code",
   "metadata": {
    "ExecuteTime": {
     "end_time": "2025-09-22T06:20:23.482596Z",
     "start_time": "2025-09-22T06:20:23.186974Z"
    }
   },
   "source": [
    "# 그림그리기 \n",
    "plt.figure(figsize=(10,5))\n",
    "plt.title(\"Feature Top 10\")\n",
    "sns.barplot(x=feature_top10, y = feature_top10.index)\n",
    "plt.show()"
   ],
   "outputs": [
    {
     "data": {
      "text/plain": [
       "<Figure size 1000x500 with 1 Axes>"
      ],
      "image/png": "[encoded data removed]"
     },
     "metadata": {},
     "output_type": "display_data",
     "jetTransient": {
      "display_id": null
     }
    }
   ],
   "execution_count": 30
  },
  {
   "cell_type": "markdown",
   "metadata": {},
   "source": [
    "## 시각화 도구 설치 순서\n",
    "### Graphviz를 사용한 결정트리 시각화\n",
    "### 이슈 \n",
    "### https://graphviz.gitlab.io/download/\n",
    "### 다운로드 \n",
    "\n",
    "### 설치 , 기본 설정 -> C:\\Program Files\\Graphviz 이 경로의 폴더를 복사.\n",
    "### C:\\Python\\Python310 하위에 폴더 붙여넣기.\n",
    "\n",
    "### 이동후 , 경로 -> C:\\Python\\Python310\\Graphviz\\bin\n",
    "### 시스템 환경 설정 패스에도 bin 까지만\n",
    "### \t- -bin\n",
    "### \t- -bin/dot.exe \n",
    "\t\n",
    "\n",
    "\n",
    "### 마지막 코드에 직접 추가\n",
    "### import os\n",
    "### os.environ[\"PATH\"]+=os.pathsep+'C:/Python/Python310/Graphviz/bin/'\n"
   ]
  },
  {
   "cell_type": "code",
   "metadata": {
    "ExecuteTime": {
     "end_time": "2025-09-22T06:05:26.525580Z",
     "start_time": "2025-03-04T06:38:23.631525Z"
    }
   },
   "source": "!pip install graphviz",
   "outputs": [
    {
     "name": "stdout",
     "output_type": "stream",
     "text": [
      "Defaulting to user installation because normal site-packages is not writeable\n",
      "Collecting graphviz\n",
      "  Using cached graphviz-0.20.3-py3-none-any.whl.metadata (12 kB)\n",
      "Using cached graphviz-0.20.3-py3-none-any.whl (47 kB)\n",
      "Installing collected packages: graphviz\n",
      "Successfully installed graphviz-0.20.3\n"
     ]
    }
   ],
   "execution_count": 31
  },
  {
   "cell_type": "code",
   "metadata": {
    "ExecuteTime": {
     "end_time": "2025-09-22T06:27:42.806964Z",
     "start_time": "2025-09-22T06:27:42.779961Z"
    }
   },
   "source": [
    "from sklearn.tree import export_graphviz\n",
    "export_graphviz(best_dt_HAR, out_file=\"tree.dot\", class_names=label_name, feature_names= feature_name, impurity=True, filled=True)"
   ],
   "outputs": [],
   "execution_count": 31
  },
  {
   "cell_type": "code",
   "metadata": {
    "ExecuteTime": {
     "end_time": "2025-09-22T06:28:01.926106Z",
     "start_time": "2025-09-22T06:27:57.833584Z"
    }
   },
   "source": [
    "import graphviz\n",
    "import os\n",
    "os.environ[\"PATH\"]+=os.pathsep+'C:/Program Files/Python310/Graphviz/bin'\n",
    "\n",
    "with open(\"tree.dot\") as f:\n",
    "  dot_graph = f.read()\n",
    "\n",
    "graphviz.Source(dot_graph)\n",
    "\n",
    "# 이미지 파일로 렌더링 및 저장\n",
    "# 'tree_image'라는 이름의 png 파일로 저장하고, 파일이 자동으로 열리는 것을 방지\n",
    "src.render('tree_image', format='png', view=False)\n",
    "\n",
    "print(\"이미지 파일이 'tree_image.png'로 저장되었습니다.\")"
   ],
   "outputs": [
    {
     "data": {
      "image/svg+xml": "<?xml version=\"1.0\" encoding=\"UTF-8\" standalone=\"no\"?>\n<!DOCTYPE svg PUBLIC \"-//W3C//DTD SVG 1.1//EN\"\n \"http://www.w3.org/Graphics/SVG/1.1/DTD/svg11.dtd\">\n<!-- Generated by graphviz version 14.0.0 (20250921.2048)\n -->\n<!-- Title: Tree Pages: 1 -->\n<svg width=\"9757pt\" height=\"1061pt\"\n viewBox=\"0.00 0.00 9757.00 1061.00\" xmlns=\"http://www.w3.org/2000/svg\" xmlns:xlink=\"http://www.w3.org/1999/xlink\">\n<g id=\"graph0\" class=\"graph\" transform=\"scale(1 1) rotate(0) translate(4 1057)\">\n<title>Tree</title>\n<polygon fill=\"white\" stroke=\"none\" points=\"-4,4 -4,-1057 9752.62,-1057 9752.62,4 -4,4\"/>\n<!-- 0 -->\n<g id=\"node1\" class=\"node\">\n<title>0</title>\n<polygon fill=\"#fffefe\" stroke=\"black\" points=\"5267.75,-1053 4986.25,-1053 4986.25,-966.25 5267.75,-966.25 5267.75,-1053\"/>\n<text xml:space=\"preserve\" text-anchor=\"middle\" x=\"5127\" y=\"-1035.7\" font-family=\"Helvetica,sans-Serif\" font-size=\"14.00\">tGravityAcc&#45;min()&#45;X &lt;= 0.096</text>\n<text xml:space=\"preserve\" text-anchor=\"middle\" x=\"5127\" y=\"-1019.95\" font-family=\"Helvetica,sans-Serif\" font-size=\"14.00\">gini = 0.831</text>\n<text xml:space=\"preserve\" text-anchor=\"middle\" x=\"5127\" y=\"-1004.2\" font-family=\"Helvetica,sans-Serif\" font-size=\"14.00\">samples = 7352</text>\n<text xml:space=\"preserve\" text-anchor=\"middle\" x=\"5127\" y=\"-988.45\" font-family=\"Helvetica,sans-Serif\" font-size=\"14.00\">value = [1226, 1073, 986, 1286, 1374, 1407]</text>\n<text xml:space=\"preserve\" text-anchor=\"middle\" x=\"5127\" y=\"-972.7\" font-family=\"Helvetica,sans-Serif\" font-size=\"14.00\">class = LAYING</text>\n</g>\n<!-- 1 -->\n<g id=\"node2\" class=\"node\">\n<title>1</title>\n<polygon fill=\"#e5399d\" stroke=\"black\" points=\"5097.25,-922.38 4920.75,-922.38 4920.75,-851.38 5097.25,-851.38 5097.25,-922.38\"/>\n<text xml:space=\"preserve\" text-anchor=\"middle\" x=\"5009\" y=\"-905.08\" font-family=\"Helvetica,sans-Serif\" font-size=\"14.00\">gini = 0.0</text>\n<text xml:space=\"preserve\" text-anchor=\"middle\" x=\"5009\" y=\"-889.33\" font-family=\"Helvetica,sans-Serif\" font-size=\"14.00\">samples = 1407</text>\n<text xml:space=\"preserve\" text-anchor=\"middle\" x=\"5009\" y=\"-873.58\" font-family=\"Helvetica,sans-Serif\" font-size=\"14.00\">value = [0, 0, 0, 0, 0, 1407]</text>\n<text xml:space=\"preserve\" text-anchor=\"middle\" x=\"5009\" y=\"-857.83\" font-family=\"Helvetica,sans-Serif\" font-size=\"14.00\">class = LAYING</text>\n</g>\n<!-- 0&#45;&gt;1 -->\n<g id=\"edge1\" class=\"edge\">\n<title>0&#45;&gt;1</title>\n<path fill=\"none\" stroke=\"black\" d=\"M5085.4,-966.05C5074.18,-954.58 5062.05,-942.16 5050.83,-930.68\"/>\n<polygon fill=\"black\" stroke=\"black\" points=\"5053.39,-928.29 5043.9,-923.59 5048.38,-933.18 5053.39,-928.29\"/>\n<text xml:space=\"preserve\" text-anchor=\"middle\" x=\"5042.55\" y=\"-942.08\" font-family=\"Helvetica,sans-Serif\" font-size=\"14.00\">True</text>\n</g>\n<!-- 2 -->\n<g id=\"node3\" class=\"node\">\n<title>2</title>\n<polygon fill=\"#fdfbff\" stroke=\"black\" points=\"5374.5,-930.25 5115.5,-930.25 5115.5,-843.5 5374.5,-843.5 5374.5,-930.25\"/>\n<text xml:space=\"preserve\" text-anchor=\"middle\" x=\"5245\" y=\"-912.95\" font-family=\"Helvetica,sans-Serif\" font-size=\"14.00\">fBodyAcc&#45;mean()&#45;X &lt;= &#45;0.685</text>\n<text xml:space=\"preserve\" text-anchor=\"middle\" x=\"5245\" y=\"-897.2\" font-family=\"Helvetica,sans-Serif\" font-size=\"14.00\">gini = 0.797</text>\n<text xml:space=\"preserve\" text-anchor=\"middle\" x=\"5245\" y=\"-881.45\" font-family=\"Helvetica,sans-Serif\" font-size=\"14.00\">samples = 5945</text>\n<text xml:space=\"preserve\" text-anchor=\"middle\" x=\"5245\" y=\"-865.7\" font-family=\"Helvetica,sans-Serif\" font-size=\"14.00\">value = [1226, 1073, 986, 1286, 1374, 0]</text>\n<text xml:space=\"preserve\" text-anchor=\"middle\" x=\"5245\" y=\"-849.95\" font-family=\"Helvetica,sans-Serif\" font-size=\"14.00\">class = STANDING</text>\n</g>\n<!-- 0&#45;&gt;2 -->\n<g id=\"edge2\" class=\"edge\">\n<title>0&#45;&gt;2</title>\n<path fill=\"none\" stroke=\"black\" d=\"M5168.6,-966.05C5177.33,-957.13 5186.61,-947.63 5195.59,-938.44\"/>\n<polygon fill=\"black\" stroke=\"black\" points=\"5197.83,-941.15 5202.32,-931.55 5192.83,-936.26 5197.83,-941.15\"/>\n<text xml:space=\"preserve\" text-anchor=\"middle\" x=\"5203.66\" y=\"-950.04\" font-family=\"Helvetica,sans-Serif\" font-size=\"14.00\">False</text>\n</g>\n<!-- 3 -->\n<g id=\"node4\" class=\"node\">\n<title>3</title>\n<polygon fill=\"#f7f2fd\" stroke=\"black\" points=\"3420.5,-807.5 3221.5,-807.5 3221.5,-720.75 3420.5,-720.75 3420.5,-807.5\"/>\n<text xml:space=\"preserve\" text-anchor=\"middle\" x=\"3321\" y=\"-790.2\" font-family=\"Helvetica,sans-Serif\" font-size=\"14.00\">angle(Y,gravityMean) &lt;= 0.14</text>\n<text xml:space=\"preserve\" text-anchor=\"middle\" x=\"3321\" y=\"-774.45\" font-family=\"Helvetica,sans-Serif\" font-size=\"14.00\">gini = 0.499</text>\n<text xml:space=\"preserve\" text-anchor=\"middle\" x=\"3321\" y=\"-758.7\" font-family=\"Helvetica,sans-Serif\" font-size=\"14.00\">samples = 2660</text>\n<text xml:space=\"preserve\" text-anchor=\"middle\" x=\"3321\" y=\"-742.95\" font-family=\"Helvetica,sans-Serif\" font-size=\"14.00\">value = [0, 0, 0, 1286, 1374, 0]</text>\n<text xml:space=\"preserve\" text-anchor=\"middle\" x=\"3321\" y=\"-727.2\" font-family=\"Helvetica,sans-Serif\" font-size=\"14.00\">class = STANDING</text>\n</g>\n<!-- 2&#45;&gt;3 -->\n<g id=\"edge3\" class=\"edge\">\n<title>2&#45;&gt;3</title>\n<path fill=\"none\" stroke=\"black\" d=\"M5115.02,-845.17C5111.99,-844.57 5108.98,-844.01 5106,-843.5 4781.96,-787.91 3770.68,-770.64 3432.46,-766.35\"/>\n<polygon fill=\"black\" stroke=\"black\" points=\"3432.51,-762.85 3422.47,-766.22 3432.42,-769.85 3432.51,-762.85\"/>\n</g>\n<!-- 62 -->\n<g id=\"node63\" class=\"node\">\n<title>62</title>\n<polygon fill=\"#fdf6f1\" stroke=\"black\" points=\"6628.5,-807.5 6411.5,-807.5 6411.5,-720.75 6628.5,-720.75 6628.5,-807.5\"/>\n<text xml:space=\"preserve\" text-anchor=\"middle\" x=\"6520\" y=\"-790.2\" font-family=\"Helvetica,sans-Serif\" font-size=\"14.00\">fBodyAccMag&#45;energy() &lt;= &#45;0.525</text>\n<text xml:space=\"preserve\" text-anchor=\"middle\" x=\"6520\" y=\"-774.45\" font-family=\"Helvetica,sans-Serif\" font-size=\"14.00\">gini = 0.664</text>\n<text xml:space=\"preserve\" text-anchor=\"middle\" x=\"6520\" y=\"-758.7\" font-family=\"Helvetica,sans-Serif\" font-size=\"14.00\">samples = 3285</text>\n<text xml:space=\"preserve\" text-anchor=\"middle\" x=\"6520\" y=\"-742.95\" font-family=\"Helvetica,sans-Serif\" font-size=\"14.00\">value = [1226, 1073, 986, 0, 0, 0]</text>\n<text xml:space=\"preserve\" text-anchor=\"middle\" x=\"6520\" y=\"-727.2\" font-family=\"Helvetica,sans-Serif\" font-size=\"14.00\">class = WALKING</text>\n</g>\n<!-- 2&#45;&gt;62 -->\n<g id=\"edge62\" class=\"edge\">\n<title>2&#45;&gt;62</title>\n<path fill=\"none\" stroke=\"black\" d=\"M5374.86,-873.58C5622.74,-850.1 6159.97,-799.22 6399.97,-776.49\"/>\n<polygon fill=\"black\" stroke=\"black\" points=\"6400.03,-780 6409.66,-775.57 6399.37,-773.03 6400.03,-780\"/>\n</g>\n<!-- 4 -->\n<g id=\"node5\" class=\"node\">\n<title>4</title>\n<polygon fill=\"#58ace9\" stroke=\"black\" points=\"1864.62,-684.75 1663.38,-684.75 1663.38,-598 1864.62,-598 1864.62,-684.75\"/>\n<text xml:space=\"preserve\" text-anchor=\"middle\" x=\"1764\" y=\"-667.45\" font-family=\"Helvetica,sans-Serif\" font-size=\"14.00\">tGravityAcc&#45;energy()&#45;Y &lt;= &#45;1.0</text>\n<text xml:space=\"preserve\" text-anchor=\"middle\" x=\"1764\" y=\"-651.7\" font-family=\"Helvetica,sans-Serif\" font-size=\"14.00\">gini = 0.234</text>\n<text xml:space=\"preserve\" text-anchor=\"middle\" x=\"1764\" y=\"-635.95\" font-family=\"Helvetica,sans-Serif\" font-size=\"14.00\">samples = 1357</text>\n<text xml:space=\"preserve\" text-anchor=\"middle\" x=\"1764\" y=\"-620.2\" font-family=\"Helvetica,sans-Serif\" font-size=\"14.00\">value = [0, 0, 0, 1173, 184, 0]</text>\n<text xml:space=\"preserve\" text-anchor=\"middle\" x=\"1764\" y=\"-604.45\" font-family=\"Helvetica,sans-Serif\" font-size=\"14.00\">class = SITTING</text>\n</g>\n<!-- 3&#45;&gt;4 -->\n<g id=\"edge4\" class=\"edge\">\n<title>3&#45;&gt;4</title>\n<path fill=\"none\" stroke=\"black\" d=\"M3221.23,-755.39C2944.38,-733.92 2167.78,-673.69 1876.37,-651.09\"/>\n<polygon fill=\"black\" stroke=\"black\" points=\"1876.7,-647.6 1866.46,-650.32 1876.16,-654.58 1876.7,-647.6\"/>\n</g>\n<!-- 39 -->\n<g id=\"node40\" class=\"node\">\n<title>39</title>\n<polygon fill=\"#8d4ce7\" stroke=\"black\" points=\"3416,-684.75 3226,-684.75 3226,-598 3416,-598 3416,-684.75\"/>\n<text xml:space=\"preserve\" text-anchor=\"middle\" x=\"3321\" y=\"-667.45\" font-family=\"Helvetica,sans-Serif\" font-size=\"14.00\">tBodyGyro&#45;min()&#45;X &lt;= 0.845</text>\n<text xml:space=\"preserve\" text-anchor=\"middle\" x=\"3321\" y=\"-651.7\" font-family=\"Helvetica,sans-Serif\" font-size=\"14.00\">gini = 0.158</text>\n<text xml:space=\"preserve\" text-anchor=\"middle\" x=\"3321\" y=\"-635.95\" font-family=\"Helvetica,sans-Serif\" font-size=\"14.00\">samples = 1303</text>\n<text xml:space=\"preserve\" text-anchor=\"middle\" x=\"3321\" y=\"-620.2\" font-family=\"Helvetica,sans-Serif\" font-size=\"14.00\">value = [0, 0, 0, 113, 1190, 0]</text>\n<text xml:space=\"preserve\" text-anchor=\"middle\" x=\"3321\" y=\"-604.45\" font-family=\"Helvetica,sans-Serif\" font-size=\"14.00\">class = STANDING</text>\n</g>\n<!-- 3&#45;&gt;39 -->\n<g id=\"edge39\" class=\"edge\">\n<title>3&#45;&gt;39</title>\n<path fill=\"none\" stroke=\"black\" d=\"M3321,-720.55C3321,-712.71 3321,-704.42 3321,-696.29\"/>\n<polygon fill=\"black\" stroke=\"black\" points=\"3324.5,-696.48 3321,-686.48 3317.5,-696.48 3324.5,-696.48\"/>\n</g>\n<!-- 5 -->\n<g id=\"node6\" class=\"node\">\n<title>5</title>\n<polygon fill=\"#c4a2f3\" stroke=\"black\" points=\"679.25,-562 490.75,-562 490.75,-475.25 679.25,-475.25 679.25,-562\"/>\n<text xml:space=\"preserve\" text-anchor=\"middle\" x=\"585\" y=\"-544.7\" font-family=\"Helvetica,sans-Serif\" font-size=\"14.00\">tGravityAcc&#45;max()&#45;Z &lt;= 0.06</text>\n<text xml:space=\"preserve\" text-anchor=\"middle\" x=\"585\" y=\"-528.95\" font-family=\"Helvetica,sans-Serif\" font-size=\"14.00\">gini = 0.453</text>\n<text xml:space=\"preserve\" text-anchor=\"middle\" x=\"585\" y=\"-513.2\" font-family=\"Helvetica,sans-Serif\" font-size=\"14.00\">samples = 95</text>\n<text xml:space=\"preserve\" text-anchor=\"middle\" x=\"585\" y=\"-497.45\" font-family=\"Helvetica,sans-Serif\" font-size=\"14.00\">value = [0, 0, 0, 33, 62, 0]</text>\n<text xml:space=\"preserve\" text-anchor=\"middle\" x=\"585\" y=\"-481.7\" font-family=\"Helvetica,sans-Serif\" font-size=\"14.00\">class = STANDING</text>\n</g>\n<!-- 4&#45;&gt;5 -->\n<g id=\"edge5\" class=\"edge\">\n<title>4&#45;&gt;5</title>\n<path fill=\"none\" stroke=\"black\" d=\"M1662.97,-630.03C1441.67,-607.36 915.93,-553.52 690.55,-530.43\"/>\n<polygon fill=\"black\" stroke=\"black\" points=\"691.2,-526.98 680.9,-529.45 690.49,-533.95 691.2,-526.98\"/>\n</g>\n<!-- 14 -->\n<g id=\"node15\" class=\"node\">\n<title>14</title>\n<polygon fill=\"#4ea7e8\" stroke=\"black\" points=\"1862,-562 1666,-562 1666,-475.25 1862,-475.25 1862,-562\"/>\n<text xml:space=\"preserve\" text-anchor=\"middle\" x=\"1764\" y=\"-544.7\" font-family=\"Helvetica,sans-Serif\" font-size=\"14.00\">tBodyGyro&#45;max()&#45;X &lt;= &#45;0.869</text>\n<text xml:space=\"preserve\" text-anchor=\"middle\" x=\"1764\" y=\"-528.95\" font-family=\"Helvetica,sans-Serif\" font-size=\"14.00\">gini = 0.175</text>\n<text xml:space=\"preserve\" text-anchor=\"middle\" x=\"1764\" y=\"-513.2\" font-family=\"Helvetica,sans-Serif\" font-size=\"14.00\">samples = 1262</text>\n<text xml:space=\"preserve\" text-anchor=\"middle\" x=\"1764\" y=\"-497.45\" font-family=\"Helvetica,sans-Serif\" font-size=\"14.00\">value = [0, 0, 0, 1140, 122, 0]</text>\n<text xml:space=\"preserve\" text-anchor=\"middle\" x=\"1764\" y=\"-481.7\" font-family=\"Helvetica,sans-Serif\" font-size=\"14.00\">class = SITTING</text>\n</g>\n<!-- 4&#45;&gt;14 -->\n<g id=\"edge14\" class=\"edge\">\n<title>4&#45;&gt;14</title>\n<path fill=\"none\" stroke=\"black\" d=\"M1764,-597.8C1764,-589.96 1764,-581.67 1764,-573.54\"/>\n<polygon fill=\"black\" stroke=\"black\" points=\"1767.5,-573.73 1764,-563.73 1760.5,-573.73 1767.5,-573.73\"/>\n</g>\n<!-- 6 -->\n<g id=\"node7\" class=\"node\">\n<title>6</title>\n<polygon fill=\"#843ee6\" stroke=\"black\" points=\"351,-439.25 155,-439.25 155,-352.5 351,-352.5 351,-439.25\"/>\n<text xml:space=\"preserve\" text-anchor=\"middle\" x=\"253\" y=\"-421.95\" font-family=\"Helvetica,sans-Serif\" font-size=\"14.00\">tBodyGyro&#45;max()&#45;X &lt;= &#45;0.898</text>\n<text xml:space=\"preserve\" text-anchor=\"middle\" x=\"253\" y=\"-406.2\" font-family=\"Helvetica,sans-Serif\" font-size=\"14.00\">gini = 0.044</text>\n<text xml:space=\"preserve\" text-anchor=\"middle\" x=\"253\" y=\"-390.45\" font-family=\"Helvetica,sans-Serif\" font-size=\"14.00\">samples = 44</text>\n<text xml:space=\"preserve\" text-anchor=\"middle\" x=\"253\" y=\"-374.7\" font-family=\"Helvetica,sans-Serif\" font-size=\"14.00\">value = [0, 0, 0, 1, 43, 0]</text>\n<text xml:space=\"preserve\" text-anchor=\"middle\" x=\"253\" y=\"-358.95\" font-family=\"Helvetica,sans-Serif\" font-size=\"14.00\">class = STANDING</text>\n</g>\n<!-- 5&#45;&gt;6 -->\n<g id=\"edge6\" class=\"edge\">\n<title>5&#45;&gt;6</title>\n<path fill=\"none\" stroke=\"black\" d=\"M490.31,-483.18C450.28,-468.63 403.43,-451.59 361.98,-436.51\"/>\n<polygon fill=\"black\" stroke=\"black\" points=\"363.3,-433.27 352.71,-433.14 360.91,-439.85 363.3,-433.27\"/>\n</g>\n<!-- 9 -->\n<g id=\"node10\" class=\"node\">\n<title>9</title>\n<polygon fill=\"#afd7f4\" stroke=\"black\" points=\"695.75,-439.25 474.25,-439.25 474.25,-352.5 695.75,-352.5 695.75,-439.25\"/>\n<text xml:space=\"preserve\" text-anchor=\"middle\" x=\"585\" y=\"-421.95\" font-family=\"Helvetica,sans-Serif\" font-size=\"14.00\">tBodyGyroJerk&#45;max()&#45;X &lt;= &#45;0.983</text>\n<text xml:space=\"preserve\" text-anchor=\"middle\" x=\"585\" y=\"-406.2\" font-family=\"Helvetica,sans-Serif\" font-size=\"14.00\">gini = 0.468</text>\n<text xml:space=\"preserve\" text-anchor=\"middle\" x=\"585\" y=\"-390.45\" font-family=\"Helvetica,sans-Serif\" font-size=\"14.00\">samples = 51</text>\n<text xml:space=\"preserve\" text-anchor=\"middle\" x=\"585\" y=\"-374.7\" font-family=\"Helvetica,sans-Serif\" font-size=\"14.00\">value = [0, 0, 0, 32, 19, 0]</text>\n<text xml:space=\"preserve\" text-anchor=\"middle\" x=\"585\" y=\"-358.95\" font-family=\"Helvetica,sans-Serif\" font-size=\"14.00\">class = SITTING</text>\n</g>\n<!-- 5&#45;&gt;9 -->\n<g id=\"edge9\" class=\"edge\">\n<title>5&#45;&gt;9</title>\n<path fill=\"none\" stroke=\"black\" d=\"M585,-475.05C585,-467.21 585,-458.92 585,-450.79\"/>\n<polygon fill=\"black\" stroke=\"black\" points=\"588.5,-450.98 585,-440.98 581.5,-450.98 588.5,-450.98\"/>\n</g>\n<!-- 7 -->\n<g id=\"node8\" class=\"node\">\n<title>7</title>\n<polygon fill=\"#399de5\" stroke=\"black\" points=\"154,-308.62 0,-308.62 0,-237.62 154,-237.62 154,-308.62\"/>\n<text xml:space=\"preserve\" text-anchor=\"middle\" x=\"77\" y=\"-291.32\" font-family=\"Helvetica,sans-Serif\" font-size=\"14.00\">gini = 0.0</text>\n<text xml:space=\"preserve\" text-anchor=\"middle\" x=\"77\" y=\"-275.57\" font-family=\"Helvetica,sans-Serif\" font-size=\"14.00\">samples = 1</text>\n<text xml:space=\"preserve\" text-anchor=\"middle\" x=\"77\" y=\"-259.82\" font-family=\"Helvetica,sans-Serif\" font-size=\"14.00\">value = [0, 0, 0, 1, 0, 0]</text>\n<text xml:space=\"preserve\" text-anchor=\"middle\" x=\"77\" y=\"-244.07\" font-family=\"Helvetica,sans-Serif\" font-size=\"14.00\">class = SITTING</text>\n</g>\n<!-- 6&#45;&gt;7 -->\n<g id=\"edge7\" class=\"edge\">\n<title>6&#45;&gt;7</title>\n<path fill=\"none\" stroke=\"black\" d=\"M190.95,-352.3C173.5,-340.33 154.55,-327.33 137.21,-315.43\"/>\n<polygon fill=\"black\" stroke=\"black\" points=\"139.23,-312.58 129,-309.8 135.27,-318.35 139.23,-312.58\"/>\n</g>\n<!-- 8 -->\n<g id=\"node9\" class=\"node\">\n<title>8</title>\n<polygon fill=\"#8139e5\" stroke=\"black\" points=\"333.75,-308.62 172.25,-308.62 172.25,-237.62 333.75,-237.62 333.75,-308.62\"/>\n<text xml:space=\"preserve\" text-anchor=\"middle\" x=\"253\" y=\"-291.32\" font-family=\"Helvetica,sans-Serif\" font-size=\"14.00\">gini = 0.0</text>\n<text xml:space=\"preserve\" text-anchor=\"middle\" x=\"253\" y=\"-275.57\" font-family=\"Helvetica,sans-Serif\" font-size=\"14.00\">samples = 43</text>\n<text xml:space=\"preserve\" text-anchor=\"middle\" x=\"253\" y=\"-259.82\" font-family=\"Helvetica,sans-Serif\" font-size=\"14.00\">value = [0, 0, 0, 0, 43, 0]</text>\n<text xml:space=\"preserve\" text-anchor=\"middle\" x=\"253\" y=\"-244.07\" font-family=\"Helvetica,sans-Serif\" font-size=\"14.00\">class = STANDING</text>\n</g>\n<!-- 6&#45;&gt;8 -->\n<g id=\"edge8\" class=\"edge\">\n<title>6&#45;&gt;8</title>\n<path fill=\"none\" stroke=\"black\" d=\"M253,-352.3C253,-341.83 253,-330.58 253,-319.96\"/>\n<polygon fill=\"black\" stroke=\"black\" points=\"256.5,-320.27 253,-310.27 249.5,-320.27 256.5,-320.27\"/>\n</g>\n<!-- 10 -->\n<g id=\"node11\" class=\"node\">\n<title>10</title>\n<polygon fill=\"#45a3e7\" stroke=\"black\" points=\"590,-316.5 352,-316.5 352,-229.75 590,-229.75 590,-316.5\"/>\n<text xml:space=\"preserve\" text-anchor=\"middle\" x=\"471\" y=\"-299.2\" font-family=\"Helvetica,sans-Serif\" font-size=\"14.00\">tBodyAccJerk&#45;arCoeff()&#45;X,3 &lt;= 0.411</text>\n<text xml:space=\"preserve\" text-anchor=\"middle\" x=\"471\" y=\"-283.45\" font-family=\"Helvetica,sans-Serif\" font-size=\"14.00\">gini = 0.111</text>\n<text xml:space=\"preserve\" text-anchor=\"middle\" x=\"471\" y=\"-267.7\" font-family=\"Helvetica,sans-Serif\" font-size=\"14.00\">samples = 34</text>\n<text xml:space=\"preserve\" text-anchor=\"middle\" x=\"471\" y=\"-251.95\" font-family=\"Helvetica,sans-Serif\" font-size=\"14.00\">value = [0, 0, 0, 32, 2, 0]</text>\n<text xml:space=\"preserve\" text-anchor=\"middle\" x=\"471\" y=\"-236.2\" font-family=\"Helvetica,sans-Serif\" font-size=\"14.00\">class = SITTING</text>\n</g>\n<!-- 9&#45;&gt;10 -->\n<g id=\"edge10\" class=\"edge\">\n<title>9&#45;&gt;10</title>\n<path fill=\"none\" stroke=\"black\" d=\"M544.81,-352.3C536.46,-343.47 527.59,-334.07 519,-324.97\"/>\n<polygon fill=\"black\" stroke=\"black\" points=\"521.66,-322.69 512.25,-317.82 516.57,-327.49 521.66,-322.69\"/>\n</g>\n<!-- 13 -->\n<g id=\"node14\" class=\"node\">\n<title>13</title>\n<polygon fill=\"#8139e5\" stroke=\"black\" points=\"769.75,-308.62 608.25,-308.62 608.25,-237.62 769.75,-237.62 769.75,-308.62\"/>\n<text xml:space=\"preserve\" text-anchor=\"middle\" x=\"689\" y=\"-291.32\" font-family=\"Helvetica,sans-Serif\" font-size=\"14.00\">gini = 0.0</text>\n<text xml:space=\"preserve\" text-anchor=\"middle\" x=\"689\" y=\"-275.57\" font-family=\"Helvetica,sans-Serif\" font-size=\"14.00\">samples = 17</text>\n<text xml:space=\"preserve\" text-anchor=\"middle\" x=\"689\" y=\"-259.82\" font-family=\"Helvetica,sans-Serif\" font-size=\"14.00\">value = [0, 0, 0, 0, 17, 0]</text>\n<text xml:space=\"preserve\" text-anchor=\"middle\" x=\"689\" y=\"-244.07\" font-family=\"Helvetica,sans-Serif\" font-size=\"14.00\">class = STANDING</text>\n</g>\n<!-- 9&#45;&gt;13 -->\n<g id=\"edge13\" class=\"edge\">\n<title>9&#45;&gt;13</title>\n<path fill=\"none\" stroke=\"black\" d=\"M621.67,-352.3C631.45,-340.94 642.04,-328.65 651.85,-317.26\"/>\n<polygon fill=\"black\" stroke=\"black\" points=\"654.31,-319.76 658.19,-309.9 649.01,-315.19 654.31,-319.76\"/>\n</g>\n<!-- 11 -->\n<g id=\"node12\" class=\"node\">\n<title>11</title>\n<polygon fill=\"#399de5\" stroke=\"black\" points=\"375.75,-185.88 214.25,-185.88 214.25,-114.88 375.75,-114.88 375.75,-185.88\"/>\n<text xml:space=\"preserve\" text-anchor=\"middle\" x=\"295\" y=\"-168.57\" font-family=\"Helvetica,sans-Serif\" font-size=\"14.00\">gini = 0.0</text>\n<text xml:space=\"preserve\" text-anchor=\"middle\" x=\"295\" y=\"-152.82\" font-family=\"Helvetica,sans-Serif\" font-size=\"14.00\">samples = 32</text>\n<text xml:space=\"preserve\" text-anchor=\"middle\" x=\"295\" y=\"-137.07\" font-family=\"Helvetica,sans-Serif\" font-size=\"14.00\">value = [0, 0, 0, 32, 0, 0]</text>\n<text xml:space=\"preserve\" text-anchor=\"middle\" x=\"295\" y=\"-121.33\" font-family=\"Helvetica,sans-Serif\" font-size=\"14.00\">class = SITTING</text>\n</g>\n<!-- 10&#45;&gt;11 -->\n<g id=\"edge11\" class=\"edge\">\n<title>10&#45;&gt;11</title>\n<path fill=\"none\" stroke=\"black\" d=\"M408.95,-229.55C391.5,-217.58 372.55,-204.58 355.21,-192.68\"/>\n<polygon fill=\"black\" stroke=\"black\" points=\"357.23,-189.83 347,-187.05 353.27,-195.6 357.23,-189.83\"/>\n</g>\n<!-- 12 -->\n<g id=\"node13\" class=\"node\">\n<title>12</title>\n<polygon fill=\"#8139e5\" stroke=\"black\" points=\"548,-185.88 394,-185.88 394,-114.88 548,-114.88 548,-185.88\"/>\n<text xml:space=\"preserve\" text-anchor=\"middle\" x=\"471\" y=\"-168.57\" font-family=\"Helvetica,sans-Serif\" font-size=\"14.00\">gini = 0.0</text>\n<text xml:space=\"preserve\" text-anchor=\"middle\" x=\"471\" y=\"-152.82\" font-family=\"Helvetica,sans-Serif\" font-size=\"14.00\">samples = 2</text>\n<text xml:space=\"preserve\" text-anchor=\"middle\" x=\"471\" y=\"-137.07\" font-family=\"Helvetica,sans-Serif\" font-size=\"14.00\">value = [0, 0, 0, 0, 2, 0]</text>\n<text xml:space=\"preserve\" text-anchor=\"middle\" x=\"471\" y=\"-121.33\" font-family=\"Helvetica,sans-Serif\" font-size=\"14.00\">class = STANDING</text>\n</g>\n<!-- 10&#45;&gt;12 -->\n<g id=\"edge12\" class=\"edge\">\n<title>10&#45;&gt;12</title>\n<path fill=\"none\" stroke=\"black\" d=\"M471,-229.55C471,-219.08 471,-207.83 471,-197.21\"/>\n<polygon fill=\"black\" stroke=\"black\" points=\"474.5,-197.52 471,-187.52 467.5,-197.52 474.5,-197.52\"/>\n</g>\n<!-- 15 -->\n<g id=\"node16\" class=\"node\">\n<title>15</title>\n<polygon fill=\"#40a1e6\" stroke=\"black\" points=\"1586.38,-439.25 1347.62,-439.25 1347.62,-352.5 1586.38,-352.5 1586.38,-439.25\"/>\n<text xml:space=\"preserve\" text-anchor=\"middle\" x=\"1467\" y=\"-421.95\" font-family=\"Helvetica,sans-Serif\" font-size=\"14.00\">tBodyGyro&#45;correlation()&#45;Y,Z &lt;= 0.418</text>\n<text xml:space=\"preserve\" text-anchor=\"middle\" x=\"1467\" y=\"-406.2\" font-family=\"Helvetica,sans-Serif\" font-size=\"14.00\">gini = 0.068</text>\n<text xml:space=\"preserve\" text-anchor=\"middle\" x=\"1467\" y=\"-390.45\" font-family=\"Helvetica,sans-Serif\" font-size=\"14.00\">samples = 994</text>\n<text xml:space=\"preserve\" text-anchor=\"middle\" x=\"1467\" y=\"-374.7\" font-family=\"Helvetica,sans-Serif\" font-size=\"14.00\">value = [0, 0, 0, 959, 35, 0]</text>\n<text xml:space=\"preserve\" text-anchor=\"middle\" x=\"1467\" y=\"-358.95\" font-family=\"Helvetica,sans-Serif\" font-size=\"14.00\">class = SITTING</text>\n</g>\n<!-- 14&#45;&gt;15 -->\n<g id=\"edge15\" class=\"edge\">\n<title>14&#45;&gt;15</title>\n<path fill=\"none\" stroke=\"black\" d=\"M1665.52,-477.58C1639.01,-466.81 1610.11,-455.06 1582.76,-443.94\"/>\n<polygon fill=\"black\" stroke=\"black\" points=\"1584.34,-440.8 1573.76,-440.28 1581.71,-447.29 1584.34,-440.8\"/>\n</g>\n<!-- 30 -->\n<g id=\"node31\" class=\"node\">\n<title>30</title>\n<polygon fill=\"#98ccf1\" stroke=\"black\" points=\"2071.38,-439.25 1874.62,-439.25 1874.62,-352.5 2071.38,-352.5 2071.38,-439.25\"/>\n<text xml:space=\"preserve\" text-anchor=\"middle\" x=\"1973\" y=\"-421.95\" font-family=\"Helvetica,sans-Serif\" font-size=\"14.00\">tGravityAcc&#45;max()&#45;Y &lt;= 0.069</text>\n<text xml:space=\"preserve\" text-anchor=\"middle\" x=\"1973\" y=\"-406.2\" font-family=\"Helvetica,sans-Serif\" font-size=\"14.00\">gini = 0.438</text>\n<text xml:space=\"preserve\" text-anchor=\"middle\" x=\"1973\" y=\"-390.45\" font-family=\"Helvetica,sans-Serif\" font-size=\"14.00\">samples = 268</text>\n<text xml:space=\"preserve\" text-anchor=\"middle\" x=\"1973\" y=\"-374.7\" font-family=\"Helvetica,sans-Serif\" font-size=\"14.00\">value = [0, 0, 0, 181, 87, 0]</text>\n<text xml:space=\"preserve\" text-anchor=\"middle\" x=\"1973\" y=\"-358.95\" font-family=\"Helvetica,sans-Serif\" font-size=\"14.00\">class = SITTING</text>\n</g>\n<!-- 14&#45;&gt;30 -->\n<g id=\"edge30\" class=\"edge\">\n<title>14&#45;&gt;30</title>\n<path fill=\"none\" stroke=\"black\" d=\"M1837.98,-474.88C1854.57,-465.3 1872.28,-455.06 1889.24,-445.27\"/>\n<polygon fill=\"black\" stroke=\"black\" points=\"1890.9,-448.35 1897.81,-440.32 1887.4,-442.29 1890.9,-448.35\"/>\n</g>\n<!-- 16 -->\n<g id=\"node17\" class=\"node\">\n<title>16</title>\n<polygon fill=\"#3c9fe5\" stroke=\"black\" points=\"1084.75,-316.5 899.25,-316.5 899.25,-229.75 1084.75,-229.75 1084.75,-316.5\"/>\n<text xml:space=\"preserve\" text-anchor=\"middle\" x=\"992\" y=\"-299.2\" font-family=\"Helvetica,sans-Serif\" font-size=\"14.00\">tGravityAcc&#45;min()&#45;X &lt;= 0.99</text>\n<text xml:space=\"preserve\" text-anchor=\"middle\" x=\"992\" y=\"-283.45\" font-family=\"Helvetica,sans-Serif\" font-size=\"14.00\">gini = 0.034</text>\n<text xml:space=\"preserve\" text-anchor=\"middle\" x=\"992\" y=\"-267.7\" font-family=\"Helvetica,sans-Serif\" font-size=\"14.00\">samples = 927</text>\n<text xml:space=\"preserve\" text-anchor=\"middle\" x=\"992\" y=\"-251.95\" font-family=\"Helvetica,sans-Serif\" font-size=\"14.00\">value = [0, 0, 0, 911, 16, 0]</text>\n<text xml:space=\"preserve\" text-anchor=\"middle\" x=\"992\" y=\"-236.2\" font-family=\"Helvetica,sans-Serif\" font-size=\"14.00\">class = SITTING</text>\n</g>\n<!-- 15&#45;&gt;16 -->\n<g id=\"edge16\" class=\"edge\">\n<title>15&#45;&gt;16</title>\n<path fill=\"none\" stroke=\"black\" d=\"M1347.14,-364.4C1269.73,-344.73 1170.02,-319.38 1095.97,-300.55\"/>\n<polygon fill=\"black\" stroke=\"black\" points=\"1097.25,-297.27 1086.7,-298.2 1095.53,-304.05 1097.25,-297.27\"/>\n</g>\n<!-- 23 -->\n<g id=\"node24\" class=\"node\">\n<title>23</title>\n<polygon fill=\"#87c4ef\" stroke=\"black\" points=\"1563.5,-316.5 1370.5,-316.5 1370.5,-229.75 1563.5,-229.75 1563.5,-316.5\"/>\n<text xml:space=\"preserve\" text-anchor=\"middle\" x=\"1467\" y=\"-299.2\" font-family=\"Helvetica,sans-Serif\" font-size=\"14.00\">tGravityAcc&#45;min()&#45;X &lt;= 0.961</text>\n<text xml:space=\"preserve\" text-anchor=\"middle\" x=\"1467\" y=\"-283.45\" font-family=\"Helvetica,sans-Serif\" font-size=\"14.00\">gini = 0.406</text>\n<text xml:space=\"preserve\" text-anchor=\"middle\" x=\"1467\" y=\"-267.7\" font-family=\"Helvetica,sans-Serif\" font-size=\"14.00\">samples = 67</text>\n<text xml:space=\"preserve\" text-anchor=\"middle\" x=\"1467\" y=\"-251.95\" font-family=\"Helvetica,sans-Serif\" font-size=\"14.00\">value = [0, 0, 0, 48, 19, 0]</text>\n<text xml:space=\"preserve\" text-anchor=\"middle\" x=\"1467\" y=\"-236.2\" font-family=\"Helvetica,sans-Serif\" font-size=\"14.00\">class = SITTING</text>\n</g>\n<!-- 15&#45;&gt;23 -->\n<g id=\"edge23\" class=\"edge\">\n<title>15&#45;&gt;23</title>\n<path fill=\"none\" stroke=\"black\" d=\"M1467,-352.3C1467,-344.46 1467,-336.17 1467,-328.04\"/>\n<polygon fill=\"black\" stroke=\"black\" points=\"1470.5,-328.23 1467,-318.23 1463.5,-328.23 1470.5,-328.23\"/>\n</g>\n<!-- 17 -->\n<g id=\"node18\" class=\"node\">\n<title>17</title>\n<polygon fill=\"#3a9ee5\" stroke=\"black\" points=\"816,-193.75 566,-193.75 566,-107 816,-107 816,-193.75\"/>\n<text xml:space=\"preserve\" text-anchor=\"middle\" x=\"691\" y=\"-176.45\" font-family=\"Helvetica,sans-Serif\" font-size=\"14.00\">tBodyGyroJerk&#45;arCoeff()&#45;Z,4 &lt;= &#45;0.805</text>\n<text xml:space=\"preserve\" text-anchor=\"middle\" x=\"691\" y=\"-160.7\" font-family=\"Helvetica,sans-Serif\" font-size=\"14.00\">gini = 0.012</text>\n<text xml:space=\"preserve\" text-anchor=\"middle\" x=\"691\" y=\"-144.95\" font-family=\"Helvetica,sans-Serif\" font-size=\"14.00\">samples = 851</text>\n<text xml:space=\"preserve\" text-anchor=\"middle\" x=\"691\" y=\"-129.2\" font-family=\"Helvetica,sans-Serif\" font-size=\"14.00\">value = [0, 0, 0, 846, 5, 0]</text>\n<text xml:space=\"preserve\" text-anchor=\"middle\" x=\"691\" y=\"-113.45\" font-family=\"Helvetica,sans-Serif\" font-size=\"14.00\">class = SITTING</text>\n</g>\n<!-- 16&#45;&gt;17 -->\n<g id=\"edge17\" class=\"edge\">\n<title>16&#45;&gt;17</title>\n<path fill=\"none\" stroke=\"black\" d=\"M898.82,-234.75C870.17,-223.25 838.26,-210.45 808.22,-198.4\"/>\n<polygon fill=\"black\" stroke=\"black\" points=\"809.67,-195.21 799.08,-194.73 807.06,-201.71 809.67,-195.21\"/>\n</g>\n<!-- 20 -->\n<g id=\"node21\" class=\"node\">\n<title>20</title>\n<polygon fill=\"#5baee9\" stroke=\"black\" points=\"1088.12,-193.75 895.88,-193.75 895.88,-107 1088.12,-107 1088.12,-193.75\"/>\n<text xml:space=\"preserve\" text-anchor=\"middle\" x=\"992\" y=\"-176.45\" font-family=\"Helvetica,sans-Serif\" font-size=\"14.00\">tGravityAcc&#45;min()&#45;Z &lt;= 0.067</text>\n<text xml:space=\"preserve\" text-anchor=\"middle\" x=\"992\" y=\"-160.7\" font-family=\"Helvetica,sans-Serif\" font-size=\"14.00\">gini = 0.248</text>\n<text xml:space=\"preserve\" text-anchor=\"middle\" x=\"992\" y=\"-144.95\" font-family=\"Helvetica,sans-Serif\" font-size=\"14.00\">samples = 76</text>\n<text xml:space=\"preserve\" text-anchor=\"middle\" x=\"992\" y=\"-129.2\" font-family=\"Helvetica,sans-Serif\" font-size=\"14.00\">value = [0, 0, 0, 65, 11, 0]</text>\n<text xml:space=\"preserve\" text-anchor=\"middle\" x=\"992\" y=\"-113.45\" font-family=\"Helvetica,sans-Serif\" font-size=\"14.00\">class = SITTING</text>\n</g>\n<!-- 16&#45;&gt;20 -->\n<g id=\"edge20\" class=\"edge\">\n<title>16&#45;&gt;20</title>\n<path fill=\"none\" stroke=\"black\" d=\"M992,-229.55C992,-221.71 992,-213.42 992,-205.29\"/>\n<polygon fill=\"black\" stroke=\"black\" points=\"995.5,-205.48 992,-195.48 988.5,-205.48 995.5,-205.48\"/>\n</g>\n<!-- 18 -->\n<g id=\"node19\" class=\"node\">\n<title>18</title>\n<polygon fill=\"#8139e5\" stroke=\"black\" points=\"557,-71 403,-71 403,0 557,0 557,-71\"/>\n<text xml:space=\"preserve\" text-anchor=\"middle\" x=\"480\" y=\"-53.7\" font-family=\"Helvetica,sans-Serif\" font-size=\"14.00\">gini = 0.0</text>\n<text xml:space=\"preserve\" text-anchor=\"middle\" x=\"480\" y=\"-37.95\" font-family=\"Helvetica,sans-Serif\" font-size=\"14.00\">samples = 1</text>\n<text xml:space=\"preserve\" text-anchor=\"middle\" x=\"480\" y=\"-22.2\" font-family=\"Helvetica,sans-Serif\" font-size=\"14.00\">value = [0, 0, 0, 0, 1, 0]</text>\n<text xml:space=\"preserve\" text-anchor=\"middle\" x=\"480\" y=\"-6.45\" font-family=\"Helvetica,sans-Serif\" font-size=\"14.00\">class = STANDING</text>\n</g>\n<!-- 17&#45;&gt;18 -->\n<g id=\"edge18\" class=\"edge\">\n<title>17&#45;&gt;18</title>\n<path fill=\"none\" stroke=\"black\" d=\"M610.93,-106.54C592.72,-96.8 573.43,-86.48 555.42,-76.85\"/>\n<polygon fill=\"black\" stroke=\"black\" points=\"557.08,-73.76 546.61,-72.13 553.77,-79.94 557.08,-73.76\"/>\n</g>\n<!-- 19 -->\n<g id=\"node20\" class=\"node\">\n<title>19</title>\n<polygon fill=\"#3a9de5\" stroke=\"black\" points=\"744.5,-71 575.5,-71 575.5,0 744.5,0 744.5,-71\"/>\n<text xml:space=\"preserve\" text-anchor=\"middle\" x=\"660\" y=\"-53.7\" font-family=\"Helvetica,sans-Serif\" font-size=\"14.00\">gini = 0.009</text>\n<text xml:space=\"preserve\" text-anchor=\"middle\" x=\"660\" y=\"-37.95\" font-family=\"Helvetica,sans-Serif\" font-size=\"14.00\">samples = 850</text>\n<text xml:space=\"preserve\" text-anchor=\"middle\" x=\"660\" y=\"-22.2\" font-family=\"Helvetica,sans-Serif\" font-size=\"14.00\">value = [0, 0, 0, 846, 4, 0]</text>\n<text xml:space=\"preserve\" text-anchor=\"middle\" x=\"660\" y=\"-6.45\" font-family=\"Helvetica,sans-Serif\" font-size=\"14.00\">class = SITTING</text>\n</g>\n<!-- 17&#45;&gt;19 -->\n<g id=\"edge19\" class=\"edge\">\n<title>17&#45;&gt;19</title>\n<path fill=\"none\" stroke=\"black\" d=\"M679.28,-106.7C677.06,-98.63 674.74,-90.16 672.5,-82.01\"/>\n<polygon fill=\"black\" stroke=\"black\" points=\"675.94,-81.33 669.92,-72.62 669.19,-83.19 675.94,-81.33\"/>\n</g>\n<!-- 21 -->\n<g id=\"node22\" class=\"node\">\n<title>21</title>\n<polygon fill=\"#3c9fe5\" stroke=\"black\" points=\"923.75,-71 762.25,-71 762.25,0 923.75,0 923.75,-71\"/>\n<text xml:space=\"preserve\" text-anchor=\"middle\" x=\"843\" y=\"-53.7\" font-family=\"Helvetica,sans-Serif\" font-size=\"14.00\">gini = 0.03</text>\n<text xml:space=\"preserve\" text-anchor=\"middle\" x=\"843\" y=\"-37.95\" font-family=\"Helvetica,sans-Serif\" font-size=\"14.00\">samples = 66</text>\n<text xml:space=\"preserve\" text-anchor=\"middle\" x=\"843\" y=\"-22.2\" font-family=\"Helvetica,sans-Serif\" font-size=\"14.00\">value = [0, 0, 0, 65, 1, 0]</text>\n<text xml:space=\"preserve\" text-anchor=\"middle\" x=\"843\" y=\"-6.45\" font-family=\"Helvetica,sans-Serif\" font-size=\"14.00\">class = SITTING</text>\n</g>\n<!-- 20&#45;&gt;21 -->\n<g id=\"edge21\" class=\"edge\">\n<title>20&#45;&gt;21</title>\n<path fill=\"none\" stroke=\"black\" d=\"M935.67,-106.7C923.2,-97.26 910.01,-87.27 897.61,-77.87\"/>\n<polygon fill=\"black\" stroke=\"black\" points=\"900.04,-75.32 889.96,-72.07 895.81,-80.9 900.04,-75.32\"/>\n</g>\n<!-- 22 -->\n<g id=\"node23\" class=\"node\">\n<title>22</title>\n<polygon fill=\"#8139e5\" stroke=\"black\" points=\"1103.75,-71 942.25,-71 942.25,0 1103.75,0 1103.75,-71\"/>\n<text xml:space=\"preserve\" text-anchor=\"middle\" x=\"1023\" y=\"-53.7\" font-family=\"Helvetica,sans-Serif\" font-size=\"14.00\">gini = 0.0</text>\n<text xml:space=\"preserve\" text-anchor=\"middle\" x=\"1023\" y=\"-37.95\" font-family=\"Helvetica,sans-Serif\" font-size=\"14.00\">samples = 10</text>\n<text xml:space=\"preserve\" text-anchor=\"middle\" x=\"1023\" y=\"-22.2\" font-family=\"Helvetica,sans-Serif\" font-size=\"14.00\">value = [0, 0, 0, 0, 10, 0]</text>\n<text xml:space=\"preserve\" text-anchor=\"middle\" x=\"1023\" y=\"-6.45\" font-family=\"Helvetica,sans-Serif\" font-size=\"14.00\">class = STANDING</text>\n</g>\n<!-- 20&#45;&gt;22 -->\n<g id=\"edge22\" class=\"edge\">\n<title>20&#45;&gt;22</title>\n<path fill=\"none\" stroke=\"black\" d=\"M1003.72,-106.7C1005.94,-98.63 1008.26,-90.16 1010.5,-82.01\"/>\n<polygon fill=\"black\" stroke=\"black\" points=\"1013.81,-83.19 1013.08,-72.62 1007.06,-81.33 1013.81,-83.19\"/>\n</g>\n<!-- 24 -->\n<g id=\"node25\" class=\"node\">\n<title>24</title>\n<polygon fill=\"#3e9fe6\" stroke=\"black\" points=\"1456.12,-193.75 1263.88,-193.75 1263.88,-107 1456.12,-107 1456.12,-193.75\"/>\n<text xml:space=\"preserve\" text-anchor=\"middle\" x=\"1360\" y=\"-176.45\" font-family=\"Helvetica,sans-Serif\" font-size=\"14.00\">tBodyAcc&#45;mean()&#45;X &lt;= 0.395</text>\n<text xml:space=\"preserve\" text-anchor=\"middle\" x=\"1360\" y=\"-160.7\" font-family=\"Helvetica,sans-Serif\" font-size=\"14.00\">gini = 0.046</text>\n<text xml:space=\"preserve\" text-anchor=\"middle\" x=\"1360\" y=\"-144.95\" font-family=\"Helvetica,sans-Serif\" font-size=\"14.00\">samples = 42</text>\n<text xml:space=\"preserve\" text-anchor=\"middle\" x=\"1360\" y=\"-129.2\" font-family=\"Helvetica,sans-Serif\" font-size=\"14.00\">value = [0, 0, 0, 41, 1, 0]</text>\n<text xml:space=\"preserve\" text-anchor=\"middle\" x=\"1360\" y=\"-113.45\" font-family=\"Helvetica,sans-Serif\" font-size=\"14.00\">class = SITTING</text>\n</g>\n<!-- 23&#45;&gt;24 -->\n<g id=\"edge24\" class=\"edge\">\n<title>23&#45;&gt;24</title>\n<path fill=\"none\" stroke=\"black\" d=\"M1429.28,-229.55C1421.52,-220.81 1413.29,-211.51 1405.3,-202.5\"/>\n<polygon fill=\"black\" stroke=\"black\" points=\"1408,-200.27 1398.75,-195.1 1402.76,-204.91 1408,-200.27\"/>\n</g>\n<!-- 27 -->\n<g id=\"node28\" class=\"node\">\n<title>27</title>\n<polygon fill=\"#b286ef\" stroke=\"black\" points=\"1674.25,-193.75 1473.75,-193.75 1473.75,-107 1674.25,-107 1674.25,-193.75\"/>\n<text xml:space=\"preserve\" text-anchor=\"middle\" x=\"1574\" y=\"-176.45\" font-family=\"Helvetica,sans-Serif\" font-size=\"14.00\">fBodyAccJerk&#45;sma() &lt;= &#45;0.986</text>\n<text xml:space=\"preserve\" text-anchor=\"middle\" x=\"1574\" y=\"-160.7\" font-family=\"Helvetica,sans-Serif\" font-size=\"14.00\">gini = 0.403</text>\n<text xml:space=\"preserve\" text-anchor=\"middle\" x=\"1574\" y=\"-144.95\" font-family=\"Helvetica,sans-Serif\" font-size=\"14.00\">samples = 25</text>\n<text xml:space=\"preserve\" text-anchor=\"middle\" x=\"1574\" y=\"-129.2\" font-family=\"Helvetica,sans-Serif\" font-size=\"14.00\">value = [0, 0, 0, 7, 18, 0]</text>\n<text xml:space=\"preserve\" text-anchor=\"middle\" x=\"1574\" y=\"-113.45\" font-family=\"Helvetica,sans-Serif\" font-size=\"14.00\">class = STANDING</text>\n</g>\n<!-- 23&#45;&gt;27 -->\n<g id=\"edge27\" class=\"edge\">\n<title>23&#45;&gt;27</title>\n<path fill=\"none\" stroke=\"black\" d=\"M1504.72,-229.55C1512.48,-220.81 1520.71,-211.51 1528.7,-202.5\"/>\n<polygon fill=\"black\" stroke=\"black\" points=\"1531.24,-204.91 1535.25,-195.1 1526,-200.27 1531.24,-204.91\"/>\n</g>\n<!-- 25 -->\n<g id=\"node26\" class=\"node\">\n<title>25</title>\n<polygon fill=\"#399de5\" stroke=\"black\" points=\"1283.75,-71 1122.25,-71 1122.25,0 1283.75,0 1283.75,-71\"/>\n<text xml:space=\"preserve\" text-anchor=\"middle\" x=\"1203\" y=\"-53.7\" font-family=\"Helvetica,sans-Serif\" font-size=\"14.00\">gini = 0.0</text>\n<text xml:space=\"preserve\" text-anchor=\"middle\" x=\"1203\" y=\"-37.95\" font-family=\"Helvetica,sans-Serif\" font-size=\"14.00\">samples = 41</text>\n<text xml:space=\"preserve\" text-anchor=\"middle\" x=\"1203\" y=\"-22.2\" font-family=\"Helvetica,sans-Serif\" font-size=\"14.00\">value = [0, 0, 0, 41, 0, 0]</text>\n<text xml:space=\"preserve\" text-anchor=\"middle\" x=\"1203\" y=\"-6.45\" font-family=\"Helvetica,sans-Serif\" font-size=\"14.00\">class = SITTING</text>\n</g>\n<!-- 24&#45;&gt;25 -->\n<g id=\"edge25\" class=\"edge\">\n<title>24&#45;&gt;25</title>\n<path fill=\"none\" stroke=\"black\" d=\"M1300.65,-106.7C1287.51,-97.26 1273.61,-87.27 1260.55,-77.87\"/>\n<polygon fill=\"black\" stroke=\"black\" points=\"1262.6,-75.04 1252.43,-72.04 1258.51,-80.72 1262.6,-75.04\"/>\n</g>\n<!-- 26 -->\n<g id=\"node27\" class=\"node\">\n<title>26</title>\n<polygon fill=\"#8139e5\" stroke=\"black\" points=\"1456,-71 1302,-71 1302,0 1456,0 1456,-71\"/>\n<text xml:space=\"preserve\" text-anchor=\"middle\" x=\"1379\" y=\"-53.7\" font-family=\"Helvetica,sans-Serif\" font-size=\"14.00\">gini = 0.0</text>\n<text xml:space=\"preserve\" text-anchor=\"middle\" x=\"1379\" y=\"-37.95\" font-family=\"Helvetica,sans-Serif\" font-size=\"14.00\">samples = 1</text>\n<text xml:space=\"preserve\" text-anchor=\"middle\" x=\"1379\" y=\"-22.2\" font-family=\"Helvetica,sans-Serif\" font-size=\"14.00\">value = [0, 0, 0, 0, 1, 0]</text>\n<text xml:space=\"preserve\" text-anchor=\"middle\" x=\"1379\" y=\"-6.45\" font-family=\"Helvetica,sans-Serif\" font-size=\"14.00\">class = STANDING</text>\n</g>\n<!-- 24&#45;&gt;26 -->\n<g id=\"edge26\" class=\"edge\">\n<title>24&#45;&gt;26</title>\n<path fill=\"none\" stroke=\"black\" d=\"M1367.18,-106.7C1368.53,-98.72 1369.93,-90.36 1371.29,-82.29\"/>\n<polygon fill=\"black\" stroke=\"black\" points=\"1374.71,-83.09 1372.91,-72.65 1367.8,-81.93 1374.71,-83.09\"/>\n</g>\n<!-- 28 -->\n<g id=\"node29\" class=\"node\">\n<title>28</title>\n<polygon fill=\"#8139e5\" stroke=\"black\" points=\"1635.75,-71 1474.25,-71 1474.25,0 1635.75,0 1635.75,-71\"/>\n<text xml:space=\"preserve\" text-anchor=\"middle\" x=\"1555\" y=\"-53.7\" font-family=\"Helvetica,sans-Serif\" font-size=\"14.00\">gini = 0.0</text>\n<text xml:space=\"preserve\" text-anchor=\"middle\" x=\"1555\" y=\"-37.95\" font-family=\"Helvetica,sans-Serif\" font-size=\"14.00\">samples = 18</text>\n<text xml:space=\"preserve\" text-anchor=\"middle\" x=\"1555\" y=\"-22.2\" font-family=\"Helvetica,sans-Serif\" font-size=\"14.00\">value = [0, 0, 0, 0, 18, 0]</text>\n<text xml:space=\"preserve\" text-anchor=\"middle\" x=\"1555\" y=\"-6.45\" font-family=\"Helvetica,sans-Serif\" font-size=\"14.00\">class = STANDING</text>\n</g>\n<!-- 27&#45;&gt;28 -->\n<g id=\"edge28\" class=\"edge\">\n<title>27&#45;&gt;28</title>\n<path fill=\"none\" stroke=\"black\" d=\"M1566.82,-106.7C1565.47,-98.72 1564.07,-90.36 1562.71,-82.29\"/>\n<polygon fill=\"black\" stroke=\"black\" points=\"1566.2,-81.93 1561.09,-72.65 1559.29,-83.09 1566.2,-81.93\"/>\n</g>\n<!-- 29 -->\n<g id=\"node30\" class=\"node\">\n<title>29</title>\n<polygon fill=\"#399de5\" stroke=\"black\" points=\"1808,-71 1654,-71 1654,0 1808,0 1808,-71\"/>\n<text xml:space=\"preserve\" text-anchor=\"middle\" x=\"1731\" y=\"-53.7\" font-family=\"Helvetica,sans-Serif\" font-size=\"14.00\">gini = 0.0</text>\n<text xml:space=\"preserve\" text-anchor=\"middle\" x=\"1731\" y=\"-37.95\" font-family=\"Helvetica,sans-Serif\" font-size=\"14.00\">samples = 7</text>\n<text xml:space=\"preserve\" text-anchor=\"middle\" x=\"1731\" y=\"-22.2\" font-family=\"Helvetica,sans-Serif\" font-size=\"14.00\">value = [0, 0, 0, 7, 0, 0]</text>\n<text xml:space=\"preserve\" text-anchor=\"middle\" x=\"1731\" y=\"-6.45\" font-family=\"Helvetica,sans-Serif\" font-size=\"14.00\">class = SITTING</text>\n</g>\n<!-- 27&#45;&gt;29 -->\n<g id=\"edge29\" class=\"edge\">\n<title>27&#45;&gt;29</title>\n<path fill=\"none\" stroke=\"black\" d=\"M1633.35,-106.7C1646.49,-97.26 1660.39,-87.27 1673.45,-77.87\"/>\n<polygon fill=\"black\" stroke=\"black\" points=\"1675.49,-80.72 1681.57,-72.04 1671.4,-75.04 1675.49,-80.72\"/>\n</g>\n<!-- 31 -->\n<g id=\"node32\" class=\"node\">\n<title>31</title>\n<polygon fill=\"#efe6fc\" stroke=\"black\" points=\"2065.38,-316.5 1880.62,-316.5 1880.62,-229.75 2065.38,-229.75 2065.38,-316.5\"/>\n<text xml:space=\"preserve\" text-anchor=\"middle\" x=\"1973\" y=\"-299.2\" font-family=\"Helvetica,sans-Serif\" font-size=\"14.00\">fBodyGyro&#45;iqr()&#45;Y &lt;= &#45;0.987</text>\n<text xml:space=\"preserve\" text-anchor=\"middle\" x=\"1973\" y=\"-283.45\" font-family=\"Helvetica,sans-Serif\" font-size=\"14.00\">gini = 0.498</text>\n<text xml:space=\"preserve\" text-anchor=\"middle\" x=\"1973\" y=\"-267.7\" font-family=\"Helvetica,sans-Serif\" font-size=\"14.00\">samples = 163</text>\n<text xml:space=\"preserve\" text-anchor=\"middle\" x=\"1973\" y=\"-251.95\" font-family=\"Helvetica,sans-Serif\" font-size=\"14.00\">value = [0, 0, 0, 76, 87, 0]</text>\n<text xml:space=\"preserve\" text-anchor=\"middle\" x=\"1973\" y=\"-236.2\" font-family=\"Helvetica,sans-Serif\" font-size=\"14.00\">class = STANDING</text>\n</g>\n<!-- 30&#45;&gt;31 -->\n<g id=\"edge31\" class=\"edge\">\n<title>30&#45;&gt;31</title>\n<path fill=\"none\" stroke=\"black\" d=\"M1973,-352.3C1973,-344.46 1973,-336.17 1973,-328.04\"/>\n<polygon fill=\"black\" stroke=\"black\" points=\"1976.5,-328.23 1973,-318.23 1969.5,-328.23 1976.5,-328.23\"/>\n</g>\n<!-- 38 -->\n<g id=\"node39\" class=\"node\">\n<title>38</title>\n<polygon fill=\"#399de5\" stroke=\"black\" points=\"2252.5,-308.62 2083.5,-308.62 2083.5,-237.62 2252.5,-237.62 2252.5,-308.62\"/>\n<text xml:space=\"preserve\" text-anchor=\"middle\" x=\"2168\" y=\"-291.32\" font-family=\"Helvetica,sans-Serif\" font-size=\"14.00\">gini = 0.0</text>\n<text xml:space=\"preserve\" text-anchor=\"middle\" x=\"2168\" y=\"-275.57\" font-family=\"Helvetica,sans-Serif\" font-size=\"14.00\">samples = 105</text>\n<text xml:space=\"preserve\" text-anchor=\"middle\" x=\"2168\" y=\"-259.82\" font-family=\"Helvetica,sans-Serif\" font-size=\"14.00\">value = [0, 0, 0, 105, 0, 0]</text>\n<text xml:space=\"preserve\" text-anchor=\"middle\" x=\"2168\" y=\"-244.07\" font-family=\"Helvetica,sans-Serif\" font-size=\"14.00\">class = SITTING</text>\n</g>\n<!-- 30&#45;&gt;38 -->\n<g id=\"edge38\" class=\"edge\">\n<title>30&#45;&gt;38</title>\n<path fill=\"none\" stroke=\"black\" d=\"M2042.02,-352.13C2061.52,-340.06 2082.68,-326.96 2101.99,-315\"/>\n<polygon fill=\"black\" stroke=\"black\" points=\"2103.66,-318.08 2110.32,-309.84 2099.97,-312.13 2103.66,-318.08\"/>\n</g>\n<!-- 32 -->\n<g id=\"node33\" class=\"node\">\n<title>32</title>\n<polygon fill=\"#853fe6\" stroke=\"black\" points=\"2078.12,-193.75 1867.88,-193.75 1867.88,-107 2078.12,-107 2078.12,-193.75\"/>\n<text xml:space=\"preserve\" text-anchor=\"middle\" x=\"1973\" y=\"-176.45\" font-family=\"Helvetica,sans-Serif\" font-size=\"14.00\">tBodyGyroJerk&#45;iqr()&#45;X &lt;= &#45;0.994</text>\n<text xml:space=\"preserve\" text-anchor=\"middle\" x=\"1973\" y=\"-160.7\" font-family=\"Helvetica,sans-Serif\" font-size=\"14.00\">gini = 0.057</text>\n<text xml:space=\"preserve\" text-anchor=\"middle\" x=\"1973\" y=\"-144.95\" font-family=\"Helvetica,sans-Serif\" font-size=\"14.00\">samples = 34</text>\n<text xml:space=\"preserve\" text-anchor=\"middle\" x=\"1973\" y=\"-129.2\" font-family=\"Helvetica,sans-Serif\" font-size=\"14.00\">value = [0, 0, 0, 1, 33, 0]</text>\n<text xml:space=\"preserve\" text-anchor=\"middle\" x=\"1973\" y=\"-113.45\" font-family=\"Helvetica,sans-Serif\" font-size=\"14.00\">class = STANDING</text>\n</g>\n<!-- 31&#45;&gt;32 -->\n<g id=\"edge32\" class=\"edge\">\n<title>31&#45;&gt;32</title>\n<path fill=\"none\" stroke=\"black\" d=\"M1973,-229.55C1973,-221.71 1973,-213.42 1973,-205.29\"/>\n<polygon fill=\"black\" stroke=\"black\" points=\"1976.5,-205.48 1973,-195.48 1969.5,-205.48 1976.5,-205.48\"/>\n</g>\n<!-- 35 -->\n<g id=\"node36\" class=\"node\">\n<title>35</title>\n<polygon fill=\"#c8e4f8\" stroke=\"black\" points=\"2351.38,-193.75 2166.62,-193.75 2166.62,-107 2351.38,-107 2351.38,-193.75\"/>\n<text xml:space=\"preserve\" text-anchor=\"middle\" x=\"2259\" y=\"-176.45\" font-family=\"Helvetica,sans-Serif\" font-size=\"14.00\">tBodyGyro&#45;iqr()&#45;X &lt;= &#45;0.977</text>\n<text xml:space=\"preserve\" text-anchor=\"middle\" x=\"2259\" y=\"-160.7\" font-family=\"Helvetica,sans-Serif\" font-size=\"14.00\">gini = 0.487</text>\n<text xml:space=\"preserve\" text-anchor=\"middle\" x=\"2259\" y=\"-144.95\" font-family=\"Helvetica,sans-Serif\" font-size=\"14.00\">samples = 129</text>\n<text xml:space=\"preserve\" text-anchor=\"middle\" x=\"2259\" y=\"-129.2\" font-family=\"Helvetica,sans-Serif\" font-size=\"14.00\">value = [0, 0, 0, 75, 54, 0]</text>\n<text xml:space=\"preserve\" text-anchor=\"middle\" x=\"2259\" y=\"-113.45\" font-family=\"Helvetica,sans-Serif\" font-size=\"14.00\">class = SITTING</text>\n</g>\n<!-- 31&#45;&gt;35 -->\n<g id=\"edge35\" class=\"edge\">\n<title>31&#45;&gt;35</title>\n<path fill=\"none\" stroke=\"black\" d=\"M2065.86,-232.92C2094.74,-220.72 2126.76,-207.21 2156.28,-194.74\"/>\n<polygon fill=\"black\" stroke=\"black\" points=\"2157.36,-198.09 2165.22,-190.97 2154.64,-191.64 2157.36,-198.09\"/>\n</g>\n<!-- 33 -->\n<g id=\"node34\" class=\"node\">\n<title>33</title>\n<polygon fill=\"#399de5\" stroke=\"black\" points=\"1980,-71 1826,-71 1826,0 1980,0 1980,-71\"/>\n<text xml:space=\"preserve\" text-anchor=\"middle\" x=\"1903\" y=\"-53.7\" font-family=\"Helvetica,sans-Serif\" font-size=\"14.00\">gini = 0.0</text>\n<text xml:space=\"preserve\" text-anchor=\"middle\" x=\"1903\" y=\"-37.95\" font-family=\"Helvetica,sans-Serif\" font-size=\"14.00\">samples = 1</text>\n<text xml:space=\"preserve\" text-anchor=\"middle\" x=\"1903\" y=\"-22.2\" font-family=\"Helvetica,sans-Serif\" font-size=\"14.00\">value = [0, 0, 0, 1, 0, 0]</text>\n<text xml:space=\"preserve\" text-anchor=\"middle\" x=\"1903\" y=\"-6.45\" font-family=\"Helvetica,sans-Serif\" font-size=\"14.00\">class = SITTING</text>\n</g>\n<!-- 32&#45;&gt;33 -->\n<g id=\"edge33\" class=\"edge\">\n<title>32&#45;&gt;33</title>\n<path fill=\"none\" stroke=\"black\" d=\"M1946.54,-106.7C1941.3,-98.27 1935.8,-89.39 1930.54,-80.9\"/>\n<polygon fill=\"black\" stroke=\"black\" points=\"1933.54,-79.1 1925.29,-72.44 1927.59,-82.79 1933.54,-79.1\"/>\n</g>\n<!-- 34 -->\n<g id=\"node35\" class=\"node\">\n<title>34</title>\n<polygon fill=\"#8139e5\" stroke=\"black\" points=\"2159.75,-71 1998.25,-71 1998.25,0 2159.75,0 2159.75,-71\"/>\n<text xml:space=\"preserve\" text-anchor=\"middle\" x=\"2079\" y=\"-53.7\" font-family=\"Helvetica,sans-Serif\" font-size=\"14.00\">gini = 0.0</text>\n<text xml:space=\"preserve\" text-anchor=\"middle\" x=\"2079\" y=\"-37.95\" font-family=\"Helvetica,sans-Serif\" font-size=\"14.00\">samples = 33</text>\n<text xml:space=\"preserve\" text-anchor=\"middle\" x=\"2079\" y=\"-22.2\" font-family=\"Helvetica,sans-Serif\" font-size=\"14.00\">value = [0, 0, 0, 0, 33, 0]</text>\n<text xml:space=\"preserve\" text-anchor=\"middle\" x=\"2079\" y=\"-6.45\" font-family=\"Helvetica,sans-Serif\" font-size=\"14.00\">class = STANDING</text>\n</g>\n<!-- 32&#45;&gt;34 -->\n<g id=\"edge34\" class=\"edge\">\n<title>32&#45;&gt;34</title>\n<path fill=\"none\" stroke=\"black\" d=\"M2013.07,-106.7C2021.43,-97.81 2030.24,-88.43 2038.6,-79.52\"/>\n<polygon fill=\"black\" stroke=\"black\" points=\"2041.12,-81.95 2045.42,-72.26 2036.02,-77.15 2041.12,-81.95\"/>\n</g>\n<!-- 36 -->\n<g id=\"node37\" class=\"node\">\n<title>36</title>\n<polygon fill=\"#53aae8\" stroke=\"black\" points=\"2339.75,-71 2178.25,-71 2178.25,0 2339.75,0 2339.75,-71\"/>\n<text xml:space=\"preserve\" text-anchor=\"middle\" x=\"2259\" y=\"-53.7\" font-family=\"Helvetica,sans-Serif\" font-size=\"14.00\">gini = 0.208</text>\n<text xml:space=\"preserve\" text-anchor=\"middle\" x=\"2259\" y=\"-37.95\" font-family=\"Helvetica,sans-Serif\" font-size=\"14.00\">samples = 51</text>\n<text xml:space=\"preserve\" text-anchor=\"middle\" x=\"2259\" y=\"-22.2\" font-family=\"Helvetica,sans-Serif\" font-size=\"14.00\">value = [0, 0, 0, 45, 6, 0]</text>\n<text xml:space=\"preserve\" text-anchor=\"middle\" x=\"2259\" y=\"-6.45\" font-family=\"Helvetica,sans-Serif\" font-size=\"14.00\">class = SITTING</text>\n</g>\n<!-- 35&#45;&gt;36 -->\n<g id=\"edge36\" class=\"edge\">\n<title>35&#45;&gt;36</title>\n<path fill=\"none\" stroke=\"black\" d=\"M2259,-106.7C2259,-98.82 2259,-90.55 2259,-82.57\"/>\n<polygon fill=\"black\" stroke=\"black\" points=\"2262.5,-82.67 2259,-72.67 2255.5,-82.67 2262.5,-82.67\"/>\n</g>\n<!-- 37 -->\n<g id=\"node38\" class=\"node\">\n<title>37</title>\n<polygon fill=\"#d0b5f5\" stroke=\"black\" points=\"2526.5,-71 2357.5,-71 2357.5,0 2526.5,0 2526.5,-71\"/>\n<text xml:space=\"preserve\" text-anchor=\"middle\" x=\"2442\" y=\"-53.7\" font-family=\"Helvetica,sans-Serif\" font-size=\"14.00\">gini = 0.473</text>\n<text xml:space=\"preserve\" text-anchor=\"middle\" x=\"2442\" y=\"-37.95\" font-family=\"Helvetica,sans-Serif\" font-size=\"14.00\">samples = 78</text>\n<text xml:space=\"preserve\" text-anchor=\"middle\" x=\"2442\" y=\"-22.2\" font-family=\"Helvetica,sans-Serif\" font-size=\"14.00\">value = [0, 0, 0, 30, 48, 0]</text>\n<text xml:space=\"preserve\" text-anchor=\"middle\" x=\"2442\" y=\"-6.45\" font-family=\"Helvetica,sans-Serif\" font-size=\"14.00\">class = STANDING</text>\n</g>\n<!-- 35&#45;&gt;37 -->\n<g id=\"edge37\" class=\"edge\">\n<title>35&#45;&gt;37</title>\n<path fill=\"none\" stroke=\"black\" d=\"M2328.45,-106.54C2344.02,-96.93 2360.5,-86.77 2375.93,-77.25\"/>\n<polygon fill=\"black\" stroke=\"black\" points=\"2377.43,-80.44 2384.1,-72.21 2373.75,-74.48 2377.43,-80.44\"/>\n</g>\n<!-- 40 -->\n<g id=\"node41\" class=\"node\">\n<title>40</title>\n<polygon fill=\"#8a47e7\" stroke=\"black\" points=\"3280,-562 3084,-562 3084,-475.25 3280,-475.25 3280,-562\"/>\n<text xml:space=\"preserve\" text-anchor=\"middle\" x=\"3182\" y=\"-544.7\" font-family=\"Helvetica,sans-Serif\" font-size=\"14.00\">tBodyGyro&#45;max()&#45;X &lt;= &#45;0.893</text>\n<text xml:space=\"preserve\" text-anchor=\"middle\" x=\"3182\" y=\"-528.95\" font-family=\"Helvetica,sans-Serif\" font-size=\"14.00\">gini = 0.121</text>\n<text xml:space=\"preserve\" text-anchor=\"middle\" x=\"3182\" y=\"-513.2\" font-family=\"Helvetica,sans-Serif\" font-size=\"14.00\">samples = 1240</text>\n<text xml:space=\"preserve\" text-anchor=\"middle\" x=\"3182\" y=\"-497.45\" font-family=\"Helvetica,sans-Serif\" font-size=\"14.00\">value = [0, 0, 0, 80, 1160, 0]</text>\n<text xml:space=\"preserve\" text-anchor=\"middle\" x=\"3182\" y=\"-481.7\" font-family=\"Helvetica,sans-Serif\" font-size=\"14.00\">class = STANDING</text>\n</g>\n<!-- 39&#45;&gt;40 -->\n<g id=\"edge40\" class=\"edge\">\n<title>39&#45;&gt;40</title>\n<path fill=\"none\" stroke=\"black\" d=\"M3271.99,-597.8C3261.51,-588.69 3250.34,-578.99 3239.57,-569.63\"/>\n<polygon fill=\"black\" stroke=\"black\" points=\"3242.02,-567.13 3232.17,-563.21 3237.43,-572.41 3242.02,-567.13\"/>\n</g>\n<!-- 53 -->\n<g id=\"node54\" class=\"node\">\n<title>53</title>\n<polygon fill=\"#edf6fd\" stroke=\"black\" points=\"3559.75,-562 3362.25,-562 3362.25,-475.25 3559.75,-475.25 3559.75,-562\"/>\n<text xml:space=\"preserve\" text-anchor=\"middle\" x=\"3461\" y=\"-544.7\" font-family=\"Helvetica,sans-Serif\" font-size=\"14.00\">tGravityAcc&#45;min()&#45;Y &lt;= &#45;0.139</text>\n<text xml:space=\"preserve\" text-anchor=\"middle\" x=\"3461\" y=\"-528.95\" font-family=\"Helvetica,sans-Serif\" font-size=\"14.00\">gini = 0.499</text>\n<text xml:space=\"preserve\" text-anchor=\"middle\" x=\"3461\" y=\"-513.2\" font-family=\"Helvetica,sans-Serif\" font-size=\"14.00\">samples = 63</text>\n<text xml:space=\"preserve\" text-anchor=\"middle\" x=\"3461\" y=\"-497.45\" font-family=\"Helvetica,sans-Serif\" font-size=\"14.00\">value = [0, 0, 0, 33, 30, 0]</text>\n<text xml:space=\"preserve\" text-anchor=\"middle\" x=\"3461\" y=\"-481.7\" font-family=\"Helvetica,sans-Serif\" font-size=\"14.00\">class = SITTING</text>\n</g>\n<!-- 39&#45;&gt;53 -->\n<g id=\"edge53\" class=\"edge\">\n<title>39&#45;&gt;53</title>\n<path fill=\"none\" stroke=\"black\" d=\"M3370.36,-597.8C3380.92,-588.69 3392.17,-578.99 3403.02,-569.63\"/>\n<polygon fill=\"black\" stroke=\"black\" points=\"3405.18,-572.39 3410.47,-563.21 3400.61,-567.09 3405.18,-572.39\"/>\n</g>\n<!-- 41 -->\n<g id=\"node42\" class=\"node\">\n<title>41</title>\n<polygon fill=\"#399de5\" stroke=\"black\" points=\"3043,-431.38 2889,-431.38 2889,-360.38 3043,-360.38 3043,-431.38\"/>\n<text xml:space=\"preserve\" text-anchor=\"middle\" x=\"2966\" y=\"-414.07\" font-family=\"Helvetica,sans-Serif\" font-size=\"14.00\">gini = 0.0</text>\n<text xml:space=\"preserve\" text-anchor=\"middle\" x=\"2966\" y=\"-398.32\" font-family=\"Helvetica,sans-Serif\" font-size=\"14.00\">samples = 8</text>\n<text xml:space=\"preserve\" text-anchor=\"middle\" x=\"2966\" y=\"-382.57\" font-family=\"Helvetica,sans-Serif\" font-size=\"14.00\">value = [0, 0, 0, 8, 0, 0]</text>\n<text xml:space=\"preserve\" text-anchor=\"middle\" x=\"2966\" y=\"-366.82\" font-family=\"Helvetica,sans-Serif\" font-size=\"14.00\">class = SITTING</text>\n</g>\n<!-- 40&#45;&gt;41 -->\n<g id=\"edge41\" class=\"edge\">\n<title>40&#45;&gt;41</title>\n<path fill=\"none\" stroke=\"black\" d=\"M3105.54,-474.88C3083.65,-462.65 3059.87,-449.35 3038.24,-437.26\"/>\n<polygon fill=\"black\" stroke=\"black\" points=\"3040.22,-434.36 3029.79,-432.53 3036.81,-440.47 3040.22,-434.36\"/>\n</g>\n<!-- 42 -->\n<g id=\"node43\" class=\"node\">\n<title>42</title>\n<polygon fill=\"#8945e7\" stroke=\"black\" points=\"3302.5,-439.25 3061.5,-439.25 3061.5,-352.5 3302.5,-352.5 3302.5,-439.25\"/>\n<text xml:space=\"preserve\" text-anchor=\"middle\" x=\"3182\" y=\"-421.95\" font-family=\"Helvetica,sans-Serif\" font-size=\"14.00\">tBodyGyro&#45;correlation()&#45;X,Y &lt;= 0.656</text>\n<text xml:space=\"preserve\" text-anchor=\"middle\" x=\"3182\" y=\"-406.2\" font-family=\"Helvetica,sans-Serif\" font-size=\"14.00\">gini = 0.11</text>\n<text xml:space=\"preserve\" text-anchor=\"middle\" x=\"3182\" y=\"-390.45\" font-family=\"Helvetica,sans-Serif\" font-size=\"14.00\">samples = 1232</text>\n<text xml:space=\"preserve\" text-anchor=\"middle\" x=\"3182\" y=\"-374.7\" font-family=\"Helvetica,sans-Serif\" font-size=\"14.00\">value = [0, 0, 0, 72, 1160, 0]</text>\n<text xml:space=\"preserve\" text-anchor=\"middle\" x=\"3182\" y=\"-358.95\" font-family=\"Helvetica,sans-Serif\" font-size=\"14.00\">class = STANDING</text>\n</g>\n<!-- 40&#45;&gt;42 -->\n<g id=\"edge42\" class=\"edge\">\n<title>40&#45;&gt;42</title>\n<path fill=\"none\" stroke=\"black\" d=\"M3182,-475.05C3182,-467.21 3182,-458.92 3182,-450.79\"/>\n<polygon fill=\"black\" stroke=\"black\" points=\"3185.5,-450.98 3182,-440.98 3178.5,-450.98 3185.5,-450.98\"/>\n</g>\n<!-- 43 -->\n<g id=\"node44\" class=\"node\">\n<title>43</title>\n<polygon fill=\"#8843e6\" stroke=\"black\" points=\"3026.25,-316.5 2831.75,-316.5 2831.75,-229.75 3026.25,-229.75 3026.25,-316.5\"/>\n<text xml:space=\"preserve\" text-anchor=\"middle\" x=\"2929\" y=\"-299.2\" font-family=\"Helvetica,sans-Serif\" font-size=\"14.00\">tBodyAccJerk&#45;iqr()&#45;Z &lt;= &#45;0.98</text>\n<text xml:space=\"preserve\" text-anchor=\"middle\" x=\"2929\" y=\"-283.45\" font-family=\"Helvetica,sans-Serif\" font-size=\"14.00\">gini = 0.094</text>\n<text xml:space=\"preserve\" text-anchor=\"middle\" x=\"2929\" y=\"-267.7\" font-family=\"Helvetica,sans-Serif\" font-size=\"14.00\">samples = 1214</text>\n<text xml:space=\"preserve\" text-anchor=\"middle\" x=\"2929\" y=\"-251.95\" font-family=\"Helvetica,sans-Serif\" font-size=\"14.00\">value = [0, 0, 0, 60, 1154, 0]</text>\n<text xml:space=\"preserve\" text-anchor=\"middle\" x=\"2929\" y=\"-236.2\" font-family=\"Helvetica,sans-Serif\" font-size=\"14.00\">class = STANDING</text>\n</g>\n<!-- 42&#45;&gt;43 -->\n<g id=\"edge43\" class=\"edge\">\n<title>42&#45;&gt;43</title>\n<path fill=\"none\" stroke=\"black\" d=\"M3092.45,-352.13C3071.8,-342.28 3049.72,-331.74 3028.67,-321.7\"/>\n<polygon fill=\"black\" stroke=\"black\" points=\"3030.33,-318.61 3019.8,-317.46 3027.32,-324.93 3030.33,-318.61\"/>\n</g>\n<!-- 50 -->\n<g id=\"node51\" class=\"node\">\n<title>50</title>\n<polygon fill=\"#9ccef2\" stroke=\"black\" points=\"3320.12,-316.5 3043.88,-316.5 3043.88,-229.75 3320.12,-229.75 3320.12,-316.5\"/>\n<text xml:space=\"preserve\" text-anchor=\"middle\" x=\"3182\" y=\"-299.2\" font-family=\"Helvetica,sans-Serif\" font-size=\"14.00\">fBodyBodyGyroMag&#45;meanFreq() &lt;= &#45;0.277</text>\n<text xml:space=\"preserve\" text-anchor=\"middle\" x=\"3182\" y=\"-283.45\" font-family=\"Helvetica,sans-Serif\" font-size=\"14.00\">gini = 0.444</text>\n<text xml:space=\"preserve\" text-anchor=\"middle\" x=\"3182\" y=\"-267.7\" font-family=\"Helvetica,sans-Serif\" font-size=\"14.00\">samples = 18</text>\n<text xml:space=\"preserve\" text-anchor=\"middle\" x=\"3182\" y=\"-251.95\" font-family=\"Helvetica,sans-Serif\" font-size=\"14.00\">value = [0, 0, 0, 12, 6, 0]</text>\n<text xml:space=\"preserve\" text-anchor=\"middle\" x=\"3182\" y=\"-236.2\" font-family=\"Helvetica,sans-Serif\" font-size=\"14.00\">class = SITTING</text>\n</g>\n<!-- 42&#45;&gt;50 -->\n<g id=\"edge50\" class=\"edge\">\n<title>42&#45;&gt;50</title>\n<path fill=\"none\" stroke=\"black\" d=\"M3182,-352.3C3182,-344.46 3182,-336.17 3182,-328.04\"/>\n<polygon fill=\"black\" stroke=\"black\" points=\"3185.5,-328.23 3182,-318.23 3178.5,-328.23 3185.5,-328.23\"/>\n</g>\n<!-- 44 -->\n<g id=\"node45\" class=\"node\">\n<title>44</title>\n<polygon fill=\"#823be5\" stroke=\"black\" points=\"2872.88,-193.75 2649.12,-193.75 2649.12,-107 2872.88,-107 2872.88,-193.75\"/>\n<text xml:space=\"preserve\" text-anchor=\"middle\" x=\"2761\" y=\"-176.45\" font-family=\"Helvetica,sans-Serif\" font-size=\"14.00\">tBodyGyro&#45;arCoeff()&#45;Y,1 &lt;= &#45;0.545</text>\n<text xml:space=\"preserve\" text-anchor=\"middle\" x=\"2761\" y=\"-160.7\" font-family=\"Helvetica,sans-Serif\" font-size=\"14.00\">gini = 0.022</text>\n<text xml:space=\"preserve\" text-anchor=\"middle\" x=\"2761\" y=\"-144.95\" font-family=\"Helvetica,sans-Serif\" font-size=\"14.00\">samples = 802</text>\n<text xml:space=\"preserve\" text-anchor=\"middle\" x=\"2761\" y=\"-129.2\" font-family=\"Helvetica,sans-Serif\" font-size=\"14.00\">value = [0, 0, 0, 9, 793, 0]</text>\n<text xml:space=\"preserve\" text-anchor=\"middle\" x=\"2761\" y=\"-113.45\" font-family=\"Helvetica,sans-Serif\" font-size=\"14.00\">class = STANDING</text>\n</g>\n<!-- 43&#45;&gt;44 -->\n<g id=\"edge44\" class=\"edge\">\n<title>43&#45;&gt;44</title>\n<path fill=\"none\" stroke=\"black\" d=\"M2869.77,-229.55C2856.8,-220.23 2842.96,-210.28 2829.65,-200.72\"/>\n<polygon fill=\"black\" stroke=\"black\" points=\"2831.94,-198.05 2821.77,-195.06 2827.85,-203.74 2831.94,-198.05\"/>\n</g>\n<!-- 47 -->\n<g id=\"node48\" class=\"node\">\n<title>47</title>\n<polygon fill=\"#9355e9\" stroke=\"black\" points=\"3087,-193.75 2891,-193.75 2891,-107 3087,-107 3087,-193.75\"/>\n<text xml:space=\"preserve\" text-anchor=\"middle\" x=\"2989\" y=\"-176.45\" font-family=\"Helvetica,sans-Serif\" font-size=\"14.00\">fBodyGyro&#45;max()&#45;X &lt;= &#45;0.982</text>\n<text xml:space=\"preserve\" text-anchor=\"middle\" x=\"2989\" y=\"-160.7\" font-family=\"Helvetica,sans-Serif\" font-size=\"14.00\">gini = 0.217</text>\n<text xml:space=\"preserve\" text-anchor=\"middle\" x=\"2989\" y=\"-144.95\" font-family=\"Helvetica,sans-Serif\" font-size=\"14.00\">samples = 412</text>\n<text xml:space=\"preserve\" text-anchor=\"middle\" x=\"2989\" y=\"-129.2\" font-family=\"Helvetica,sans-Serif\" font-size=\"14.00\">value = [0, 0, 0, 51, 361, 0]</text>\n<text xml:space=\"preserve\" text-anchor=\"middle\" x=\"2989\" y=\"-113.45\" font-family=\"Helvetica,sans-Serif\" font-size=\"14.00\">class = STANDING</text>\n</g>\n<!-- 43&#45;&gt;47 -->\n<g id=\"edge47\" class=\"edge\">\n<title>43&#45;&gt;47</title>\n<path fill=\"none\" stroke=\"black\" d=\"M2950.15,-229.55C2954.23,-221.35 2958.55,-212.66 2962.76,-204.17\"/>\n<polygon fill=\"black\" stroke=\"black\" points=\"2965.85,-205.84 2967.16,-195.32 2959.58,-202.72 2965.85,-205.84\"/>\n</g>\n<!-- 45 -->\n<g id=\"node46\" class=\"node\">\n<title>45</title>\n<polygon fill=\"#d5bdf6\" stroke=\"black\" points=\"2699,-71 2545,-71 2545,0 2699,0 2699,-71\"/>\n<text xml:space=\"preserve\" text-anchor=\"middle\" x=\"2622\" y=\"-53.7\" font-family=\"Helvetica,sans-Serif\" font-size=\"14.00\">gini = 0.48</text>\n<text xml:space=\"preserve\" text-anchor=\"middle\" x=\"2622\" y=\"-37.95\" font-family=\"Helvetica,sans-Serif\" font-size=\"14.00\">samples = 10</text>\n<text xml:space=\"preserve\" text-anchor=\"middle\" x=\"2622\" y=\"-22.2\" font-family=\"Helvetica,sans-Serif\" font-size=\"14.00\">value = [0, 0, 0, 4, 6, 0]</text>\n<text xml:space=\"preserve\" text-anchor=\"middle\" x=\"2622\" y=\"-6.45\" font-family=\"Helvetica,sans-Serif\" font-size=\"14.00\">class = STANDING</text>\n</g>\n<!-- 44&#45;&gt;45 -->\n<g id=\"edge45\" class=\"edge\">\n<title>44&#45;&gt;45</title>\n<path fill=\"none\" stroke=\"black\" d=\"M2708.45,-106.7C2696.93,-97.35 2684.75,-87.46 2673.29,-78.15\"/>\n<polygon fill=\"black\" stroke=\"black\" points=\"2675.82,-75.7 2665.85,-72.11 2671.41,-81.13 2675.82,-75.7\"/>\n</g>\n<!-- 46 -->\n<g id=\"node47\" class=\"node\">\n<title>46</title>\n<polygon fill=\"#823ae5\" stroke=\"black\" points=\"2886.5,-71 2717.5,-71 2717.5,0 2886.5,0 2886.5,-71\"/>\n<text xml:space=\"preserve\" text-anchor=\"middle\" x=\"2802\" y=\"-53.7\" font-family=\"Helvetica,sans-Serif\" font-size=\"14.00\">gini = 0.013</text>\n<text xml:space=\"preserve\" text-anchor=\"middle\" x=\"2802\" y=\"-37.95\" font-family=\"Helvetica,sans-Serif\" font-size=\"14.00\">samples = 792</text>\n<text xml:space=\"preserve\" text-anchor=\"middle\" x=\"2802\" y=\"-22.2\" font-family=\"Helvetica,sans-Serif\" font-size=\"14.00\">value = [0, 0, 0, 5, 787, 0]</text>\n<text xml:space=\"preserve\" text-anchor=\"middle\" x=\"2802\" y=\"-6.45\" font-family=\"Helvetica,sans-Serif\" font-size=\"14.00\">class = STANDING</text>\n</g>\n<!-- 44&#45;&gt;46 -->\n<g id=\"edge46\" class=\"edge\">\n<title>44&#45;&gt;46</title>\n<path fill=\"none\" stroke=\"black\" d=\"M2776.5,-106.7C2779.46,-98.54 2782.58,-89.97 2785.57,-81.73\"/>\n<polygon fill=\"black\" stroke=\"black\" points=\"2788.77,-83.17 2788.89,-72.58 2782.19,-80.78 2788.77,-83.17\"/>\n</g>\n<!-- 48 -->\n<g id=\"node49\" class=\"node\">\n<title>48</title>\n<polygon fill=\"#c1e0f7\" stroke=\"black\" points=\"3073.5,-71 2904.5,-71 2904.5,0 3073.5,0 3073.5,-71\"/>\n<text xml:space=\"preserve\" text-anchor=\"middle\" x=\"2989\" y=\"-53.7\" font-family=\"Helvetica,sans-Serif\" font-size=\"14.00\">gini = 0.483</text>\n<text xml:space=\"preserve\" text-anchor=\"middle\" x=\"2989\" y=\"-37.95\" font-family=\"Helvetica,sans-Serif\" font-size=\"14.00\">samples = 59</text>\n<text xml:space=\"preserve\" text-anchor=\"middle\" x=\"2989\" y=\"-22.2\" font-family=\"Helvetica,sans-Serif\" font-size=\"14.00\">value = [0, 0, 0, 35, 24, 0]</text>\n<text xml:space=\"preserve\" text-anchor=\"middle\" x=\"2989\" y=\"-6.45\" font-family=\"Helvetica,sans-Serif\" font-size=\"14.00\">class = SITTING</text>\n</g>\n<!-- 47&#45;&gt;48 -->\n<g id=\"edge48\" class=\"edge\">\n<title>47&#45;&gt;48</title>\n<path fill=\"none\" stroke=\"black\" d=\"M2989,-106.7C2989,-98.82 2989,-90.55 2989,-82.57\"/>\n<polygon fill=\"black\" stroke=\"black\" points=\"2992.5,-82.67 2989,-72.67 2985.5,-82.67 2992.5,-82.67\"/>\n</g>\n<!-- 49 -->\n<g id=\"node50\" class=\"node\">\n<title>49</title>\n<polygon fill=\"#8742e6\" stroke=\"black\" points=\"3268.25,-71 3091.75,-71 3091.75,0 3268.25,0 3268.25,-71\"/>\n<text xml:space=\"preserve\" text-anchor=\"middle\" x=\"3180\" y=\"-53.7\" font-family=\"Helvetica,sans-Serif\" font-size=\"14.00\">gini = 0.087</text>\n<text xml:space=\"preserve\" text-anchor=\"middle\" x=\"3180\" y=\"-37.95\" font-family=\"Helvetica,sans-Serif\" font-size=\"14.00\">samples = 353</text>\n<text xml:space=\"preserve\" text-anchor=\"middle\" x=\"3180\" y=\"-22.2\" font-family=\"Helvetica,sans-Serif\" font-size=\"14.00\">value = [0, 0, 0, 16, 337, 0]</text>\n<text xml:space=\"preserve\" text-anchor=\"middle\" x=\"3180\" y=\"-6.45\" font-family=\"Helvetica,sans-Serif\" font-size=\"14.00\">class = STANDING</text>\n</g>\n<!-- 47&#45;&gt;49 -->\n<g id=\"edge49\" class=\"edge\">\n<title>47&#45;&gt;49</title>\n<path fill=\"none\" stroke=\"black\" d=\"M3061.48,-106.54C3077.74,-96.93 3094.94,-86.77 3111.04,-77.25\"/>\n<polygon fill=\"black\" stroke=\"black\" points=\"3112.78,-80.29 3119.61,-72.19 3109.22,-74.26 3112.78,-80.29\"/>\n</g>\n<!-- 51 -->\n<g id=\"node52\" class=\"node\">\n<title>51</title>\n<polygon fill=\"#8139e5\" stroke=\"black\" points=\"3259,-185.88 3105,-185.88 3105,-114.88 3259,-114.88 3259,-185.88\"/>\n<text xml:space=\"preserve\" text-anchor=\"middle\" x=\"3182\" y=\"-168.57\" font-family=\"Helvetica,sans-Serif\" font-size=\"14.00\">gini = 0.0</text>\n<text xml:space=\"preserve\" text-anchor=\"middle\" x=\"3182\" y=\"-152.82\" font-family=\"Helvetica,sans-Serif\" font-size=\"14.00\">samples = 6</text>\n<text xml:space=\"preserve\" text-anchor=\"middle\" x=\"3182\" y=\"-137.07\" font-family=\"Helvetica,sans-Serif\" font-size=\"14.00\">value = [0, 0, 0, 0, 6, 0]</text>\n<text xml:space=\"preserve\" text-anchor=\"middle\" x=\"3182\" y=\"-121.33\" font-family=\"Helvetica,sans-Serif\" font-size=\"14.00\">class = STANDING</text>\n</g>\n<!-- 50&#45;&gt;51 -->\n<g id=\"edge51\" class=\"edge\">\n<title>50&#45;&gt;51</title>\n<path fill=\"none\" stroke=\"black\" d=\"M3182,-229.55C3182,-219.08 3182,-207.83 3182,-197.21\"/>\n<polygon fill=\"black\" stroke=\"black\" points=\"3185.5,-197.52 3182,-187.52 3178.5,-197.52 3185.5,-197.52\"/>\n</g>\n<!-- 52 -->\n<g id=\"node53\" class=\"node\">\n<title>52</title>\n<polygon fill=\"#399de5\" stroke=\"black\" points=\"3438.75,-185.88 3277.25,-185.88 3277.25,-114.88 3438.75,-114.88 3438.75,-185.88\"/>\n<text xml:space=\"preserve\" text-anchor=\"middle\" x=\"3358\" y=\"-168.57\" font-family=\"Helvetica,sans-Serif\" font-size=\"14.00\">gini = 0.0</text>\n<text xml:space=\"preserve\" text-anchor=\"middle\" x=\"3358\" y=\"-152.82\" font-family=\"Helvetica,sans-Serif\" font-size=\"14.00\">samples = 12</text>\n<text xml:space=\"preserve\" text-anchor=\"middle\" x=\"3358\" y=\"-137.07\" font-family=\"Helvetica,sans-Serif\" font-size=\"14.00\">value = [0, 0, 0, 12, 0, 0]</text>\n<text xml:space=\"preserve\" text-anchor=\"middle\" x=\"3358\" y=\"-121.33\" font-family=\"Helvetica,sans-Serif\" font-size=\"14.00\">class = SITTING</text>\n</g>\n<!-- 50&#45;&gt;52 -->\n<g id=\"edge52\" class=\"edge\">\n<title>50&#45;&gt;52</title>\n<path fill=\"none\" stroke=\"black\" d=\"M3244.05,-229.55C3261.5,-217.58 3280.45,-204.58 3297.79,-192.68\"/>\n<polygon fill=\"black\" stroke=\"black\" points=\"3299.73,-195.6 3306,-187.05 3295.77,-189.83 3299.73,-195.6\"/>\n</g>\n<!-- 54 -->\n<g id=\"node55\" class=\"node\">\n<title>54</title>\n<polygon fill=\"#9c64eb\" stroke=\"black\" points=\"3592,-439.25 3330,-439.25 3330,-352.5 3592,-352.5 3592,-439.25\"/>\n<text xml:space=\"preserve\" text-anchor=\"middle\" x=\"3461\" y=\"-421.95\" font-family=\"Helvetica,sans-Serif\" font-size=\"14.00\">fBodyAccJerk&#45;bandsEnergy()&#45;1,8 &lt;= &#45;1.0</text>\n<text xml:space=\"preserve\" text-anchor=\"middle\" x=\"3461\" y=\"-406.2\" font-family=\"Helvetica,sans-Serif\" font-size=\"14.00\">gini = 0.293</text>\n<text xml:space=\"preserve\" text-anchor=\"middle\" x=\"3461\" y=\"-390.45\" font-family=\"Helvetica,sans-Serif\" font-size=\"14.00\">samples = 28</text>\n<text xml:space=\"preserve\" text-anchor=\"middle\" x=\"3461\" y=\"-374.7\" font-family=\"Helvetica,sans-Serif\" font-size=\"14.00\">value = [0, 0, 0, 5, 23, 0]</text>\n<text xml:space=\"preserve\" text-anchor=\"middle\" x=\"3461\" y=\"-358.95\" font-family=\"Helvetica,sans-Serif\" font-size=\"14.00\">class = STANDING</text>\n</g>\n<!-- 53&#45;&gt;54 -->\n<g id=\"edge54\" class=\"edge\">\n<title>53&#45;&gt;54</title>\n<path fill=\"none\" stroke=\"black\" d=\"M3461,-475.05C3461,-467.21 3461,-458.92 3461,-450.79\"/>\n<polygon fill=\"black\" stroke=\"black\" points=\"3464.5,-450.98 3461,-440.98 3457.5,-450.98 3464.5,-450.98\"/>\n</g>\n<!-- 57 -->\n<g id=\"node58\" class=\"node\">\n<title>57</title>\n<polygon fill=\"#6ab6ec\" stroke=\"black\" points=\"3915.62,-439.25 3618.38,-439.25 3618.38,-352.5 3915.62,-352.5 3915.62,-439.25\"/>\n<text xml:space=\"preserve\" text-anchor=\"middle\" x=\"3767\" y=\"-421.95\" font-family=\"Helvetica,sans-Serif\" font-size=\"14.00\">angle(tBodyGyroMean,gravityMean) &lt;= &#45;0.449</text>\n<text xml:space=\"preserve\" text-anchor=\"middle\" x=\"3767\" y=\"-406.2\" font-family=\"Helvetica,sans-Serif\" font-size=\"14.00\">gini = 0.32</text>\n<text xml:space=\"preserve\" text-anchor=\"middle\" x=\"3767\" y=\"-390.45\" font-family=\"Helvetica,sans-Serif\" font-size=\"14.00\">samples = 35</text>\n<text xml:space=\"preserve\" text-anchor=\"middle\" x=\"3767\" y=\"-374.7\" font-family=\"Helvetica,sans-Serif\" font-size=\"14.00\">value = [0, 0, 0, 28, 7, 0]</text>\n<text xml:space=\"preserve\" text-anchor=\"middle\" x=\"3767\" y=\"-358.95\" font-family=\"Helvetica,sans-Serif\" font-size=\"14.00\">class = SITTING</text>\n</g>\n<!-- 53&#45;&gt;57 -->\n<g id=\"edge57\" class=\"edge\">\n<title>53&#45;&gt;57</title>\n<path fill=\"none\" stroke=\"black\" d=\"M3559.93,-478.59C3587.92,-467.54 3618.68,-455.4 3647.74,-443.94\"/>\n<polygon fill=\"black\" stroke=\"black\" points=\"3648.93,-447.23 3656.95,-440.3 3646.36,-440.72 3648.93,-447.23\"/>\n</g>\n<!-- 55 -->\n<g id=\"node56\" class=\"node\">\n<title>55</title>\n<polygon fill=\"#8139e5\" stroke=\"black\" points=\"3499.75,-308.62 3338.25,-308.62 3338.25,-237.62 3499.75,-237.62 3499.75,-308.62\"/>\n<text xml:space=\"preserve\" text-anchor=\"middle\" x=\"3419\" y=\"-291.32\" font-family=\"Helvetica,sans-Serif\" font-size=\"14.00\">gini = 0.0</text>\n<text xml:space=\"preserve\" text-anchor=\"middle\" x=\"3419\" y=\"-275.57\" font-family=\"Helvetica,sans-Serif\" font-size=\"14.00\">samples = 23</text>\n<text xml:space=\"preserve\" text-anchor=\"middle\" x=\"3419\" y=\"-259.82\" font-family=\"Helvetica,sans-Serif\" font-size=\"14.00\">value = [0, 0, 0, 0, 23, 0]</text>\n<text xml:space=\"preserve\" text-anchor=\"middle\" x=\"3419\" y=\"-244.07\" font-family=\"Helvetica,sans-Serif\" font-size=\"14.00\">class = STANDING</text>\n</g>\n<!-- 54&#45;&gt;55 -->\n<g id=\"edge55\" class=\"edge\">\n<title>54&#45;&gt;55</title>\n<path fill=\"none\" stroke=\"black\" d=\"M3446.19,-352.3C3442.51,-341.72 3438.55,-330.34 3434.82,-319.62\"/>\n<polygon fill=\"black\" stroke=\"black\" points=\"3438.13,-318.48 3431.54,-310.18 3431.52,-320.78 3438.13,-318.48\"/>\n</g>\n<!-- 56 -->\n<g id=\"node57\" class=\"node\">\n<title>56</title>\n<polygon fill=\"#399de5\" stroke=\"black\" points=\"3672,-308.62 3518,-308.62 3518,-237.62 3672,-237.62 3672,-308.62\"/>\n<text xml:space=\"preserve\" text-anchor=\"middle\" x=\"3595\" y=\"-291.32\" font-family=\"Helvetica,sans-Serif\" font-size=\"14.00\">gini = 0.0</text>\n<text xml:space=\"preserve\" text-anchor=\"middle\" x=\"3595\" y=\"-275.57\" font-family=\"Helvetica,sans-Serif\" font-size=\"14.00\">samples = 5</text>\n<text xml:space=\"preserve\" text-anchor=\"middle\" x=\"3595\" y=\"-259.82\" font-family=\"Helvetica,sans-Serif\" font-size=\"14.00\">value = [0, 0, 0, 5, 0, 0]</text>\n<text xml:space=\"preserve\" text-anchor=\"middle\" x=\"3595\" y=\"-244.07\" font-family=\"Helvetica,sans-Serif\" font-size=\"14.00\">class = SITTING</text>\n</g>\n<!-- 54&#45;&gt;56 -->\n<g id=\"edge56\" class=\"edge\">\n<title>54&#45;&gt;56</title>\n<path fill=\"none\" stroke=\"black\" d=\"M3508.24,-352.3C3521.22,-340.61 3535.29,-327.93 3548.24,-316.26\"/>\n<polygon fill=\"black\" stroke=\"black\" points=\"3550.36,-319.06 3555.45,-309.77 3545.68,-313.86 3550.36,-319.06\"/>\n</g>\n<!-- 58 -->\n<g id=\"node59\" class=\"node\">\n<title>58</title>\n<polygon fill=\"#8139e5\" stroke=\"black\" points=\"3844,-308.62 3690,-308.62 3690,-237.62 3844,-237.62 3844,-308.62\"/>\n<text xml:space=\"preserve\" text-anchor=\"middle\" x=\"3767\" y=\"-291.32\" font-family=\"Helvetica,sans-Serif\" font-size=\"14.00\">gini = 0.0</text>\n<text xml:space=\"preserve\" text-anchor=\"middle\" x=\"3767\" y=\"-275.57\" font-family=\"Helvetica,sans-Serif\" font-size=\"14.00\">samples = 5</text>\n<text xml:space=\"preserve\" text-anchor=\"middle\" x=\"3767\" y=\"-259.82\" font-family=\"Helvetica,sans-Serif\" font-size=\"14.00\">value = [0, 0, 0, 0, 5, 0]</text>\n<text xml:space=\"preserve\" text-anchor=\"middle\" x=\"3767\" y=\"-244.07\" font-family=\"Helvetica,sans-Serif\" font-size=\"14.00\">class = STANDING</text>\n</g>\n<!-- 57&#45;&gt;58 -->\n<g id=\"edge58\" class=\"edge\">\n<title>57&#45;&gt;58</title>\n<path fill=\"none\" stroke=\"black\" d=\"M3767,-352.3C3767,-341.83 3767,-330.58 3767,-319.96\"/>\n<polygon fill=\"black\" stroke=\"black\" points=\"3770.5,-320.27 3767,-310.27 3763.5,-320.27 3770.5,-320.27\"/>\n</g>\n<!-- 59 -->\n<g id=\"node60\" class=\"node\">\n<title>59</title>\n<polygon fill=\"#47a4e7\" stroke=\"black\" points=\"4122.25,-316.5 3861.75,-316.5 3861.75,-229.75 4122.25,-229.75 4122.25,-316.5\"/>\n<text xml:space=\"preserve\" text-anchor=\"middle\" x=\"3992\" y=\"-299.2\" font-family=\"Helvetica,sans-Serif\" font-size=\"14.00\">tBodyGyroJerkMag&#45;arCoeff()3 &lt;= &#45;0.209</text>\n<text xml:space=\"preserve\" text-anchor=\"middle\" x=\"3992\" y=\"-283.45\" font-family=\"Helvetica,sans-Serif\" font-size=\"14.00\">gini = 0.124</text>\n<text xml:space=\"preserve\" text-anchor=\"middle\" x=\"3992\" y=\"-267.7\" font-family=\"Helvetica,sans-Serif\" font-size=\"14.00\">samples = 30</text>\n<text xml:space=\"preserve\" text-anchor=\"middle\" x=\"3992\" y=\"-251.95\" font-family=\"Helvetica,sans-Serif\" font-size=\"14.00\">value = [0, 0, 0, 28, 2, 0]</text>\n<text xml:space=\"preserve\" text-anchor=\"middle\" x=\"3992\" y=\"-236.2\" font-family=\"Helvetica,sans-Serif\" font-size=\"14.00\">class = SITTING</text>\n</g>\n<!-- 57&#45;&gt;59 -->\n<g id=\"edge59\" class=\"edge\">\n<title>57&#45;&gt;59</title>\n<path fill=\"none\" stroke=\"black\" d=\"M3846.64,-352.13C3864.67,-342.46 3883.93,-332.12 3902.34,-322.24\"/>\n<polygon fill=\"black\" stroke=\"black\" points=\"3903.97,-325.34 3911.13,-317.53 3900.66,-319.17 3903.97,-325.34\"/>\n</g>\n<!-- 60 -->\n<g id=\"node61\" class=\"node\">\n<title>60</title>\n<polygon fill=\"#c09cf2\" stroke=\"black\" points=\"3893,-185.88 3739,-185.88 3739,-114.88 3893,-114.88 3893,-185.88\"/>\n<text xml:space=\"preserve\" text-anchor=\"middle\" x=\"3816\" y=\"-168.57\" font-family=\"Helvetica,sans-Serif\" font-size=\"14.00\">gini = 0.444</text>\n<text xml:space=\"preserve\" text-anchor=\"middle\" x=\"3816\" y=\"-152.82\" font-family=\"Helvetica,sans-Serif\" font-size=\"14.00\">samples = 3</text>\n<text xml:space=\"preserve\" text-anchor=\"middle\" x=\"3816\" y=\"-137.07\" font-family=\"Helvetica,sans-Serif\" font-size=\"14.00\">value = [0, 0, 0, 1, 2, 0]</text>\n<text xml:space=\"preserve\" text-anchor=\"middle\" x=\"3816\" y=\"-121.33\" font-family=\"Helvetica,sans-Serif\" font-size=\"14.00\">class = STANDING</text>\n</g>\n<!-- 59&#45;&gt;60 -->\n<g id=\"edge60\" class=\"edge\">\n<title>59&#45;&gt;60</title>\n<path fill=\"none\" stroke=\"black\" d=\"M3929.95,-229.55C3912.5,-217.58 3893.55,-204.58 3876.21,-192.68\"/>\n<polygon fill=\"black\" stroke=\"black\" points=\"3878.23,-189.83 3868,-187.05 3874.27,-195.6 3878.23,-189.83\"/>\n</g>\n<!-- 61 -->\n<g id=\"node62\" class=\"node\">\n<title>61</title>\n<polygon fill=\"#399de5\" stroke=\"black\" points=\"4072.75,-185.88 3911.25,-185.88 3911.25,-114.88 4072.75,-114.88 4072.75,-185.88\"/>\n<text xml:space=\"preserve\" text-anchor=\"middle\" x=\"3992\" y=\"-168.57\" font-family=\"Helvetica,sans-Serif\" font-size=\"14.00\">gini = 0.0</text>\n<text xml:space=\"preserve\" text-anchor=\"middle\" x=\"3992\" y=\"-152.82\" font-family=\"Helvetica,sans-Serif\" font-size=\"14.00\">samples = 27</text>\n<text xml:space=\"preserve\" text-anchor=\"middle\" x=\"3992\" y=\"-137.07\" font-family=\"Helvetica,sans-Serif\" font-size=\"14.00\">value = [0, 0, 0, 27, 0, 0]</text>\n<text xml:space=\"preserve\" text-anchor=\"middle\" x=\"3992\" y=\"-121.33\" font-family=\"Helvetica,sans-Serif\" font-size=\"14.00\">class = SITTING</text>\n</g>\n<!-- 59&#45;&gt;61 -->\n<g id=\"edge61\" class=\"edge\">\n<title>59&#45;&gt;61</title>\n<path fill=\"none\" stroke=\"black\" d=\"M3992,-229.55C3992,-219.08 3992,-207.83 3992,-197.21\"/>\n<polygon fill=\"black\" stroke=\"black\" points=\"3995.5,-197.52 3992,-187.52 3988.5,-197.52 3995.5,-197.52\"/>\n</g>\n<!-- 63 -->\n<g id=\"node64\" class=\"node\">\n<title>63</title>\n<polygon fill=\"#fbebdf\" stroke=\"black\" points=\"6632.62,-684.75 6407.38,-684.75 6407.38,-598 6632.62,-598 6632.62,-684.75\"/>\n<text xml:space=\"preserve\" text-anchor=\"middle\" x=\"6520\" y=\"-667.45\" font-family=\"Helvetica,sans-Serif\" font-size=\"14.00\">tGravityAcc&#45;arCoeff()&#45;Z,2 &lt;= 0.564</text>\n<text xml:space=\"preserve\" text-anchor=\"middle\" x=\"6520\" y=\"-651.7\" font-family=\"Helvetica,sans-Serif\" font-size=\"14.00\">gini = 0.56</text>\n<text xml:space=\"preserve\" text-anchor=\"middle\" x=\"6520\" y=\"-635.95\" font-family=\"Helvetica,sans-Serif\" font-size=\"14.00\">samples = 2364</text>\n<text xml:space=\"preserve\" text-anchor=\"middle\" x=\"6520\" y=\"-620.2\" font-family=\"Helvetica,sans-Serif\" font-size=\"14.00\">value = [1207, 987, 170, 0, 0, 0]</text>\n<text xml:space=\"preserve\" text-anchor=\"middle\" x=\"6520\" y=\"-604.45\" font-family=\"Helvetica,sans-Serif\" font-size=\"14.00\">class = WALKING</text>\n</g>\n<!-- 62&#45;&gt;63 -->\n<g id=\"edge63\" class=\"edge\">\n<title>62&#45;&gt;63</title>\n<path fill=\"none\" stroke=\"black\" d=\"M6520,-720.55C6520,-712.71 6520,-704.42 6520,-696.29\"/>\n<polygon fill=\"black\" stroke=\"black\" points=\"6523.5,-696.48 6520,-686.48 6516.5,-696.48 6523.5,-696.48\"/>\n</g>\n<!-- 114 -->\n<g id=\"node115\" class=\"node\">\n<title>114</title>\n<polygon fill=\"#52e891\" stroke=\"black\" points=\"9148.38,-684.75 8909.62,-684.75 8909.62,-598 9148.38,-598 9148.38,-684.75\"/>\n<text xml:space=\"preserve\" text-anchor=\"middle\" x=\"9029\" y=\"-667.45\" font-family=\"Helvetica,sans-Serif\" font-size=\"14.00\">tBodyGyro&#45;correlation()&#45;Y,Z &lt;= 0.276</text>\n<text xml:space=\"preserve\" text-anchor=\"middle\" x=\"9029\" y=\"-651.7\" font-family=\"Helvetica,sans-Serif\" font-size=\"14.00\">gini = 0.206</text>\n<text xml:space=\"preserve\" text-anchor=\"middle\" x=\"9029\" y=\"-635.95\" font-family=\"Helvetica,sans-Serif\" font-size=\"14.00\">samples = 921</text>\n<text xml:space=\"preserve\" text-anchor=\"middle\" x=\"9029\" y=\"-620.2\" font-family=\"Helvetica,sans-Serif\" font-size=\"14.00\">value = [19, 86, 816, 0, 0, 0]</text>\n<text xml:space=\"preserve\" text-anchor=\"middle\" x=\"9029\" y=\"-604.45\" font-family=\"Helvetica,sans-Serif\" font-size=\"14.00\">class = WALKING_DOWNSTAIRS</text>\n</g>\n<!-- 62&#45;&gt;114 -->\n<g id=\"edge114\" class=\"edge\">\n<title>62&#45;&gt;114</title>\n<path fill=\"none\" stroke=\"black\" d=\"M6628.61,-757.9C7033.94,-738.39 8457.38,-669.89 8898,-648.68\"/>\n<polygon fill=\"black\" stroke=\"black\" points=\"8898.15,-652.18 8907.97,-648.2 8897.82,-645.18 8898.15,-652.18\"/>\n</g>\n<!-- 64 -->\n<g id=\"node65\" class=\"node\">\n<title>64</title>\n<polygon fill=\"#eb9d66\" stroke=\"black\" points=\"6021.25,-562 5808.75,-562 5808.75,-475.25 6021.25,-475.25 6021.25,-562\"/>\n<text xml:space=\"preserve\" text-anchor=\"middle\" x=\"5915\" y=\"-544.7\" font-family=\"Helvetica,sans-Serif\" font-size=\"14.00\">fBodyGyro&#45;maxInds&#45;X &lt;= &#45;0.967</text>\n<text xml:space=\"preserve\" text-anchor=\"middle\" x=\"5915\" y=\"-528.95\" font-family=\"Helvetica,sans-Serif\" font-size=\"14.00\">gini = 0.343</text>\n<text xml:space=\"preserve\" text-anchor=\"middle\" x=\"5915\" y=\"-513.2\" font-family=\"Helvetica,sans-Serif\" font-size=\"14.00\">samples = 1367</text>\n<text xml:space=\"preserve\" text-anchor=\"middle\" x=\"5915\" y=\"-497.45\" font-family=\"Helvetica,sans-Serif\" font-size=\"14.00\">value = [1091, 143, 133, 0, 0, 0]</text>\n<text xml:space=\"preserve\" text-anchor=\"middle\" x=\"5915\" y=\"-481.7\" font-family=\"Helvetica,sans-Serif\" font-size=\"14.00\">class = WALKING</text>\n</g>\n<!-- 63&#45;&gt;64 -->\n<g id=\"edge64\" class=\"edge\">\n<title>63&#45;&gt;64</title>\n<path fill=\"none\" stroke=\"black\" d=\"M6406.91,-617.8C6300.3,-596.53 6141.17,-564.77 6032.99,-543.17\"/>\n<polygon fill=\"black\" stroke=\"black\" points=\"6033.67,-539.74 6023.18,-541.22 6032.3,-546.61 6033.67,-539.74\"/>\n</g>\n<!-- 93 -->\n<g id=\"node94\" class=\"node\">\n<title>93</title>\n<polygon fill=\"#aeea5b\" stroke=\"black\" points=\"7076.88,-562 6877.12,-562 6877.12,-475.25 7076.88,-475.25 7076.88,-562\"/>\n<text xml:space=\"preserve\" text-anchor=\"middle\" x=\"6977\" y=\"-544.7\" font-family=\"Helvetica,sans-Serif\" font-size=\"14.00\">tGravityAcc&#45;min()&#45;X &lt;= 0.956</text>\n<text xml:space=\"preserve\" text-anchor=\"middle\" x=\"6977\" y=\"-528.95\" font-family=\"Helvetica,sans-Serif\" font-size=\"14.00\">gini = 0.268</text>\n<text xml:space=\"preserve\" text-anchor=\"middle\" x=\"6977\" y=\"-513.2\" font-family=\"Helvetica,sans-Serif\" font-size=\"14.00\">samples = 997</text>\n<text xml:space=\"preserve\" text-anchor=\"middle\" x=\"6977\" y=\"-497.45\" font-family=\"Helvetica,sans-Serif\" font-size=\"14.00\">value = [116, 844, 37, 0, 0, 0]</text>\n<text xml:space=\"preserve\" text-anchor=\"middle\" x=\"6977\" y=\"-481.7\" font-family=\"Helvetica,sans-Serif\" font-size=\"14.00\">class = WALKING_UPSTAIRS</text>\n</g>\n<!-- 63&#45;&gt;93 -->\n<g id=\"edge93\" class=\"edge\">\n<title>63&#45;&gt;93</title>\n<path fill=\"none\" stroke=\"black\" d=\"M6632.97,-610.53C6704.12,-591.73 6795.55,-567.57 6866.27,-548.88\"/>\n<polygon fill=\"black\" stroke=\"black\" points=\"6866.75,-552.38 6875.52,-546.44 6864.96,-545.61 6866.75,-552.38\"/>\n</g>\n<!-- 65 -->\n<g id=\"node66\" class=\"node\">\n<title>65</title>\n<polygon fill=\"#f6fded\" stroke=\"black\" points=\"5126.88,-439.25 4927.12,-439.25 4927.12,-352.5 5126.88,-352.5 5126.88,-439.25\"/>\n<text xml:space=\"preserve\" text-anchor=\"middle\" x=\"5027\" y=\"-421.95\" font-family=\"Helvetica,sans-Serif\" font-size=\"14.00\">fBodyAcc&#45;max()&#45;Y &lt;= &#45;0.298</text>\n<text xml:space=\"preserve\" text-anchor=\"middle\" x=\"5027\" y=\"-406.2\" font-family=\"Helvetica,sans-Serif\" font-size=\"14.00\">gini = 0.57</text>\n<text xml:space=\"preserve\" text-anchor=\"middle\" x=\"5027\" y=\"-390.45\" font-family=\"Helvetica,sans-Serif\" font-size=\"14.00\">samples = 159</text>\n<text xml:space=\"preserve\" text-anchor=\"middle\" x=\"5027\" y=\"-374.7\" font-family=\"Helvetica,sans-Serif\" font-size=\"14.00\">value = [13, 77, 69, 0, 0, 0]</text>\n<text xml:space=\"preserve\" text-anchor=\"middle\" x=\"5027\" y=\"-358.95\" font-family=\"Helvetica,sans-Serif\" font-size=\"14.00\">class = WALKING_UPSTAIRS</text>\n</g>\n<!-- 64&#45;&gt;65 -->\n<g id=\"edge65\" class=\"edge\">\n<title>64&#45;&gt;65</title>\n<path fill=\"none\" stroke=\"black\" d=\"M5808.33,-503.12C5639.09,-480.11 5310.65,-435.44 5138.46,-412.03\"/>\n<polygon fill=\"black\" stroke=\"black\" points=\"5138.97,-408.57 5128.59,-410.69 5138.03,-415.51 5138.97,-408.57\"/>\n</g>\n<!-- 78 -->\n<g id=\"node79\" class=\"node\">\n<title>78</title>\n<polygon fill=\"#e88f50\" stroke=\"black\" points=\"6035.12,-439.25 5794.88,-439.25 5794.88,-352.5 6035.12,-352.5 6035.12,-439.25\"/>\n<text xml:space=\"preserve\" text-anchor=\"middle\" x=\"5915\" y=\"-421.95\" font-family=\"Helvetica,sans-Serif\" font-size=\"14.00\">tGravityAccMag&#45;arCoeff()1 &lt;= &#45;0.343</text>\n<text xml:space=\"preserve\" text-anchor=\"middle\" x=\"5915\" y=\"-406.2\" font-family=\"Helvetica,sans-Serif\" font-size=\"14.00\">gini = 0.198</text>\n<text xml:space=\"preserve\" text-anchor=\"middle\" x=\"5915\" y=\"-390.45\" font-family=\"Helvetica,sans-Serif\" font-size=\"14.00\">samples = 1208</text>\n<text xml:space=\"preserve\" text-anchor=\"middle\" x=\"5915\" y=\"-374.7\" font-family=\"Helvetica,sans-Serif\" font-size=\"14.00\">value = [1078, 66, 64, 0, 0, 0]</text>\n<text xml:space=\"preserve\" text-anchor=\"middle\" x=\"5915\" y=\"-358.95\" font-family=\"Helvetica,sans-Serif\" font-size=\"14.00\">class = WALKING</text>\n</g>\n<!-- 64&#45;&gt;78 -->\n<g id=\"edge78\" class=\"edge\">\n<title>64&#45;&gt;78</title>\n<path fill=\"none\" stroke=\"black\" d=\"M5915,-475.05C5915,-467.21 5915,-458.92 5915,-450.79\"/>\n<polygon fill=\"black\" stroke=\"black\" points=\"5918.5,-450.98 5915,-440.98 5911.5,-450.98 5918.5,-450.98\"/>\n</g>\n<!-- 66 -->\n<g id=\"node67\" class=\"node\">\n<title>66</title>\n<polygon fill=\"#68eb9f\" stroke=\"black\" points=\"4655,-316.5 4417,-316.5 4417,-229.75 4655,-229.75 4655,-316.5\"/>\n<text xml:space=\"preserve\" text-anchor=\"middle\" x=\"4536\" y=\"-299.2\" font-family=\"Helvetica,sans-Serif\" font-size=\"14.00\">tBodyAcc&#45;correlation()&#45;X,Y &lt;= &#45;0.219</text>\n<text xml:space=\"preserve\" text-anchor=\"middle\" x=\"4536\" y=\"-283.45\" font-family=\"Helvetica,sans-Serif\" font-size=\"14.00\">gini = 0.338</text>\n<text xml:space=\"preserve\" text-anchor=\"middle\" x=\"4536\" y=\"-267.7\" font-family=\"Helvetica,sans-Serif\" font-size=\"14.00\">samples = 79</text>\n<text xml:space=\"preserve\" text-anchor=\"middle\" x=\"4536\" y=\"-251.95\" font-family=\"Helvetica,sans-Serif\" font-size=\"14.00\">value = [12, 4, 63, 0, 0, 0]</text>\n<text xml:space=\"preserve\" text-anchor=\"middle\" x=\"4536\" y=\"-236.2\" font-family=\"Helvetica,sans-Serif\" font-size=\"14.00\">class = WALKING_DOWNSTAIRS</text>\n</g>\n<!-- 65&#45;&gt;66 -->\n<g id=\"edge66\" class=\"edge\">\n<title>65&#45;&gt;66</title>\n<path fill=\"none\" stroke=\"black\" d=\"M4926.75,-370.22C4851.53,-351.72 4747.91,-326.24 4666.27,-306.16\"/>\n<polygon fill=\"black\" stroke=\"black\" points=\"4667.18,-302.78 4656.63,-303.79 4665.51,-309.58 4667.18,-302.78\"/>\n</g>\n<!-- 73 -->\n<g id=\"node74\" class=\"node\">\n<title>73</title>\n<polygon fill=\"#a6e74c\" stroke=\"black\" points=\"5126.88,-316.5 4927.12,-316.5 4927.12,-229.75 5126.88,-229.75 5126.88,-316.5\"/>\n<text xml:space=\"preserve\" text-anchor=\"middle\" x=\"5027\" y=\"-299.2\" font-family=\"Helvetica,sans-Serif\" font-size=\"14.00\">tGravityAcc&#45;max()&#45;X &lt;= 0.89</text>\n<text xml:space=\"preserve\" text-anchor=\"middle\" x=\"5027\" y=\"-283.45\" font-family=\"Helvetica,sans-Serif\" font-size=\"14.00\">gini = 0.162</text>\n<text xml:space=\"preserve\" text-anchor=\"middle\" x=\"5027\" y=\"-267.7\" font-family=\"Helvetica,sans-Serif\" font-size=\"14.00\">samples = 80</text>\n<text xml:space=\"preserve\" text-anchor=\"middle\" x=\"5027\" y=\"-251.95\" font-family=\"Helvetica,sans-Serif\" font-size=\"14.00\">value = [1, 73, 6, 0, 0, 0]</text>\n<text xml:space=\"preserve\" text-anchor=\"middle\" x=\"5027\" y=\"-236.2\" font-family=\"Helvetica,sans-Serif\" font-size=\"14.00\">class = WALKING_UPSTAIRS</text>\n</g>\n<!-- 65&#45;&gt;73 -->\n<g id=\"edge73\" class=\"edge\">\n<title>65&#45;&gt;73</title>\n<path fill=\"none\" stroke=\"black\" d=\"M5027,-352.3C5027,-344.46 5027,-336.17 5027,-328.04\"/>\n<polygon fill=\"black\" stroke=\"black\" points=\"5030.5,-328.23 5027,-318.23 5023.5,-328.23 5030.5,-328.23\"/>\n</g>\n<!-- 67 -->\n<g id=\"node68\" class=\"node\">\n<title>67</title>\n<polygon fill=\"#43e687\" stroke=\"black\" points=\"4315.62,-193.75 4090.38,-193.75 4090.38,-107 4315.62,-107 4315.62,-193.75\"/>\n<text xml:space=\"preserve\" text-anchor=\"middle\" x=\"4203\" y=\"-176.45\" font-family=\"Helvetica,sans-Serif\" font-size=\"14.00\">angle(X,gravityMean) &lt;= &#45;0.651</text>\n<text xml:space=\"preserve\" text-anchor=\"middle\" x=\"4203\" y=\"-160.7\" font-family=\"Helvetica,sans-Serif\" font-size=\"14.00\">gini = 0.088</text>\n<text xml:space=\"preserve\" text-anchor=\"middle\" x=\"4203\" y=\"-144.95\" font-family=\"Helvetica,sans-Serif\" font-size=\"14.00\">samples = 65</text>\n<text xml:space=\"preserve\" text-anchor=\"middle\" x=\"4203\" y=\"-129.2\" font-family=\"Helvetica,sans-Serif\" font-size=\"14.00\">value = [0, 3, 62, 0, 0, 0]</text>\n<text xml:space=\"preserve\" text-anchor=\"middle\" x=\"4203\" y=\"-113.45\" font-family=\"Helvetica,sans-Serif\" font-size=\"14.00\">class = WALKING_DOWNSTAIRS</text>\n</g>\n<!-- 66&#45;&gt;67 -->\n<g id=\"edge67\" class=\"edge\">\n<title>66&#45;&gt;67</title>\n<path fill=\"none\" stroke=\"black\" d=\"M4418.13,-229.38C4388.42,-218.61 4356.45,-207.02 4326.48,-196.15\"/>\n<polygon fill=\"black\" stroke=\"black\" points=\"4327.98,-192.97 4317.39,-192.85 4325.59,-199.55 4327.98,-192.97\"/>\n</g>\n<!-- 70 -->\n<g id=\"node71\" class=\"node\">\n<title>70</title>\n<polygon fill=\"#e99457\" stroke=\"black\" points=\"4674.5,-193.75 4397.5,-193.75 4397.5,-107 4674.5,-107 4674.5,-193.75\"/>\n<text xml:space=\"preserve\" text-anchor=\"middle\" x=\"4536\" y=\"-176.45\" font-family=\"Helvetica,sans-Serif\" font-size=\"14.00\">fBodyAccJerk&#45;bandsEnergy()&#45;1,8 &lt;= &#45;0.821</text>\n<text xml:space=\"preserve\" text-anchor=\"middle\" x=\"4536\" y=\"-160.7\" font-family=\"Helvetica,sans-Serif\" font-size=\"14.00\">gini = 0.255</text>\n<text xml:space=\"preserve\" text-anchor=\"middle\" x=\"4536\" y=\"-144.95\" font-family=\"Helvetica,sans-Serif\" font-size=\"14.00\">samples = 14</text>\n<text xml:space=\"preserve\" text-anchor=\"middle\" x=\"4536\" y=\"-129.2\" font-family=\"Helvetica,sans-Serif\" font-size=\"14.00\">value = [12, 1, 1, 0, 0, 0]</text>\n<text xml:space=\"preserve\" text-anchor=\"middle\" x=\"4536\" y=\"-113.45\" font-family=\"Helvetica,sans-Serif\" font-size=\"14.00\">class = WALKING</text>\n</g>\n<!-- 66&#45;&gt;70 -->\n<g id=\"edge70\" class=\"edge\">\n<title>66&#45;&gt;70</title>\n<path fill=\"none\" stroke=\"black\" d=\"M4536,-229.55C4536,-221.71 4536,-213.42 4536,-205.29\"/>\n<polygon fill=\"black\" stroke=\"black\" points=\"4539.5,-205.48 4536,-195.48 4532.5,-205.48 4539.5,-205.48\"/>\n</g>\n<!-- 68 -->\n<g id=\"node69\" class=\"node\">\n<title>68</title>\n<polygon fill=\"#39e581\" stroke=\"black\" points=\"4051.62,-71 3826.38,-71 3826.38,0 4051.62,0 4051.62,-71\"/>\n<text xml:space=\"preserve\" text-anchor=\"middle\" x=\"3939\" y=\"-53.7\" font-family=\"Helvetica,sans-Serif\" font-size=\"14.00\">gini = 0.0</text>\n<text xml:space=\"preserve\" text-anchor=\"middle\" x=\"3939\" y=\"-37.95\" font-family=\"Helvetica,sans-Serif\" font-size=\"14.00\">samples = 62</text>\n<text xml:space=\"preserve\" text-anchor=\"middle\" x=\"3939\" y=\"-22.2\" font-family=\"Helvetica,sans-Serif\" font-size=\"14.00\">value = [0, 0, 62, 0, 0, 0]</text>\n<text xml:space=\"preserve\" text-anchor=\"middle\" x=\"3939\" y=\"-6.45\" font-family=\"Helvetica,sans-Serif\" font-size=\"14.00\">class = WALKING_DOWNSTAIRS</text>\n</g>\n<!-- 67&#45;&gt;68 -->\n<g id=\"edge68\" class=\"edge\">\n<title>67&#45;&gt;68</title>\n<path fill=\"none\" stroke=\"black\" d=\"M4102.82,-106.54C4079.29,-96.48 4054.33,-85.81 4031.17,-75.91\"/>\n<polygon fill=\"black\" stroke=\"black\" points=\"4032.63,-72.73 4022.06,-72.01 4029.88,-79.16 4032.63,-72.73\"/>\n</g>\n<!-- 69 -->\n<g id=\"node70\" class=\"node\">\n<title>69</title>\n<polygon fill=\"#9de539\" stroke=\"black\" points=\"4269.88,-71 4070.12,-71 4070.12,0 4269.88,0 4269.88,-71\"/>\n<text xml:space=\"preserve\" text-anchor=\"middle\" x=\"4170\" y=\"-53.7\" font-family=\"Helvetica,sans-Serif\" font-size=\"14.00\">gini = 0.0</text>\n<text xml:space=\"preserve\" text-anchor=\"middle\" x=\"4170\" y=\"-37.95\" font-family=\"Helvetica,sans-Serif\" font-size=\"14.00\">samples = 3</text>\n<text xml:space=\"preserve\" text-anchor=\"middle\" x=\"4170\" y=\"-22.2\" font-family=\"Helvetica,sans-Serif\" font-size=\"14.00\">value = [0, 3, 0, 0, 0, 0]</text>\n<text xml:space=\"preserve\" text-anchor=\"middle\" x=\"4170\" y=\"-6.45\" font-family=\"Helvetica,sans-Serif\" font-size=\"14.00\">class = WALKING_UPSTAIRS</text>\n</g>\n<!-- 67&#45;&gt;69 -->\n<g id=\"edge69\" class=\"edge\">\n<title>67&#45;&gt;69</title>\n<path fill=\"none\" stroke=\"black\" d=\"M4190.52,-106.7C4188.17,-98.63 4185.69,-90.16 4183.31,-82.01\"/>\n<polygon fill=\"black\" stroke=\"black\" points=\"4186.72,-81.23 4180.56,-72.61 4180,-83.19 4186.72,-81.23\"/>\n</g>\n<!-- 71 -->\n<g id=\"node72\" class=\"node\">\n<title>71</title>\n<polygon fill=\"#e58139\" stroke=\"black\" points=\"4449.75,-71 4288.25,-71 4288.25,0 4449.75,0 4449.75,-71\"/>\n<text xml:space=\"preserve\" text-anchor=\"middle\" x=\"4369\" y=\"-53.7\" font-family=\"Helvetica,sans-Serif\" font-size=\"14.00\">gini = 0.0</text>\n<text xml:space=\"preserve\" text-anchor=\"middle\" x=\"4369\" y=\"-37.95\" font-family=\"Helvetica,sans-Serif\" font-size=\"14.00\">samples = 12</text>\n<text xml:space=\"preserve\" text-anchor=\"middle\" x=\"4369\" y=\"-22.2\" font-family=\"Helvetica,sans-Serif\" font-size=\"14.00\">value = [12, 0, 0, 0, 0, 0]</text>\n<text xml:space=\"preserve\" text-anchor=\"middle\" x=\"4369\" y=\"-6.45\" font-family=\"Helvetica,sans-Serif\" font-size=\"14.00\">class = WALKING</text>\n</g>\n<!-- 70&#45;&gt;71 -->\n<g id=\"edge71\" class=\"edge\">\n<title>70&#45;&gt;71</title>\n<path fill=\"none\" stroke=\"black\" d=\"M4472.86,-106.7C4458.83,-97.22 4443.98,-87.18 4430.03,-77.75\"/>\n<polygon fill=\"black\" stroke=\"black\" points=\"4432.04,-74.88 4421.8,-72.18 4428.12,-80.68 4432.04,-74.88\"/>\n</g>\n<!-- 72 -->\n<g id=\"node73\" class=\"node\">\n<title>72</title>\n<polygon fill=\"#ffffff\" stroke=\"black\" points=\"4667.88,-71 4468.12,-71 4468.12,0 4667.88,0 4667.88,-71\"/>\n<text xml:space=\"preserve\" text-anchor=\"middle\" x=\"4568\" y=\"-53.7\" font-family=\"Helvetica,sans-Serif\" font-size=\"14.00\">gini = 0.5</text>\n<text xml:space=\"preserve\" text-anchor=\"middle\" x=\"4568\" y=\"-37.95\" font-family=\"Helvetica,sans-Serif\" font-size=\"14.00\">samples = 2</text>\n<text xml:space=\"preserve\" text-anchor=\"middle\" x=\"4568\" y=\"-22.2\" font-family=\"Helvetica,sans-Serif\" font-size=\"14.00\">value = [0, 1, 1, 0, 0, 0]</text>\n<text xml:space=\"preserve\" text-anchor=\"middle\" x=\"4568\" y=\"-6.45\" font-family=\"Helvetica,sans-Serif\" font-size=\"14.00\">class = WALKING_UPSTAIRS</text>\n</g>\n<!-- 70&#45;&gt;72 -->\n<g id=\"edge72\" class=\"edge\">\n<title>70&#45;&gt;72</title>\n<path fill=\"none\" stroke=\"black\" d=\"M4548.1,-106.7C4550.39,-98.63 4552.79,-90.16 4555.1,-82.01\"/>\n<polygon fill=\"black\" stroke=\"black\" points=\"4558.4,-83.19 4557.76,-72.61 4551.67,-81.28 4558.4,-83.19\"/>\n</g>\n<!-- 74 -->\n<g id=\"node75\" class=\"node\">\n<title>74</title>\n<polygon fill=\"#a1e641\" stroke=\"black\" points=\"5034,-193.75 4742,-193.75 4742,-107 5034,-107 5034,-193.75\"/>\n<text xml:space=\"preserve\" text-anchor=\"middle\" x=\"4888\" y=\"-176.45\" font-family=\"Helvetica,sans-Serif\" font-size=\"14.00\">fBodyAccJerk&#45;bandsEnergy()&#45;17,24 &lt;= &#45;0.459</text>\n<text xml:space=\"preserve\" text-anchor=\"middle\" x=\"4888\" y=\"-160.7\" font-family=\"Helvetica,sans-Serif\" font-size=\"14.00\">gini = 0.077</text>\n<text xml:space=\"preserve\" text-anchor=\"middle\" x=\"4888\" y=\"-144.95\" font-family=\"Helvetica,sans-Serif\" font-size=\"14.00\">samples = 76</text>\n<text xml:space=\"preserve\" text-anchor=\"middle\" x=\"4888\" y=\"-129.2\" font-family=\"Helvetica,sans-Serif\" font-size=\"14.00\">value = [1, 73, 2, 0, 0, 0]</text>\n<text xml:space=\"preserve\" text-anchor=\"middle\" x=\"4888\" y=\"-113.45\" font-family=\"Helvetica,sans-Serif\" font-size=\"14.00\">class = WALKING_UPSTAIRS</text>\n</g>\n<!-- 73&#45;&gt;74 -->\n<g id=\"edge74\" class=\"edge\">\n<title>73&#45;&gt;74</title>\n<path fill=\"none\" stroke=\"black\" d=\"M4977.99,-229.55C4967.51,-220.44 4956.34,-210.74 4945.57,-201.38\"/>\n<polygon fill=\"black\" stroke=\"black\" points=\"4948.02,-198.88 4938.17,-194.96 4943.43,-204.16 4948.02,-198.88\"/>\n</g>\n<!-- 77 -->\n<g id=\"node78\" class=\"node\">\n<title>77</title>\n<polygon fill=\"#39e581\" stroke=\"black\" points=\"5277.62,-185.88 5052.38,-185.88 5052.38,-114.88 5277.62,-114.88 5277.62,-185.88\"/>\n<text xml:space=\"preserve\" text-anchor=\"middle\" x=\"5165\" y=\"-168.57\" font-family=\"Helvetica,sans-Serif\" font-size=\"14.00\">gini = 0.0</text>\n<text xml:space=\"preserve\" text-anchor=\"middle\" x=\"5165\" y=\"-152.82\" font-family=\"Helvetica,sans-Serif\" font-size=\"14.00\">samples = 4</text>\n<text xml:space=\"preserve\" text-anchor=\"middle\" x=\"5165\" y=\"-137.07\" font-family=\"Helvetica,sans-Serif\" font-size=\"14.00\">value = [0, 0, 4, 0, 0, 0]</text>\n<text xml:space=\"preserve\" text-anchor=\"middle\" x=\"5165\" y=\"-121.33\" font-family=\"Helvetica,sans-Serif\" font-size=\"14.00\">class = WALKING_DOWNSTAIRS</text>\n</g>\n<!-- 73&#45;&gt;77 -->\n<g id=\"edge77\" class=\"edge\">\n<title>73&#45;&gt;77</title>\n<path fill=\"none\" stroke=\"black\" d=\"M5075.65,-229.55C5089.02,-217.86 5103.51,-205.18 5116.85,-193.51\"/>\n<polygon fill=\"black\" stroke=\"black\" points=\"5119.06,-196.22 5124.29,-187 5114.45,-190.95 5119.06,-196.22\"/>\n</g>\n<!-- 75 -->\n<g id=\"node76\" class=\"node\">\n<title>75</title>\n<polygon fill=\"#9ee53c\" stroke=\"black\" points=\"4885.88,-71 4686.12,-71 4686.12,0 4885.88,0 4885.88,-71\"/>\n<text xml:space=\"preserve\" text-anchor=\"middle\" x=\"4786\" y=\"-53.7\" font-family=\"Helvetica,sans-Serif\" font-size=\"14.00\">gini = 0.027</text>\n<text xml:space=\"preserve\" text-anchor=\"middle\" x=\"4786\" y=\"-37.95\" font-family=\"Helvetica,sans-Serif\" font-size=\"14.00\">samples = 74</text>\n<text xml:space=\"preserve\" text-anchor=\"middle\" x=\"4786\" y=\"-22.2\" font-family=\"Helvetica,sans-Serif\" font-size=\"14.00\">value = [1, 73, 0, 0, 0, 0]</text>\n<text xml:space=\"preserve\" text-anchor=\"middle\" x=\"4786\" y=\"-6.45\" font-family=\"Helvetica,sans-Serif\" font-size=\"14.00\">class = WALKING_UPSTAIRS</text>\n</g>\n<!-- 74&#45;&gt;75 -->\n<g id=\"edge75\" class=\"edge\">\n<title>74&#45;&gt;75</title>\n<path fill=\"none\" stroke=\"black\" d=\"M4849.44,-106.7C4841.4,-97.81 4832.92,-88.43 4824.88,-79.52\"/>\n<polygon fill=\"black\" stroke=\"black\" points=\"4827.63,-77.35 4818.33,-72.28 4822.44,-82.05 4827.63,-77.35\"/>\n</g>\n<!-- 76 -->\n<g id=\"node77\" class=\"node\">\n<title>76</title>\n<polygon fill=\"#39e581\" stroke=\"black\" points=\"5129.62,-71 4904.38,-71 4904.38,0 5129.62,0 5129.62,-71\"/>\n<text xml:space=\"preserve\" text-anchor=\"middle\" x=\"5017\" y=\"-53.7\" font-family=\"Helvetica,sans-Serif\" font-size=\"14.00\">gini = 0.0</text>\n<text xml:space=\"preserve\" text-anchor=\"middle\" x=\"5017\" y=\"-37.95\" font-family=\"Helvetica,sans-Serif\" font-size=\"14.00\">samples = 2</text>\n<text xml:space=\"preserve\" text-anchor=\"middle\" x=\"5017\" y=\"-22.2\" font-family=\"Helvetica,sans-Serif\" font-size=\"14.00\">value = [0, 0, 2, 0, 0, 0]</text>\n<text xml:space=\"preserve\" text-anchor=\"middle\" x=\"5017\" y=\"-6.45\" font-family=\"Helvetica,sans-Serif\" font-size=\"14.00\">class = WALKING_DOWNSTAIRS</text>\n</g>\n<!-- 74&#45;&gt;76 -->\n<g id=\"edge76\" class=\"edge\">\n<title>74&#45;&gt;76</title>\n<path fill=\"none\" stroke=\"black\" d=\"M4936.77,-106.7C4947.25,-97.53 4958.32,-87.85 4968.78,-78.7\"/>\n<polygon fill=\"black\" stroke=\"black\" points=\"4971.03,-81.37 4976.25,-72.15 4966.42,-76.11 4971.03,-81.37\"/>\n</g>\n<!-- 79 -->\n<g id=\"node80\" class=\"node\">\n<title>79</title>\n<polygon fill=\"#d5fae4\" stroke=\"black\" points=\"5876.62,-316.5 5651.38,-316.5 5651.38,-229.75 5876.62,-229.75 5876.62,-316.5\"/>\n<text xml:space=\"preserve\" text-anchor=\"middle\" x=\"5764\" y=\"-299.2\" font-family=\"Helvetica,sans-Serif\" font-size=\"14.00\">tGravityAcc&#45;mean()&#45;Y &lt;= &#45;0.206</text>\n<text xml:space=\"preserve\" text-anchor=\"middle\" x=\"5764\" y=\"-283.45\" font-family=\"Helvetica,sans-Serif\" font-size=\"14.00\">gini = 0.606</text>\n<text xml:space=\"preserve\" text-anchor=\"middle\" x=\"5764\" y=\"-267.7\" font-family=\"Helvetica,sans-Serif\" font-size=\"14.00\">samples = 81</text>\n<text xml:space=\"preserve\" text-anchor=\"middle\" x=\"5764\" y=\"-251.95\" font-family=\"Helvetica,sans-Serif\" font-size=\"14.00\">value = [12, 29, 40, 0, 0, 0]</text>\n<text xml:space=\"preserve\" text-anchor=\"middle\" x=\"5764\" y=\"-236.2\" font-family=\"Helvetica,sans-Serif\" font-size=\"14.00\">class = WALKING_DOWNSTAIRS</text>\n</g>\n<!-- 78&#45;&gt;79 -->\n<g id=\"edge79\" class=\"edge\">\n<title>78&#45;&gt;79</title>\n<path fill=\"none\" stroke=\"black\" d=\"M5861.76,-352.3C5850.33,-343.16 5838.14,-333.42 5826.4,-324.02\"/>\n<polygon fill=\"black\" stroke=\"black\" points=\"5828.7,-321.38 5818.7,-317.87 5824.33,-326.85 5828.7,-321.38\"/>\n</g>\n<!-- 86 -->\n<g id=\"node87\" class=\"node\">\n<title>86</title>\n<polygon fill=\"#e68844\" stroke=\"black\" points=\"6263,-316.5 6025,-316.5 6025,-229.75 6263,-229.75 6263,-316.5\"/>\n<text xml:space=\"preserve\" text-anchor=\"middle\" x=\"6144\" y=\"-299.2\" font-family=\"Helvetica,sans-Serif\" font-size=\"14.00\">tBodyAcc&#45;correlation()&#45;X,Y &lt;= &#45;0.467</text>\n<text xml:space=\"preserve\" text-anchor=\"middle\" x=\"6144\" y=\"-283.45\" font-family=\"Helvetica,sans-Serif\" font-size=\"14.00\">gini = 0.104</text>\n<text xml:space=\"preserve\" text-anchor=\"middle\" x=\"6144\" y=\"-267.7\" font-family=\"Helvetica,sans-Serif\" font-size=\"14.00\">samples = 1127</text>\n<text xml:space=\"preserve\" text-anchor=\"middle\" x=\"6144\" y=\"-251.95\" font-family=\"Helvetica,sans-Serif\" font-size=\"14.00\">value = [1066, 37, 24, 0, 0, 0]</text>\n<text xml:space=\"preserve\" text-anchor=\"middle\" x=\"6144\" y=\"-236.2\" font-family=\"Helvetica,sans-Serif\" font-size=\"14.00\">class = WALKING</text>\n</g>\n<!-- 78&#45;&gt;86 -->\n<g id=\"edge86\" class=\"edge\">\n<title>78&#45;&gt;86</title>\n<path fill=\"none\" stroke=\"black\" d=\"M5996.06,-352.13C6014.49,-342.41 6034.19,-332.03 6053,-322.11\"/>\n<polygon fill=\"black\" stroke=\"black\" points=\"6054.5,-325.28 6061.71,-317.52 6051.23,-319.08 6054.5,-325.28\"/>\n</g>\n<!-- 80 -->\n<g id=\"node81\" class=\"node\">\n<title>80</title>\n<polygon fill=\"#c1ee81\" stroke=\"black\" points=\"5574.75,-193.75 5311.25,-193.75 5311.25,-107 5574.75,-107 5574.75,-193.75\"/>\n<text xml:space=\"preserve\" text-anchor=\"middle\" x=\"5443\" y=\"-176.45\" font-family=\"Helvetica,sans-Serif\" font-size=\"14.00\">tBodyAccJerk&#45;correlation()&#45;X,Y &lt;= &#45;0.007</text>\n<text xml:space=\"preserve\" text-anchor=\"middle\" x=\"5443\" y=\"-160.7\" font-family=\"Helvetica,sans-Serif\" font-size=\"14.00\">gini = 0.452</text>\n<text xml:space=\"preserve\" text-anchor=\"middle\" x=\"5443\" y=\"-144.95\" font-family=\"Helvetica,sans-Serif\" font-size=\"14.00\">samples = 41</text>\n<text xml:space=\"preserve\" text-anchor=\"middle\" x=\"5443\" y=\"-129.2\" font-family=\"Helvetica,sans-Serif\" font-size=\"14.00\">value = [8, 29, 4, 0, 0, 0]</text>\n<text xml:space=\"preserve\" text-anchor=\"middle\" x=\"5443\" y=\"-113.45\" font-family=\"Helvetica,sans-Serif\" font-size=\"14.00\">class = WALKING_UPSTAIRS</text>\n</g>\n<!-- 79&#45;&gt;80 -->\n<g id=\"edge80\" class=\"edge\">\n<title>79&#45;&gt;80</title>\n<path fill=\"none\" stroke=\"black\" d=\"M5651.28,-229.72C5624.13,-219.51 5594.97,-208.54 5567.32,-198.14\"/>\n<polygon fill=\"black\" stroke=\"black\" points=\"5568.81,-194.96 5558.22,-194.72 5566.35,-201.51 5568.81,-194.96\"/>\n</g>\n<!-- 83 -->\n<g id=\"node84\" class=\"node\">\n<title>83</title>\n<polygon fill=\"#4fe88f\" stroke=\"black\" points=\"5881.88,-193.75 5646.12,-193.75 5646.12,-107 5881.88,-107 5881.88,-193.75\"/>\n<text xml:space=\"preserve\" text-anchor=\"middle\" x=\"5764\" y=\"-176.45\" font-family=\"Helvetica,sans-Serif\" font-size=\"14.00\">tBodyGyroJerk&#45;energy()&#45;Z &lt;= &#45;0.845</text>\n<text xml:space=\"preserve\" text-anchor=\"middle\" x=\"5764\" y=\"-160.7\" font-family=\"Helvetica,sans-Serif\" font-size=\"14.00\">gini = 0.18</text>\n<text xml:space=\"preserve\" text-anchor=\"middle\" x=\"5764\" y=\"-144.95\" font-family=\"Helvetica,sans-Serif\" font-size=\"14.00\">samples = 40</text>\n<text xml:space=\"preserve\" text-anchor=\"middle\" x=\"5764\" y=\"-129.2\" font-family=\"Helvetica,sans-Serif\" font-size=\"14.00\">value = [4, 0, 36, 0, 0, 0]</text>\n<text xml:space=\"preserve\" text-anchor=\"middle\" x=\"5764\" y=\"-113.45\" font-family=\"Helvetica,sans-Serif\" font-size=\"14.00\">class = WALKING_DOWNSTAIRS</text>\n</g>\n<!-- 79&#45;&gt;83 -->\n<g id=\"edge83\" class=\"edge\">\n<title>79&#45;&gt;83</title>\n<path fill=\"none\" stroke=\"black\" d=\"M5764,-229.55C5764,-221.71 5764,-213.42 5764,-205.29\"/>\n<polygon fill=\"black\" stroke=\"black\" points=\"5767.5,-205.48 5764,-195.48 5760.5,-205.48 5767.5,-205.48\"/>\n</g>\n<!-- 81 -->\n<g id=\"node82\" class=\"node\">\n<title>81</title>\n<polygon fill=\"#aee95b\" stroke=\"black\" points=\"5347.88,-71 5148.12,-71 5148.12,0 5347.88,0 5347.88,-71\"/>\n<text xml:space=\"preserve\" text-anchor=\"middle\" x=\"5248\" y=\"-53.7\" font-family=\"Helvetica,sans-Serif\" font-size=\"14.00\">gini = 0.264</text>\n<text xml:space=\"preserve\" text-anchor=\"middle\" x=\"5248\" y=\"-37.95\" font-family=\"Helvetica,sans-Serif\" font-size=\"14.00\">samples = 33</text>\n<text xml:space=\"preserve\" text-anchor=\"middle\" x=\"5248\" y=\"-22.2\" font-family=\"Helvetica,sans-Serif\" font-size=\"14.00\">value = [1, 28, 4, 0, 0, 0]</text>\n<text xml:space=\"preserve\" text-anchor=\"middle\" x=\"5248\" y=\"-6.45\" font-family=\"Helvetica,sans-Serif\" font-size=\"14.00\">class = WALKING_UPSTAIRS</text>\n</g>\n<!-- 80&#45;&gt;81 -->\n<g id=\"edge81\" class=\"edge\">\n<title>80&#45;&gt;81</title>\n<path fill=\"none\" stroke=\"black\" d=\"M5369,-106.54C5352.25,-96.84 5334.51,-86.58 5317.93,-76.98\"/>\n<polygon fill=\"black\" stroke=\"black\" points=\"5320.04,-74.16 5309.63,-72.18 5316.53,-80.21 5320.04,-74.16\"/>\n</g>\n<!-- 82 -->\n<g id=\"node83\" class=\"node\">\n<title>82</title>\n<polygon fill=\"#e99355\" stroke=\"black\" points=\"5520,-71 5366,-71 5366,0 5520,0 5520,-71\"/>\n<text xml:space=\"preserve\" text-anchor=\"middle\" x=\"5443\" y=\"-53.7\" font-family=\"Helvetica,sans-Serif\" font-size=\"14.00\">gini = 0.219</text>\n<text xml:space=\"preserve\" text-anchor=\"middle\" x=\"5443\" y=\"-37.95\" font-family=\"Helvetica,sans-Serif\" font-size=\"14.00\">samples = 8</text>\n<text xml:space=\"preserve\" text-anchor=\"middle\" x=\"5443\" y=\"-22.2\" font-family=\"Helvetica,sans-Serif\" font-size=\"14.00\">value = [7, 1, 0, 0, 0, 0]</text>\n<text xml:space=\"preserve\" text-anchor=\"middle\" x=\"5443\" y=\"-6.45\" font-family=\"Helvetica,sans-Serif\" font-size=\"14.00\">class = WALKING</text>\n</g>\n<!-- 80&#45;&gt;82 -->\n<g id=\"edge82\" class=\"edge\">\n<title>80&#45;&gt;82</title>\n<path fill=\"none\" stroke=\"black\" d=\"M5443,-106.7C5443,-98.82 5443,-90.55 5443,-82.57\"/>\n<polygon fill=\"black\" stroke=\"black\" points=\"5446.5,-82.67 5443,-72.67 5439.5,-82.67 5446.5,-82.67\"/>\n</g>\n<!-- 84 -->\n<g id=\"node85\" class=\"node\">\n<title>84</title>\n<polygon fill=\"#39e581\" stroke=\"black\" points=\"5763.62,-71 5538.38,-71 5538.38,0 5763.62,0 5763.62,-71\"/>\n<text xml:space=\"preserve\" text-anchor=\"middle\" x=\"5651\" y=\"-53.7\" font-family=\"Helvetica,sans-Serif\" font-size=\"14.00\">gini = 0.0</text>\n<text xml:space=\"preserve\" text-anchor=\"middle\" x=\"5651\" y=\"-37.95\" font-family=\"Helvetica,sans-Serif\" font-size=\"14.00\">samples = 36</text>\n<text xml:space=\"preserve\" text-anchor=\"middle\" x=\"5651\" y=\"-22.2\" font-family=\"Helvetica,sans-Serif\" font-size=\"14.00\">value = [0, 0, 36, 0, 0, 0]</text>\n<text xml:space=\"preserve\" text-anchor=\"middle\" x=\"5651\" y=\"-6.45\" font-family=\"Helvetica,sans-Serif\" font-size=\"14.00\">class = WALKING_DOWNSTAIRS</text>\n</g>\n<!-- 83&#45;&gt;84 -->\n<g id=\"edge84\" class=\"edge\">\n<title>83&#45;&gt;84</title>\n<path fill=\"none\" stroke=\"black\" d=\"M5721.28,-106.7C5712.28,-97.72 5702.79,-88.23 5693.79,-79.25\"/>\n<polygon fill=\"black\" stroke=\"black\" points=\"5696.32,-76.82 5686.77,-72.23 5691.37,-81.77 5696.32,-76.82\"/>\n</g>\n<!-- 85 -->\n<g id=\"node86\" class=\"node\">\n<title>85</title>\n<polygon fill=\"#e58139\" stroke=\"black\" points=\"5936,-71 5782,-71 5782,0 5936,0 5936,-71\"/>\n<text xml:space=\"preserve\" text-anchor=\"middle\" x=\"5859\" y=\"-53.7\" font-family=\"Helvetica,sans-Serif\" font-size=\"14.00\">gini = 0.0</text>\n<text xml:space=\"preserve\" text-anchor=\"middle\" x=\"5859\" y=\"-37.95\" font-family=\"Helvetica,sans-Serif\" font-size=\"14.00\">samples = 4</text>\n<text xml:space=\"preserve\" text-anchor=\"middle\" x=\"5859\" y=\"-22.2\" font-family=\"Helvetica,sans-Serif\" font-size=\"14.00\">value = [4, 0, 0, 0, 0, 0]</text>\n<text xml:space=\"preserve\" text-anchor=\"middle\" x=\"5859\" y=\"-6.45\" font-family=\"Helvetica,sans-Serif\" font-size=\"14.00\">class = WALKING</text>\n</g>\n<!-- 83&#45;&gt;85 -->\n<g id=\"edge85\" class=\"edge\">\n<title>83&#45;&gt;85</title>\n<path fill=\"none\" stroke=\"black\" d=\"M5799.92,-106.7C5807.32,-97.9 5815.13,-88.62 5822.56,-79.8\"/>\n<polygon fill=\"black\" stroke=\"black\" points=\"5825.09,-82.22 5828.86,-72.32 5819.74,-77.71 5825.09,-82.22\"/>\n</g>\n<!-- 87 -->\n<g id=\"node88\" class=\"node\">\n<title>87</title>\n<polygon fill=\"#f5fceb\" stroke=\"black\" points=\"6245.75,-193.75 6042.25,-193.75 6042.25,-107 6245.75,-107 6245.75,-193.75\"/>\n<text xml:space=\"preserve\" text-anchor=\"middle\" x=\"6144\" y=\"-176.45\" font-family=\"Helvetica,sans-Serif\" font-size=\"14.00\">fBodyAcc&#45;energy()&#45;Y &lt;= &#45;0.556</text>\n<text xml:space=\"preserve\" text-anchor=\"middle\" x=\"6144\" y=\"-160.7\" font-family=\"Helvetica,sans-Serif\" font-size=\"14.00\">gini = 0.658</text>\n<text xml:space=\"preserve\" text-anchor=\"middle\" x=\"6144\" y=\"-144.95\" font-family=\"Helvetica,sans-Serif\" font-size=\"14.00\">samples = 30</text>\n<text xml:space=\"preserve\" text-anchor=\"middle\" x=\"6144\" y=\"-129.2\" font-family=\"Helvetica,sans-Serif\" font-size=\"14.00\">value = [8, 12, 10, 0, 0, 0]</text>\n<text xml:space=\"preserve\" text-anchor=\"middle\" x=\"6144\" y=\"-113.45\" font-family=\"Helvetica,sans-Serif\" font-size=\"14.00\">class = WALKING_UPSTAIRS</text>\n</g>\n<!-- 86&#45;&gt;87 -->\n<g id=\"edge87\" class=\"edge\">\n<title>86&#45;&gt;87</title>\n<path fill=\"none\" stroke=\"black\" d=\"M6144,-229.55C6144,-221.71 6144,-213.42 6144,-205.29\"/>\n<polygon fill=\"black\" stroke=\"black\" points=\"6147.5,-205.48 6144,-195.48 6140.5,-205.48 6147.5,-205.48\"/>\n</g>\n<!-- 90 -->\n<g id=\"node91\" class=\"node\">\n<title>90</title>\n<polygon fill=\"#e68640\" stroke=\"black\" points=\"6534.88,-193.75 6341.12,-193.75 6341.12,-107 6534.88,-107 6534.88,-193.75\"/>\n<text xml:space=\"preserve\" text-anchor=\"middle\" x=\"6438\" y=\"-176.45\" font-family=\"Helvetica,sans-Serif\" font-size=\"14.00\">fBodyAccMag&#45;std() &lt;= &#45;0.262</text>\n<text xml:space=\"preserve\" text-anchor=\"middle\" x=\"6438\" y=\"-160.7\" font-family=\"Helvetica,sans-Serif\" font-size=\"14.00\">gini = 0.069</text>\n<text xml:space=\"preserve\" text-anchor=\"middle\" x=\"6438\" y=\"-144.95\" font-family=\"Helvetica,sans-Serif\" font-size=\"14.00\">samples = 1097</text>\n<text xml:space=\"preserve\" text-anchor=\"middle\" x=\"6438\" y=\"-129.2\" font-family=\"Helvetica,sans-Serif\" font-size=\"14.00\">value = [1058, 25, 14, 0, 0, 0]</text>\n<text xml:space=\"preserve\" text-anchor=\"middle\" x=\"6438\" y=\"-113.45\" font-family=\"Helvetica,sans-Serif\" font-size=\"14.00\">class = WALKING</text>\n</g>\n<!-- 86&#45;&gt;90 -->\n<g id=\"edge90\" class=\"edge\">\n<title>86&#45;&gt;90</title>\n<path fill=\"none\" stroke=\"black\" d=\"M6248.07,-229.38C6274.75,-218.42 6303.51,-206.61 6330.37,-195.58\"/>\n<polygon fill=\"black\" stroke=\"black\" points=\"6331.64,-198.84 6339.56,-191.81 6328.98,-192.37 6331.64,-198.84\"/>\n</g>\n<!-- 88 -->\n<g id=\"node89\" class=\"node\">\n<title>88</title>\n<polygon fill=\"#39e581\" stroke=\"black\" points=\"6179.62,-71 5954.38,-71 5954.38,0 6179.62,0 6179.62,-71\"/>\n<text xml:space=\"preserve\" text-anchor=\"middle\" x=\"6067\" y=\"-53.7\" font-family=\"Helvetica,sans-Serif\" font-size=\"14.00\">gini = 0.0</text>\n<text xml:space=\"preserve\" text-anchor=\"middle\" x=\"6067\" y=\"-37.95\" font-family=\"Helvetica,sans-Serif\" font-size=\"14.00\">samples = 10</text>\n<text xml:space=\"preserve\" text-anchor=\"middle\" x=\"6067\" y=\"-22.2\" font-family=\"Helvetica,sans-Serif\" font-size=\"14.00\">value = [0, 0, 10, 0, 0, 0]</text>\n<text xml:space=\"preserve\" text-anchor=\"middle\" x=\"6067\" y=\"-6.45\" font-family=\"Helvetica,sans-Serif\" font-size=\"14.00\">class = WALKING_DOWNSTAIRS</text>\n</g>\n<!-- 87&#45;&gt;88 -->\n<g id=\"edge88\" class=\"edge\">\n<title>87&#45;&gt;88</title>\n<path fill=\"none\" stroke=\"black\" d=\"M6114.89,-106.7C6109.07,-98.17 6102.95,-89.2 6097.1,-80.62\"/>\n<polygon fill=\"black\" stroke=\"black\" points=\"6100.02,-78.7 6091.5,-72.41 6094.24,-82.64 6100.02,-78.7\"/>\n</g>\n<!-- 89 -->\n<g id=\"node90\" class=\"node\">\n<title>89</title>\n<polygon fill=\"#def6bd\" stroke=\"black\" points=\"6397.88,-71 6198.12,-71 6198.12,0 6397.88,0 6397.88,-71\"/>\n<text xml:space=\"preserve\" text-anchor=\"middle\" x=\"6298\" y=\"-53.7\" font-family=\"Helvetica,sans-Serif\" font-size=\"14.00\">gini = 0.48</text>\n<text xml:space=\"preserve\" text-anchor=\"middle\" x=\"6298\" y=\"-37.95\" font-family=\"Helvetica,sans-Serif\" font-size=\"14.00\">samples = 20</text>\n<text xml:space=\"preserve\" text-anchor=\"middle\" x=\"6298\" y=\"-22.2\" font-family=\"Helvetica,sans-Serif\" font-size=\"14.00\">value = [8, 12, 0, 0, 0, 0]</text>\n<text xml:space=\"preserve\" text-anchor=\"middle\" x=\"6298\" y=\"-6.45\" font-family=\"Helvetica,sans-Serif\" font-size=\"14.00\">class = WALKING_UPSTAIRS</text>\n</g>\n<!-- 87&#45;&gt;89 -->\n<g id=\"edge89\" class=\"edge\">\n<title>87&#45;&gt;89</title>\n<path fill=\"none\" stroke=\"black\" d=\"M6202.22,-106.7C6215.11,-97.26 6228.74,-87.27 6241.55,-77.87\"/>\n<polygon fill=\"black\" stroke=\"black\" points=\"6243.5,-80.79 6249.49,-72.05 6239.36,-75.14 6243.5,-80.79\"/>\n</g>\n<!-- 91 -->\n<g id=\"node92\" class=\"node\">\n<title>91</title>\n<polygon fill=\"#e6843d\" stroke=\"black\" points=\"6600,-71 6416,-71 6416,0 6600,0 6600,-71\"/>\n<text xml:space=\"preserve\" text-anchor=\"middle\" x=\"6508\" y=\"-53.7\" font-family=\"Helvetica,sans-Serif\" font-size=\"14.00\">gini = 0.044</text>\n<text xml:space=\"preserve\" text-anchor=\"middle\" x=\"6508\" y=\"-37.95\" font-family=\"Helvetica,sans-Serif\" font-size=\"14.00\">samples = 1076</text>\n<text xml:space=\"preserve\" text-anchor=\"middle\" x=\"6508\" y=\"-22.2\" font-family=\"Helvetica,sans-Serif\" font-size=\"14.00\">value = [1052, 16, 8, 0, 0, 0]</text>\n<text xml:space=\"preserve\" text-anchor=\"middle\" x=\"6508\" y=\"-6.45\" font-family=\"Helvetica,sans-Serif\" font-size=\"14.00\">class = WALKING</text>\n</g>\n<!-- 90&#45;&gt;91 -->\n<g id=\"edge91\" class=\"edge\">\n<title>90&#45;&gt;91</title>\n<path fill=\"none\" stroke=\"black\" d=\"M6464.46,-106.7C6469.7,-98.27 6475.2,-89.39 6480.46,-80.9\"/>\n<polygon fill=\"black\" stroke=\"black\" points=\"6483.41,-82.79 6485.71,-72.44 6477.46,-79.1 6483.41,-82.79\"/>\n</g>\n<!-- 92 -->\n<g id=\"node93\" class=\"node\">\n<title>92</title>\n<polygon fill=\"#ebfad7\" stroke=\"black\" points=\"6817.88,-71 6618.12,-71 6618.12,0 6817.88,0 6817.88,-71\"/>\n<text xml:space=\"preserve\" text-anchor=\"middle\" x=\"6718\" y=\"-53.7\" font-family=\"Helvetica,sans-Serif\" font-size=\"14.00\">gini = 0.653</text>\n<text xml:space=\"preserve\" text-anchor=\"middle\" x=\"6718\" y=\"-37.95\" font-family=\"Helvetica,sans-Serif\" font-size=\"14.00\">samples = 21</text>\n<text xml:space=\"preserve\" text-anchor=\"middle\" x=\"6718\" y=\"-22.2\" font-family=\"Helvetica,sans-Serif\" font-size=\"14.00\">value = [6, 9, 6, 0, 0, 0]</text>\n<text xml:space=\"preserve\" text-anchor=\"middle\" x=\"6718\" y=\"-6.45\" font-family=\"Helvetica,sans-Serif\" font-size=\"14.00\">class = WALKING_UPSTAIRS</text>\n</g>\n<!-- 90&#45;&gt;92 -->\n<g id=\"edge92\" class=\"edge\">\n<title>90&#45;&gt;92</title>\n<path fill=\"none\" stroke=\"black\" d=\"M6535.14,-110.21C6562.88,-99.03 6593.09,-86.85 6620.82,-75.67\"/>\n<polygon fill=\"black\" stroke=\"black\" points=\"6621.95,-78.99 6629.92,-72.01 6619.33,-72.5 6621.95,-78.99\"/>\n</g>\n<!-- 94 -->\n<g id=\"node95\" class=\"node\">\n<title>94</title>\n<polygon fill=\"#a7e84c\" stroke=\"black\" points=\"7085.12,-439.25 6868.88,-439.25 6868.88,-352.5 7085.12,-352.5 7085.12,-439.25\"/>\n<text xml:space=\"preserve\" text-anchor=\"middle\" x=\"6977\" y=\"-421.95\" font-family=\"Helvetica,sans-Serif\" font-size=\"14.00\">tGravityAcc&#45;energy()&#45;Y &lt;= &#45;0.974</text>\n<text xml:space=\"preserve\" text-anchor=\"middle\" x=\"6977\" y=\"-406.2\" font-family=\"Helvetica,sans-Serif\" font-size=\"14.00\">gini = 0.17</text>\n<text xml:space=\"preserve\" text-anchor=\"middle\" x=\"6977\" y=\"-390.45\" font-family=\"Helvetica,sans-Serif\" font-size=\"14.00\">samples = 917</text>\n<text xml:space=\"preserve\" text-anchor=\"middle\" x=\"6977\" y=\"-374.7\" font-family=\"Helvetica,sans-Serif\" font-size=\"14.00\">value = [56, 833, 28, 0, 0, 0]</text>\n<text xml:space=\"preserve\" text-anchor=\"middle\" x=\"6977\" y=\"-358.95\" font-family=\"Helvetica,sans-Serif\" font-size=\"14.00\">class = WALKING_UPSTAIRS</text>\n</g>\n<!-- 93&#45;&gt;94 -->\n<g id=\"edge94\" class=\"edge\">\n<title>93&#45;&gt;94</title>\n<path fill=\"none\" stroke=\"black\" d=\"M6977,-475.05C6977,-467.21 6977,-458.92 6977,-450.79\"/>\n<polygon fill=\"black\" stroke=\"black\" points=\"6980.5,-450.98 6977,-440.98 6973.5,-450.98 6980.5,-450.98\"/>\n</g>\n<!-- 105 -->\n<g id=\"node106\" class=\"node\">\n<title>105</title>\n<polygon fill=\"#eda672\" stroke=\"black\" points=\"7789.12,-439.25 7548.88,-439.25 7548.88,-352.5 7789.12,-352.5 7789.12,-439.25\"/>\n<text xml:space=\"preserve\" text-anchor=\"middle\" x=\"7669\" y=\"-421.95\" font-family=\"Helvetica,sans-Serif\" font-size=\"14.00\">tGravityAccMag&#45;arCoeff()1 &lt;= &#45;0.294</text>\n<text xml:space=\"preserve\" text-anchor=\"middle\" x=\"7669\" y=\"-406.2\" font-family=\"Helvetica,sans-Serif\" font-size=\"14.00\">gini = 0.406</text>\n<text xml:space=\"preserve\" text-anchor=\"middle\" x=\"7669\" y=\"-390.45\" font-family=\"Helvetica,sans-Serif\" font-size=\"14.00\">samples = 80</text>\n<text xml:space=\"preserve\" text-anchor=\"middle\" x=\"7669\" y=\"-374.7\" font-family=\"Helvetica,sans-Serif\" font-size=\"14.00\">value = [60, 11, 9, 0, 0, 0]</text>\n<text xml:space=\"preserve\" text-anchor=\"middle\" x=\"7669\" y=\"-358.95\" font-family=\"Helvetica,sans-Serif\" font-size=\"14.00\">class = WALKING</text>\n</g>\n<!-- 93&#45;&gt;105 -->\n<g id=\"edge105\" class=\"edge\">\n<title>93&#45;&gt;105</title>\n<path fill=\"none\" stroke=\"black\" d=\"M7077.25,-500.13C7198.67,-478.95 7403.52,-443.2 7537.5,-419.82\"/>\n<polygon fill=\"black\" stroke=\"black\" points=\"7537.89,-423.31 7547.14,-418.14 7536.68,-416.41 7537.89,-423.31\"/>\n</g>\n<!-- 95 -->\n<g id=\"node96\" class=\"node\">\n<title>95</title>\n<polygon fill=\"#9cf2c0\" stroke=\"black\" points=\"6968.25,-316.5 6737.75,-316.5 6737.75,-229.75 6968.25,-229.75 6968.25,-316.5\"/>\n<text xml:space=\"preserve\" text-anchor=\"middle\" x=\"6853\" y=\"-299.2\" font-family=\"Helvetica,sans-Serif\" font-size=\"14.00\">tGravityAcc&#45;arCoeff()&#45;X,3 &lt;= &#45;0.804</text>\n<text xml:space=\"preserve\" text-anchor=\"middle\" x=\"6853\" y=\"-283.45\" font-family=\"Helvetica,sans-Serif\" font-size=\"14.00\">gini = 0.444</text>\n<text xml:space=\"preserve\" text-anchor=\"middle\" x=\"6853\" y=\"-267.7\" font-family=\"Helvetica,sans-Serif\" font-size=\"14.00\">samples = 30</text>\n<text xml:space=\"preserve\" text-anchor=\"middle\" x=\"6853\" y=\"-251.95\" font-family=\"Helvetica,sans-Serif\" font-size=\"14.00\">value = [10, 0, 20, 0, 0, 0]</text>\n<text xml:space=\"preserve\" text-anchor=\"middle\" x=\"6853\" y=\"-236.2\" font-family=\"Helvetica,sans-Serif\" font-size=\"14.00\">class = WALKING_DOWNSTAIRS</text>\n</g>\n<!-- 94&#45;&gt;95 -->\n<g id=\"edge95\" class=\"edge\">\n<title>94&#45;&gt;95</title>\n<path fill=\"none\" stroke=\"black\" d=\"M6933.28,-352.3C6924.11,-343.38 6914.36,-333.88 6904.93,-324.69\"/>\n<polygon fill=\"black\" stroke=\"black\" points=\"6907.43,-322.24 6897.83,-317.78 6902.55,-327.26 6907.43,-322.24\"/>\n</g>\n<!-- 98 -->\n<g id=\"node99\" class=\"node\">\n<title>98</title>\n<polygon fill=\"#a3e746\" stroke=\"black\" points=\"7215.5,-316.5 6986.5,-316.5 6986.5,-229.75 7215.5,-229.75 7215.5,-316.5\"/>\n<text xml:space=\"preserve\" text-anchor=\"middle\" x=\"7101\" y=\"-299.2\" font-family=\"Helvetica,sans-Serif\" font-size=\"14.00\">tGravityAcc&#45;arCoeff()&#45;Y,3 &lt;= &#45;0.306</text>\n<text xml:space=\"preserve\" text-anchor=\"middle\" x=\"7101\" y=\"-283.45\" font-family=\"Helvetica,sans-Serif\" font-size=\"14.00\">gini = 0.115</text>\n<text xml:space=\"preserve\" text-anchor=\"middle\" x=\"7101\" y=\"-267.7\" font-family=\"Helvetica,sans-Serif\" font-size=\"14.00\">samples = 887</text>\n<text xml:space=\"preserve\" text-anchor=\"middle\" x=\"7101\" y=\"-251.95\" font-family=\"Helvetica,sans-Serif\" font-size=\"14.00\">value = [46, 833, 8, 0, 0, 0]</text>\n<text xml:space=\"preserve\" text-anchor=\"middle\" x=\"7101\" y=\"-236.2\" font-family=\"Helvetica,sans-Serif\" font-size=\"14.00\">class = WALKING_UPSTAIRS</text>\n</g>\n<!-- 94&#45;&gt;98 -->\n<g id=\"edge98\" class=\"edge\">\n<title>94&#45;&gt;98</title>\n<path fill=\"none\" stroke=\"black\" d=\"M7020.72,-352.3C7029.89,-343.38 7039.64,-333.88 7049.07,-324.69\"/>\n<polygon fill=\"black\" stroke=\"black\" points=\"7051.45,-327.26 7056.17,-317.78 7046.57,-322.24 7051.45,-327.26\"/>\n</g>\n<!-- 96 -->\n<g id=\"node97\" class=\"node\">\n<title>96</title>\n<polygon fill=\"#39e581\" stroke=\"black\" points=\"6778.62,-185.88 6553.38,-185.88 6553.38,-114.88 6778.62,-114.88 6778.62,-185.88\"/>\n<text xml:space=\"preserve\" text-anchor=\"middle\" x=\"6666\" y=\"-168.57\" font-family=\"Helvetica,sans-Serif\" font-size=\"14.00\">gini = 0.0</text>\n<text xml:space=\"preserve\" text-anchor=\"middle\" x=\"6666\" y=\"-152.82\" font-family=\"Helvetica,sans-Serif\" font-size=\"14.00\">samples = 20</text>\n<text xml:space=\"preserve\" text-anchor=\"middle\" x=\"6666\" y=\"-137.07\" font-family=\"Helvetica,sans-Serif\" font-size=\"14.00\">value = [0, 0, 20, 0, 0, 0]</text>\n<text xml:space=\"preserve\" text-anchor=\"middle\" x=\"6666\" y=\"-121.33\" font-family=\"Helvetica,sans-Serif\" font-size=\"14.00\">class = WALKING_DOWNSTAIRS</text>\n</g>\n<!-- 95&#45;&gt;96 -->\n<g id=\"edge96\" class=\"edge\">\n<title>95&#45;&gt;96</title>\n<path fill=\"none\" stroke=\"black\" d=\"M6786.81,-229.38C6768.2,-217.37 6748.01,-204.33 6729.55,-192.41\"/>\n<polygon fill=\"black\" stroke=\"black\" points=\"6731.65,-189.6 6721.35,-187.12 6727.85,-195.48 6731.65,-189.6\"/>\n</g>\n<!-- 97 -->\n<g id=\"node98\" class=\"node\">\n<title>97</title>\n<polygon fill=\"#e58139\" stroke=\"black\" points=\"6957.75,-185.88 6796.25,-185.88 6796.25,-114.88 6957.75,-114.88 6957.75,-185.88\"/>\n<text xml:space=\"preserve\" text-anchor=\"middle\" x=\"6877\" y=\"-168.57\" font-family=\"Helvetica,sans-Serif\" font-size=\"14.00\">gini = 0.0</text>\n<text xml:space=\"preserve\" text-anchor=\"middle\" x=\"6877\" y=\"-152.82\" font-family=\"Helvetica,sans-Serif\" font-size=\"14.00\">samples = 10</text>\n<text xml:space=\"preserve\" text-anchor=\"middle\" x=\"6877\" y=\"-137.07\" font-family=\"Helvetica,sans-Serif\" font-size=\"14.00\">value = [10, 0, 0, 0, 0, 0]</text>\n<text xml:space=\"preserve\" text-anchor=\"middle\" x=\"6877\" y=\"-121.33\" font-family=\"Helvetica,sans-Serif\" font-size=\"14.00\">class = WALKING</text>\n</g>\n<!-- 95&#45;&gt;97 -->\n<g id=\"edge97\" class=\"edge\">\n<title>95&#45;&gt;97</title>\n<path fill=\"none\" stroke=\"black\" d=\"M6861.46,-229.55C6863.54,-219.08 6865.78,-207.83 6867.89,-197.21\"/>\n<polygon fill=\"black\" stroke=\"black\" points=\"6871.31,-197.98 6869.82,-187.49 6864.44,-196.61 6871.31,-197.98\"/>\n</g>\n<!-- 99 -->\n<g id=\"node100\" class=\"node\">\n<title>99</title>\n<polygon fill=\"#a0e640\" stroke=\"black\" points=\"7175.88,-193.75 6976.12,-193.75 6976.12,-107 7175.88,-107 7175.88,-193.75\"/>\n<text xml:space=\"preserve\" text-anchor=\"middle\" x=\"7076\" y=\"-176.45\" font-family=\"Helvetica,sans-Serif\" font-size=\"14.00\">tBodyAcc&#45;max()&#45;X &lt;= &#45;0.364</text>\n<text xml:space=\"preserve\" text-anchor=\"middle\" x=\"7076\" y=\"-160.7\" font-family=\"Helvetica,sans-Serif\" font-size=\"14.00\">gini = 0.066</text>\n<text xml:space=\"preserve\" text-anchor=\"middle\" x=\"7076\" y=\"-144.95\" font-family=\"Helvetica,sans-Serif\" font-size=\"14.00\">samples = 827</text>\n<text xml:space=\"preserve\" text-anchor=\"middle\" x=\"7076\" y=\"-129.2\" font-family=\"Helvetica,sans-Serif\" font-size=\"14.00\">value = [21, 799, 7, 0, 0, 0]</text>\n<text xml:space=\"preserve\" text-anchor=\"middle\" x=\"7076\" y=\"-113.45\" font-family=\"Helvetica,sans-Serif\" font-size=\"14.00\">class = WALKING_UPSTAIRS</text>\n</g>\n<!-- 98&#45;&gt;99 -->\n<g id=\"edge99\" class=\"edge\">\n<title>98&#45;&gt;99</title>\n<path fill=\"none\" stroke=\"black\" d=\"M7092.19,-229.55C7090.54,-221.62 7088.81,-213.23 7087.11,-205.01\"/>\n<polygon fill=\"black\" stroke=\"black\" points=\"7090.58,-204.53 7085.13,-195.45 7083.73,-205.95 7090.58,-204.53\"/>\n</g>\n<!-- 102 -->\n<g id=\"node103\" class=\"node\">\n<title>102</title>\n<polygon fill=\"#e6f8cc\" stroke=\"black\" points=\"7457.75,-193.75 7194.25,-193.75 7194.25,-107 7457.75,-107 7457.75,-193.75\"/>\n<text xml:space=\"preserve\" text-anchor=\"middle\" x=\"7326\" y=\"-176.45\" font-family=\"Helvetica,sans-Serif\" font-size=\"14.00\">tBodyAccJerk&#45;correlation()&#45;X,Y &lt;= &#45;0.003</text>\n<text xml:space=\"preserve\" text-anchor=\"middle\" x=\"7326\" y=\"-160.7\" font-family=\"Helvetica,sans-Serif\" font-size=\"14.00\">gini = 0.505</text>\n<text xml:space=\"preserve\" text-anchor=\"middle\" x=\"7326\" y=\"-144.95\" font-family=\"Helvetica,sans-Serif\" font-size=\"14.00\">samples = 60</text>\n<text xml:space=\"preserve\" text-anchor=\"middle\" x=\"7326\" y=\"-129.2\" font-family=\"Helvetica,sans-Serif\" font-size=\"14.00\">value = [25, 34, 1, 0, 0, 0]</text>\n<text xml:space=\"preserve\" text-anchor=\"middle\" x=\"7326\" y=\"-113.45\" font-family=\"Helvetica,sans-Serif\" font-size=\"14.00\">class = WALKING_UPSTAIRS</text>\n</g>\n<!-- 98&#45;&gt;102 -->\n<g id=\"edge102\" class=\"edge\">\n<title>98&#45;&gt;102</title>\n<path fill=\"none\" stroke=\"black\" d=\"M7180.64,-229.38C7198.67,-219.71 7217.93,-209.37 7236.34,-199.49\"/>\n<polygon fill=\"black\" stroke=\"black\" points=\"7237.97,-202.59 7245.13,-194.78 7234.66,-196.42 7237.97,-202.59\"/>\n</g>\n<!-- 100 -->\n<g id=\"node101\" class=\"node\">\n<title>100</title>\n<polygon fill=\"#ffffff\" stroke=\"black\" points=\"6990,-71 6836,-71 6836,0 6990,0 6990,-71\"/>\n<text xml:space=\"preserve\" text-anchor=\"middle\" x=\"6913\" y=\"-53.7\" font-family=\"Helvetica,sans-Serif\" font-size=\"14.00\">gini = 0.5</text>\n<text xml:space=\"preserve\" text-anchor=\"middle\" x=\"6913\" y=\"-37.95\" font-family=\"Helvetica,sans-Serif\" font-size=\"14.00\">samples = 18</text>\n<text xml:space=\"preserve\" text-anchor=\"middle\" x=\"6913\" y=\"-22.2\" font-family=\"Helvetica,sans-Serif\" font-size=\"14.00\">value = [9, 9, 0, 0, 0, 0]</text>\n<text xml:space=\"preserve\" text-anchor=\"middle\" x=\"6913\" y=\"-6.45\" font-family=\"Helvetica,sans-Serif\" font-size=\"14.00\">class = WALKING</text>\n</g>\n<!-- 99&#45;&gt;100 -->\n<g id=\"edge100\" class=\"edge\">\n<title>99&#45;&gt;100</title>\n<path fill=\"none\" stroke=\"black\" d=\"M7014.38,-106.7C7000.68,-97.22 6986.18,-87.18 6972.57,-77.75\"/>\n<polygon fill=\"black\" stroke=\"black\" points=\"6974.76,-75.01 6964.55,-72.2 6970.78,-80.77 6974.76,-75.01\"/>\n</g>\n<!-- 101 -->\n<g id=\"node102\" class=\"node\">\n<title>101</title>\n<polygon fill=\"#9fe63e\" stroke=\"black\" points=\"7207.88,-71 7008.12,-71 7008.12,0 7207.88,0 7207.88,-71\"/>\n<text xml:space=\"preserve\" text-anchor=\"middle\" x=\"7108\" y=\"-53.7\" font-family=\"Helvetica,sans-Serif\" font-size=\"14.00\">gini = 0.046</text>\n<text xml:space=\"preserve\" text-anchor=\"middle\" x=\"7108\" y=\"-37.95\" font-family=\"Helvetica,sans-Serif\" font-size=\"14.00\">samples = 809</text>\n<text xml:space=\"preserve\" text-anchor=\"middle\" x=\"7108\" y=\"-22.2\" font-family=\"Helvetica,sans-Serif\" font-size=\"14.00\">value = [12, 790, 7, 0, 0, 0]</text>\n<text xml:space=\"preserve\" text-anchor=\"middle\" x=\"7108\" y=\"-6.45\" font-family=\"Helvetica,sans-Serif\" font-size=\"14.00\">class = WALKING_UPSTAIRS</text>\n</g>\n<!-- 99&#45;&gt;101 -->\n<g id=\"edge101\" class=\"edge\">\n<title>99&#45;&gt;101</title>\n<path fill=\"none\" stroke=\"black\" d=\"M7088.1,-106.7C7090.39,-98.63 7092.79,-90.16 7095.1,-82.01\"/>\n<polygon fill=\"black\" stroke=\"black\" points=\"7098.4,-83.19 7097.76,-72.61 7091.67,-81.28 7098.4,-83.19\"/>\n</g>\n<!-- 103 -->\n<g id=\"node104\" class=\"node\">\n<title>103</title>\n<polygon fill=\"#b2eb63\" stroke=\"black\" points=\"7425.88,-71 7226.12,-71 7226.12,0 7425.88,0 7425.88,-71\"/>\n<text xml:space=\"preserve\" text-anchor=\"middle\" x=\"7326\" y=\"-53.7\" font-family=\"Helvetica,sans-Serif\" font-size=\"14.00\">gini = 0.302</text>\n<text xml:space=\"preserve\" text-anchor=\"middle\" x=\"7326\" y=\"-37.95\" font-family=\"Helvetica,sans-Serif\" font-size=\"14.00\">samples = 39</text>\n<text xml:space=\"preserve\" text-anchor=\"middle\" x=\"7326\" y=\"-22.2\" font-family=\"Helvetica,sans-Serif\" font-size=\"14.00\">value = [6, 32, 1, 0, 0, 0]</text>\n<text xml:space=\"preserve\" text-anchor=\"middle\" x=\"7326\" y=\"-6.45\" font-family=\"Helvetica,sans-Serif\" font-size=\"14.00\">class = WALKING_UPSTAIRS</text>\n</g>\n<!-- 102&#45;&gt;103 -->\n<g id=\"edge103\" class=\"edge\">\n<title>102&#45;&gt;103</title>\n<path fill=\"none\" stroke=\"black\" d=\"M7326,-106.7C7326,-98.82 7326,-90.55 7326,-82.57\"/>\n<polygon fill=\"black\" stroke=\"black\" points=\"7329.5,-82.67 7326,-72.67 7322.5,-82.67 7329.5,-82.67\"/>\n</g>\n<!-- 104 -->\n<g id=\"node105\" class=\"node\">\n<title>104</title>\n<polygon fill=\"#e88e4e\" stroke=\"black\" points=\"7605.75,-71 7444.25,-71 7444.25,0 7605.75,0 7605.75,-71\"/>\n<text xml:space=\"preserve\" text-anchor=\"middle\" x=\"7525\" y=\"-53.7\" font-family=\"Helvetica,sans-Serif\" font-size=\"14.00\">gini = 0.172</text>\n<text xml:space=\"preserve\" text-anchor=\"middle\" x=\"7525\" y=\"-37.95\" font-family=\"Helvetica,sans-Serif\" font-size=\"14.00\">samples = 21</text>\n<text xml:space=\"preserve\" text-anchor=\"middle\" x=\"7525\" y=\"-22.2\" font-family=\"Helvetica,sans-Serif\" font-size=\"14.00\">value = [19, 2, 0, 0, 0, 0]</text>\n<text xml:space=\"preserve\" text-anchor=\"middle\" x=\"7525\" y=\"-6.45\" font-family=\"Helvetica,sans-Serif\" font-size=\"14.00\">class = WALKING</text>\n</g>\n<!-- 102&#45;&gt;104 -->\n<g id=\"edge104\" class=\"edge\">\n<title>102&#45;&gt;104</title>\n<path fill=\"none\" stroke=\"black\" d=\"M7401.52,-106.54C7418.61,-96.84 7436.71,-86.58 7453.63,-76.98\"/>\n<polygon fill=\"black\" stroke=\"black\" points=\"7455.15,-80.14 7462.12,-72.16 7451.7,-74.05 7455.15,-80.14\"/>\n</g>\n<!-- 106 -->\n<g id=\"node107\" class=\"node\">\n<title>106</title>\n<polygon fill=\"#caf193\" stroke=\"black\" points=\"7811.25,-316.5 7526.75,-316.5 7526.75,-229.75 7811.25,-229.75 7811.25,-316.5\"/>\n<text xml:space=\"preserve\" text-anchor=\"middle\" x=\"7669\" y=\"-299.2\" font-family=\"Helvetica,sans-Serif\" font-size=\"14.00\">fBodyAccJerk&#45;bandsEnergy()&#45;49,64 &lt;= &#45;0.92</text>\n<text xml:space=\"preserve\" text-anchor=\"middle\" x=\"7669\" y=\"-283.45\" font-family=\"Helvetica,sans-Serif\" font-size=\"14.00\">gini = 0.43</text>\n<text xml:space=\"preserve\" text-anchor=\"middle\" x=\"7669\" y=\"-267.7\" font-family=\"Helvetica,sans-Serif\" font-size=\"14.00\">samples = 16</text>\n<text xml:space=\"preserve\" text-anchor=\"middle\" x=\"7669\" y=\"-251.95\" font-family=\"Helvetica,sans-Serif\" font-size=\"14.00\">value = [0, 11, 5, 0, 0, 0]</text>\n<text xml:space=\"preserve\" text-anchor=\"middle\" x=\"7669\" y=\"-236.2\" font-family=\"Helvetica,sans-Serif\" font-size=\"14.00\">class = WALKING_UPSTAIRS</text>\n</g>\n<!-- 105&#45;&gt;106 -->\n<g id=\"edge106\" class=\"edge\">\n<title>105&#45;&gt;106</title>\n<path fill=\"none\" stroke=\"black\" d=\"M7669,-352.3C7669,-344.46 7669,-336.17 7669,-328.04\"/>\n<polygon fill=\"black\" stroke=\"black\" points=\"7672.5,-328.23 7669,-318.23 7665.5,-328.23 7672.5,-328.23\"/>\n</g>\n<!-- 109 -->\n<g id=\"node110\" class=\"node\">\n<title>109</title>\n<polygon fill=\"#e78946\" stroke=\"black\" points=\"8178.38,-316.5 7921.62,-316.5 7921.62,-229.75 8178.38,-229.75 8178.38,-316.5\"/>\n<text xml:space=\"preserve\" text-anchor=\"middle\" x=\"8050\" y=\"-299.2\" font-family=\"Helvetica,sans-Serif\" font-size=\"14.00\">fBodyBodyGyroMag&#45;maxInds &lt;= &#45;0.974</text>\n<text xml:space=\"preserve\" text-anchor=\"middle\" x=\"8050\" y=\"-283.45\" font-family=\"Helvetica,sans-Serif\" font-size=\"14.00\">gini = 0.117</text>\n<text xml:space=\"preserve\" text-anchor=\"middle\" x=\"8050\" y=\"-267.7\" font-family=\"Helvetica,sans-Serif\" font-size=\"14.00\">samples = 64</text>\n<text xml:space=\"preserve\" text-anchor=\"middle\" x=\"8050\" y=\"-251.95\" font-family=\"Helvetica,sans-Serif\" font-size=\"14.00\">value = [60, 0, 4, 0, 0, 0]</text>\n<text xml:space=\"preserve\" text-anchor=\"middle\" x=\"8050\" y=\"-236.2\" font-family=\"Helvetica,sans-Serif\" font-size=\"14.00\">class = WALKING</text>\n</g>\n<!-- 105&#45;&gt;109 -->\n<g id=\"edge109\" class=\"edge\">\n<title>105&#45;&gt;109</title>\n<path fill=\"none\" stroke=\"black\" d=\"M7789.55,-356.67C7827.99,-344.49 7870.85,-330.9 7910.52,-318.33\"/>\n<polygon fill=\"black\" stroke=\"black\" points=\"7911.42,-321.72 7919.9,-315.36 7909.31,-315.04 7911.42,-321.72\"/>\n</g>\n<!-- 107 -->\n<g id=\"node108\" class=\"node\">\n<title>107</title>\n<polygon fill=\"#9de539\" stroke=\"black\" points=\"7675.88,-185.88 7476.12,-185.88 7476.12,-114.88 7675.88,-114.88 7675.88,-185.88\"/>\n<text xml:space=\"preserve\" text-anchor=\"middle\" x=\"7576\" y=\"-168.57\" font-family=\"Helvetica,sans-Serif\" font-size=\"14.00\">gini = 0.0</text>\n<text xml:space=\"preserve\" text-anchor=\"middle\" x=\"7576\" y=\"-152.82\" font-family=\"Helvetica,sans-Serif\" font-size=\"14.00\">samples = 11</text>\n<text xml:space=\"preserve\" text-anchor=\"middle\" x=\"7576\" y=\"-137.07\" font-family=\"Helvetica,sans-Serif\" font-size=\"14.00\">value = [0, 11, 0, 0, 0, 0]</text>\n<text xml:space=\"preserve\" text-anchor=\"middle\" x=\"7576\" y=\"-121.33\" font-family=\"Helvetica,sans-Serif\" font-size=\"14.00\">class = WALKING_UPSTAIRS</text>\n</g>\n<!-- 106&#45;&gt;107 -->\n<g id=\"edge107\" class=\"edge\">\n<title>106&#45;&gt;107</title>\n<path fill=\"none\" stroke=\"black\" d=\"M7636.21,-229.55C7627.55,-218.3 7618.18,-206.14 7609.48,-194.85\"/>\n<polygon fill=\"black\" stroke=\"black\" points=\"7612.47,-192.99 7603.59,-187.2 7606.92,-197.26 7612.47,-192.99\"/>\n</g>\n<!-- 108 -->\n<g id=\"node109\" class=\"node\">\n<title>108</title>\n<polygon fill=\"#39e581\" stroke=\"black\" points=\"7919.62,-185.88 7694.38,-185.88 7694.38,-114.88 7919.62,-114.88 7919.62,-185.88\"/>\n<text xml:space=\"preserve\" text-anchor=\"middle\" x=\"7807\" y=\"-168.57\" font-family=\"Helvetica,sans-Serif\" font-size=\"14.00\">gini = 0.0</text>\n<text xml:space=\"preserve\" text-anchor=\"middle\" x=\"7807\" y=\"-152.82\" font-family=\"Helvetica,sans-Serif\" font-size=\"14.00\">samples = 5</text>\n<text xml:space=\"preserve\" text-anchor=\"middle\" x=\"7807\" y=\"-137.07\" font-family=\"Helvetica,sans-Serif\" font-size=\"14.00\">value = [0, 0, 5, 0, 0, 0]</text>\n<text xml:space=\"preserve\" text-anchor=\"middle\" x=\"7807\" y=\"-121.33\" font-family=\"Helvetica,sans-Serif\" font-size=\"14.00\">class = WALKING_DOWNSTAIRS</text>\n</g>\n<!-- 106&#45;&gt;108 -->\n<g id=\"edge108\" class=\"edge\">\n<title>106&#45;&gt;108</title>\n<path fill=\"none\" stroke=\"black\" d=\"M7717.65,-229.55C7731.02,-217.86 7745.51,-205.18 7758.85,-193.51\"/>\n<polygon fill=\"black\" stroke=\"black\" points=\"7761.06,-196.22 7766.29,-187 7756.45,-190.95 7761.06,-196.22\"/>\n</g>\n<!-- 110 -->\n<g id=\"node111\" class=\"node\">\n<title>110</title>\n<polygon fill=\"#39e581\" stroke=\"black\" points=\"8162.62,-185.88 7937.38,-185.88 7937.38,-114.88 8162.62,-114.88 8162.62,-185.88\"/>\n<text xml:space=\"preserve\" text-anchor=\"middle\" x=\"8050\" y=\"-168.57\" font-family=\"Helvetica,sans-Serif\" font-size=\"14.00\">gini = 0.0</text>\n<text xml:space=\"preserve\" text-anchor=\"middle\" x=\"8050\" y=\"-152.82\" font-family=\"Helvetica,sans-Serif\" font-size=\"14.00\">samples = 3</text>\n<text xml:space=\"preserve\" text-anchor=\"middle\" x=\"8050\" y=\"-137.07\" font-family=\"Helvetica,sans-Serif\" font-size=\"14.00\">value = [0, 0, 3, 0, 0, 0]</text>\n<text xml:space=\"preserve\" text-anchor=\"middle\" x=\"8050\" y=\"-121.33\" font-family=\"Helvetica,sans-Serif\" font-size=\"14.00\">class = WALKING_DOWNSTAIRS</text>\n</g>\n<!-- 109&#45;&gt;110 -->\n<g id=\"edge110\" class=\"edge\">\n<title>109&#45;&gt;110</title>\n<path fill=\"none\" stroke=\"black\" d=\"M8050,-229.55C8050,-219.08 8050,-207.83 8050,-197.21\"/>\n<polygon fill=\"black\" stroke=\"black\" points=\"8053.5,-197.52 8050,-187.52 8046.5,-197.52 8053.5,-197.52\"/>\n</g>\n<!-- 111 -->\n<g id=\"node112\" class=\"node\">\n<title>111</title>\n<polygon fill=\"#e5833c\" stroke=\"black\" points=\"8398.88,-193.75 8181.12,-193.75 8181.12,-107 8398.88,-107 8398.88,-193.75\"/>\n<text xml:space=\"preserve\" text-anchor=\"middle\" x=\"8290\" y=\"-176.45\" font-family=\"Helvetica,sans-Serif\" font-size=\"14.00\">tBodyAccJerk&#45;mean()&#45;Y &lt;= 0.627</text>\n<text xml:space=\"preserve\" text-anchor=\"middle\" x=\"8290\" y=\"-160.7\" font-family=\"Helvetica,sans-Serif\" font-size=\"14.00\">gini = 0.032</text>\n<text xml:space=\"preserve\" text-anchor=\"middle\" x=\"8290\" y=\"-144.95\" font-family=\"Helvetica,sans-Serif\" font-size=\"14.00\">samples = 61</text>\n<text xml:space=\"preserve\" text-anchor=\"middle\" x=\"8290\" y=\"-129.2\" font-family=\"Helvetica,sans-Serif\" font-size=\"14.00\">value = [60, 0, 1, 0, 0, 0]</text>\n<text xml:space=\"preserve\" text-anchor=\"middle\" x=\"8290\" y=\"-113.45\" font-family=\"Helvetica,sans-Serif\" font-size=\"14.00\">class = WALKING</text>\n</g>\n<!-- 109&#45;&gt;111 -->\n<g id=\"edge111\" class=\"edge\">\n<title>109&#45;&gt;111</title>\n<path fill=\"none\" stroke=\"black\" d=\"M8134.95,-229.38C8154.36,-219.62 8175.11,-209.18 8194.91,-199.22\"/>\n<polygon fill=\"black\" stroke=\"black\" points=\"8196.45,-202.36 8203.81,-194.74 8193.3,-196.11 8196.45,-202.36\"/>\n</g>\n<!-- 112 -->\n<g id=\"node113\" class=\"node\">\n<title>112</title>\n<polygon fill=\"#e58139\" stroke=\"black\" points=\"8265.75,-71 8104.25,-71 8104.25,0 8265.75,0 8265.75,-71\"/>\n<text xml:space=\"preserve\" text-anchor=\"middle\" x=\"8185\" y=\"-53.7\" font-family=\"Helvetica,sans-Serif\" font-size=\"14.00\">gini = 0.0</text>\n<text xml:space=\"preserve\" text-anchor=\"middle\" x=\"8185\" y=\"-37.95\" font-family=\"Helvetica,sans-Serif\" font-size=\"14.00\">samples = 60</text>\n<text xml:space=\"preserve\" text-anchor=\"middle\" x=\"8185\" y=\"-22.2\" font-family=\"Helvetica,sans-Serif\" font-size=\"14.00\">value = [60, 0, 0, 0, 0, 0]</text>\n<text xml:space=\"preserve\" text-anchor=\"middle\" x=\"8185\" y=\"-6.45\" font-family=\"Helvetica,sans-Serif\" font-size=\"14.00\">class = WALKING</text>\n</g>\n<!-- 111&#45;&gt;112 -->\n<g id=\"edge112\" class=\"edge\">\n<title>111&#45;&gt;112</title>\n<path fill=\"none\" stroke=\"black\" d=\"M8250.3,-106.7C8242.03,-97.81 8233.3,-88.43 8225.02,-79.52\"/>\n<polygon fill=\"black\" stroke=\"black\" points=\"8227.64,-77.2 8218.27,-72.27 8222.52,-81.97 8227.64,-77.2\"/>\n</g>\n<!-- 113 -->\n<g id=\"node114\" class=\"node\">\n<title>113</title>\n<polygon fill=\"#39e581\" stroke=\"black\" points=\"8508.62,-71 8283.38,-71 8283.38,0 8508.62,0 8508.62,-71\"/>\n<text xml:space=\"preserve\" text-anchor=\"middle\" x=\"8396\" y=\"-53.7\" font-family=\"Helvetica,sans-Serif\" font-size=\"14.00\">gini = 0.0</text>\n<text xml:space=\"preserve\" text-anchor=\"middle\" x=\"8396\" y=\"-37.95\" font-family=\"Helvetica,sans-Serif\" font-size=\"14.00\">samples = 1</text>\n<text xml:space=\"preserve\" text-anchor=\"middle\" x=\"8396\" y=\"-22.2\" font-family=\"Helvetica,sans-Serif\" font-size=\"14.00\">value = [0, 0, 1, 0, 0, 0]</text>\n<text xml:space=\"preserve\" text-anchor=\"middle\" x=\"8396\" y=\"-6.45\" font-family=\"Helvetica,sans-Serif\" font-size=\"14.00\">class = WALKING_DOWNSTAIRS</text>\n</g>\n<!-- 111&#45;&gt;113 -->\n<g id=\"edge113\" class=\"edge\">\n<title>111&#45;&gt;113</title>\n<path fill=\"none\" stroke=\"black\" d=\"M8330.07,-106.7C8338.43,-97.81 8347.24,-88.43 8355.6,-79.52\"/>\n<polygon fill=\"black\" stroke=\"black\" points=\"8358.12,-81.95 8362.42,-72.26 8353.02,-77.15 8358.12,-81.95\"/>\n</g>\n<!-- 115 -->\n<g id=\"node116\" class=\"node\">\n<title>115</title>\n<polygon fill=\"#44e788\" stroke=\"black\" points=\"9144.25,-562 8913.75,-562 8913.75,-475.25 9144.25,-475.25 9144.25,-562\"/>\n<text xml:space=\"preserve\" text-anchor=\"middle\" x=\"9029\" y=\"-544.7\" font-family=\"Helvetica,sans-Serif\" font-size=\"14.00\">tGravityAcc&#45;arCoeff()&#45;X,3 &lt;= &#45;0.445</text>\n<text xml:space=\"preserve\" text-anchor=\"middle\" x=\"9029\" y=\"-528.95\" font-family=\"Helvetica,sans-Serif\" font-size=\"14.00\">gini = 0.107</text>\n<text xml:space=\"preserve\" text-anchor=\"middle\" x=\"9029\" y=\"-513.2\" font-family=\"Helvetica,sans-Serif\" font-size=\"14.00\">samples = 860</text>\n<text xml:space=\"preserve\" text-anchor=\"middle\" x=\"9029\" y=\"-497.45\" font-family=\"Helvetica,sans-Serif\" font-size=\"14.00\">value = [17, 31, 812, 0, 0, 0]</text>\n<text xml:space=\"preserve\" text-anchor=\"middle\" x=\"9029\" y=\"-481.7\" font-family=\"Helvetica,sans-Serif\" font-size=\"14.00\">class = WALKING_DOWNSTAIRS</text>\n</g>\n<!-- 114&#45;&gt;115 -->\n<g id=\"edge115\" class=\"edge\">\n<title>114&#45;&gt;115</title>\n<path fill=\"none\" stroke=\"black\" d=\"M9029,-597.8C9029,-589.96 9029,-581.67 9029,-573.54\"/>\n<polygon fill=\"black\" stroke=\"black\" points=\"9032.5,-573.73 9029,-563.73 9025.5,-573.73 9032.5,-573.73\"/>\n</g>\n<!-- 128 -->\n<g id=\"node129\" class=\"node\">\n<title>128</title>\n<polygon fill=\"#a7e84e\" stroke=\"black\" points=\"9547.25,-562 9262.75,-562 9262.75,-475.25 9547.25,-475.25 9547.25,-562\"/>\n<text xml:space=\"preserve\" text-anchor=\"middle\" x=\"9405\" y=\"-544.7\" font-family=\"Helvetica,sans-Serif\" font-size=\"14.00\">fBodyAccJerk&#45;bandsEnergy()&#45;1,24 &lt;= &#45;0.475</text>\n<text xml:space=\"preserve\" text-anchor=\"middle\" x=\"9405\" y=\"-528.95\" font-family=\"Helvetica,sans-Serif\" font-size=\"14.00\">gini = 0.182</text>\n<text xml:space=\"preserve\" text-anchor=\"middle\" x=\"9405\" y=\"-513.2\" font-family=\"Helvetica,sans-Serif\" font-size=\"14.00\">samples = 61</text>\n<text xml:space=\"preserve\" text-anchor=\"middle\" x=\"9405\" y=\"-497.45\" font-family=\"Helvetica,sans-Serif\" font-size=\"14.00\">value = [2, 55, 4, 0, 0, 0]</text>\n<text xml:space=\"preserve\" text-anchor=\"middle\" x=\"9405\" y=\"-481.7\" font-family=\"Helvetica,sans-Serif\" font-size=\"14.00\">class = WALKING_UPSTAIRS</text>\n</g>\n<!-- 114&#45;&gt;128 -->\n<g id=\"edge128\" class=\"edge\">\n<title>114&#45;&gt;128</title>\n<path fill=\"none\" stroke=\"black\" d=\"M9148.74,-601.92C9184.35,-590.48 9223.75,-577.83 9260.74,-565.95\"/>\n<polygon fill=\"black\" stroke=\"black\" points=\"9261.73,-569.31 9270.18,-562.92 9259.59,-562.65 9261.73,-569.31\"/>\n</g>\n<!-- 116 -->\n<g id=\"node117\" class=\"node\">\n<title>116</title>\n<polygon fill=\"#42e687\" stroke=\"black\" points=\"9075,-439.25 8783,-439.25 8783,-352.5 9075,-352.5 9075,-439.25\"/>\n<text xml:space=\"preserve\" text-anchor=\"middle\" x=\"8929\" y=\"-421.95\" font-family=\"Helvetica,sans-Serif\" font-size=\"14.00\">fBodyAccJerk&#45;bandsEnergy()&#45;17,32 &lt;= &#45;0.964</text>\n<text xml:space=\"preserve\" text-anchor=\"middle\" x=\"8929\" y=\"-406.2\" font-family=\"Helvetica,sans-Serif\" font-size=\"14.00\">gini = 0.086</text>\n<text xml:space=\"preserve\" text-anchor=\"middle\" x=\"8929\" y=\"-390.45\" font-family=\"Helvetica,sans-Serif\" font-size=\"14.00\">samples = 847</text>\n<text xml:space=\"preserve\" text-anchor=\"middle\" x=\"8929\" y=\"-374.7\" font-family=\"Helvetica,sans-Serif\" font-size=\"14.00\">value = [7, 31, 809, 0, 0, 0]</text>\n<text xml:space=\"preserve\" text-anchor=\"middle\" x=\"8929\" y=\"-358.95\" font-family=\"Helvetica,sans-Serif\" font-size=\"14.00\">class = WALKING_DOWNSTAIRS</text>\n</g>\n<!-- 115&#45;&gt;116 -->\n<g id=\"edge116\" class=\"edge\">\n<title>115&#45;&gt;116</title>\n<path fill=\"none\" stroke=\"black\" d=\"M8993.74,-475.05C8986.57,-466.4 8978.96,-457.2 8971.57,-448.28\"/>\n<polygon fill=\"black\" stroke=\"black\" points=\"8974.31,-446.1 8965.24,-440.64 8968.92,-450.57 8974.31,-446.1\"/>\n</g>\n<!-- 125 -->\n<g id=\"node126\" class=\"node\">\n<title>125</title>\n<polygon fill=\"#eda774\" stroke=\"black\" points=\"9286.88,-439.25 9093.12,-439.25 9093.12,-352.5 9286.88,-352.5 9286.88,-439.25\"/>\n<text xml:space=\"preserve\" text-anchor=\"middle\" x=\"9190\" y=\"-421.95\" font-family=\"Helvetica,sans-Serif\" font-size=\"14.00\">tGravityAcc&#45;max()&#45;Y &lt;= &#45;0.16</text>\n<text xml:space=\"preserve\" text-anchor=\"middle\" x=\"9190\" y=\"-406.2\" font-family=\"Helvetica,sans-Serif\" font-size=\"14.00\">gini = 0.355</text>\n<text xml:space=\"preserve\" text-anchor=\"middle\" x=\"9190\" y=\"-390.45\" font-family=\"Helvetica,sans-Serif\" font-size=\"14.00\">samples = 13</text>\n<text xml:space=\"preserve\" text-anchor=\"middle\" x=\"9190\" y=\"-374.7\" font-family=\"Helvetica,sans-Serif\" font-size=\"14.00\">value = [10, 0, 3, 0, 0, 0]</text>\n<text xml:space=\"preserve\" text-anchor=\"middle\" x=\"9190\" y=\"-358.95\" font-family=\"Helvetica,sans-Serif\" font-size=\"14.00\">class = WALKING</text>\n</g>\n<!-- 115&#45;&gt;125 -->\n<g id=\"edge125\" class=\"edge\">\n<title>115&#45;&gt;125</title>\n<path fill=\"none\" stroke=\"black\" d=\"M9085.76,-475.05C9098.07,-465.82 9111.2,-455.98 9123.84,-446.5\"/>\n<polygon fill=\"black\" stroke=\"black\" points=\"9125.82,-449.38 9131.72,-440.58 9121.62,-443.78 9125.82,-449.38\"/>\n</g>\n<!-- 117 -->\n<g id=\"node118\" class=\"node\">\n<title>117</title>\n<polygon fill=\"#f8fdf1\" stroke=\"black\" points=\"8848.75,-316.5 8597.25,-316.5 8597.25,-229.75 8848.75,-229.75 8848.75,-316.5\"/>\n<text xml:space=\"preserve\" text-anchor=\"middle\" x=\"8723\" y=\"-299.2\" font-family=\"Helvetica,sans-Serif\" font-size=\"14.00\">fBodyAcc&#45;bandsEnergy()&#45;1,8 &lt;= &#45;0.387</text>\n<text xml:space=\"preserve\" text-anchor=\"middle\" x=\"8723\" y=\"-283.45\" font-family=\"Helvetica,sans-Serif\" font-size=\"14.00\">gini = 0.499</text>\n<text xml:space=\"preserve\" text-anchor=\"middle\" x=\"8723\" y=\"-267.7\" font-family=\"Helvetica,sans-Serif\" font-size=\"14.00\">samples = 27</text>\n<text xml:space=\"preserve\" text-anchor=\"middle\" x=\"8723\" y=\"-251.95\" font-family=\"Helvetica,sans-Serif\" font-size=\"14.00\">value = [0, 14, 13, 0, 0, 0]</text>\n<text xml:space=\"preserve\" text-anchor=\"middle\" x=\"8723\" y=\"-236.2\" font-family=\"Helvetica,sans-Serif\" font-size=\"14.00\">class = WALKING_UPSTAIRS</text>\n</g>\n<!-- 116&#45;&gt;117 -->\n<g id=\"edge117\" class=\"edge\">\n<title>116&#45;&gt;117</title>\n<path fill=\"none\" stroke=\"black\" d=\"M8856.08,-352.13C8839.73,-342.55 8822.27,-332.31 8805.56,-322.52\"/>\n<polygon fill=\"black\" stroke=\"black\" points=\"8807.52,-319.61 8797.13,-317.57 8803.98,-325.65 8807.52,-319.61\"/>\n</g>\n<!-- 120 -->\n<g id=\"node121\" class=\"node\">\n<title>120</title>\n<polygon fill=\"#3fe685\" stroke=\"black\" points=\"9091.62,-316.5 8866.38,-316.5 8866.38,-229.75 9091.62,-229.75 9091.62,-316.5\"/>\n<text xml:space=\"preserve\" text-anchor=\"middle\" x=\"8979\" y=\"-299.2\" font-family=\"Helvetica,sans-Serif\" font-size=\"14.00\">tBodyAccJerk&#45;max()&#45;X &lt;= &#45;0.512</text>\n<text xml:space=\"preserve\" text-anchor=\"middle\" x=\"8979\" y=\"-283.45\" font-family=\"Helvetica,sans-Serif\" font-size=\"14.00\">gini = 0.057</text>\n<text xml:space=\"preserve\" text-anchor=\"middle\" x=\"8979\" y=\"-267.7\" font-family=\"Helvetica,sans-Serif\" font-size=\"14.00\">samples = 820</text>\n<text xml:space=\"preserve\" text-anchor=\"middle\" x=\"8979\" y=\"-251.95\" font-family=\"Helvetica,sans-Serif\" font-size=\"14.00\">value = [7, 17, 796, 0, 0, 0]</text>\n<text xml:space=\"preserve\" text-anchor=\"middle\" x=\"8979\" y=\"-236.2\" font-family=\"Helvetica,sans-Serif\" font-size=\"14.00\">class = WALKING_DOWNSTAIRS</text>\n</g>\n<!-- 116&#45;&gt;120 -->\n<g id=\"edge120\" class=\"edge\">\n<title>116&#45;&gt;120</title>\n<path fill=\"none\" stroke=\"black\" d=\"M8946.63,-352.3C8949.99,-344.19 8953.54,-335.6 8957.02,-327.2\"/>\n<polygon fill=\"black\" stroke=\"black\" points=\"8960.19,-328.7 8960.78,-318.12 8953.72,-326.02 8960.19,-328.7\"/>\n</g>\n<!-- 118 -->\n<g id=\"node119\" class=\"node\">\n<title>118</title>\n<polygon fill=\"#9de539\" stroke=\"black\" points=\"8616.88,-185.88 8417.12,-185.88 8417.12,-114.88 8616.88,-114.88 8616.88,-185.88\"/>\n<text xml:space=\"preserve\" text-anchor=\"middle\" x=\"8517\" y=\"-168.57\" font-family=\"Helvetica,sans-Serif\" font-size=\"14.00\">gini = 0.0</text>\n<text xml:space=\"preserve\" text-anchor=\"middle\" x=\"8517\" y=\"-152.82\" font-family=\"Helvetica,sans-Serif\" font-size=\"14.00\">samples = 14</text>\n<text xml:space=\"preserve\" text-anchor=\"middle\" x=\"8517\" y=\"-137.07\" font-family=\"Helvetica,sans-Serif\" font-size=\"14.00\">value = [0, 14, 0, 0, 0, 0]</text>\n<text xml:space=\"preserve\" text-anchor=\"middle\" x=\"8517\" y=\"-121.33\" font-family=\"Helvetica,sans-Serif\" font-size=\"14.00\">class = WALKING_UPSTAIRS</text>\n</g>\n<!-- 117&#45;&gt;118 -->\n<g id=\"edge118\" class=\"edge\">\n<title>117&#45;&gt;118</title>\n<path fill=\"none\" stroke=\"black\" d=\"M8650.08,-229.38C8629.39,-217.26 8606.93,-204.09 8586.45,-192.09\"/>\n<polygon fill=\"black\" stroke=\"black\" points=\"8588.28,-189.1 8577.88,-187.06 8584.74,-195.14 8588.28,-189.1\"/>\n</g>\n<!-- 119 -->\n<g id=\"node120\" class=\"node\">\n<title>119</title>\n<polygon fill=\"#39e581\" stroke=\"black\" points=\"8860.62,-185.88 8635.38,-185.88 8635.38,-114.88 8860.62,-114.88 8860.62,-185.88\"/>\n<text xml:space=\"preserve\" text-anchor=\"middle\" x=\"8748\" y=\"-168.57\" font-family=\"Helvetica,sans-Serif\" font-size=\"14.00\">gini = 0.0</text>\n<text xml:space=\"preserve\" text-anchor=\"middle\" x=\"8748\" y=\"-152.82\" font-family=\"Helvetica,sans-Serif\" font-size=\"14.00\">samples = 13</text>\n<text xml:space=\"preserve\" text-anchor=\"middle\" x=\"8748\" y=\"-137.07\" font-family=\"Helvetica,sans-Serif\" font-size=\"14.00\">value = [0, 0, 13, 0, 0, 0]</text>\n<text xml:space=\"preserve\" text-anchor=\"middle\" x=\"8748\" y=\"-121.33\" font-family=\"Helvetica,sans-Serif\" font-size=\"14.00\">class = WALKING_DOWNSTAIRS</text>\n</g>\n<!-- 117&#45;&gt;119 -->\n<g id=\"edge119\" class=\"edge\">\n<title>117&#45;&gt;119</title>\n<path fill=\"none\" stroke=\"black\" d=\"M8731.81,-229.55C8733.98,-219.08 8736.31,-207.83 8738.51,-197.21\"/>\n<polygon fill=\"black\" stroke=\"black\" points=\"8741.92,-197.99 8740.52,-187.49 8735.07,-196.57 8741.92,-197.99\"/>\n</g>\n<!-- 121 -->\n<g id=\"node122\" class=\"node\">\n<title>121</title>\n<polygon fill=\"#def6bd\" stroke=\"black\" points=\"9078.88,-185.88 8879.12,-185.88 8879.12,-114.88 9078.88,-114.88 9078.88,-185.88\"/>\n<text xml:space=\"preserve\" text-anchor=\"middle\" x=\"8979\" y=\"-168.57\" font-family=\"Helvetica,sans-Serif\" font-size=\"14.00\">gini = 0.48</text>\n<text xml:space=\"preserve\" text-anchor=\"middle\" x=\"8979\" y=\"-152.82\" font-family=\"Helvetica,sans-Serif\" font-size=\"14.00\">samples = 5</text>\n<text xml:space=\"preserve\" text-anchor=\"middle\" x=\"8979\" y=\"-137.07\" font-family=\"Helvetica,sans-Serif\" font-size=\"14.00\">value = [2, 3, 0, 0, 0, 0]</text>\n<text xml:space=\"preserve\" text-anchor=\"middle\" x=\"8979\" y=\"-121.33\" font-family=\"Helvetica,sans-Serif\" font-size=\"14.00\">class = WALKING_UPSTAIRS</text>\n</g>\n<!-- 120&#45;&gt;121 -->\n<g id=\"edge121\" class=\"edge\">\n<title>120&#45;&gt;121</title>\n<path fill=\"none\" stroke=\"black\" d=\"M8979,-229.55C8979,-219.08 8979,-207.83 8979,-197.21\"/>\n<polygon fill=\"black\" stroke=\"black\" points=\"8982.5,-197.52 8979,-187.52 8975.5,-197.52 8982.5,-197.52\"/>\n</g>\n<!-- 122 -->\n<g id=\"node123\" class=\"node\">\n<title>122</title>\n<polygon fill=\"#3ee684\" stroke=\"black\" points=\"9322.62,-193.75 9097.38,-193.75 9097.38,-107 9322.62,-107 9322.62,-193.75\"/>\n<text xml:space=\"preserve\" text-anchor=\"middle\" x=\"9210\" y=\"-176.45\" font-family=\"Helvetica,sans-Serif\" font-size=\"14.00\">tBodyAcc&#45;max()&#45;X &lt;= 0.048</text>\n<text xml:space=\"preserve\" text-anchor=\"middle\" x=\"9210\" y=\"-160.7\" font-family=\"Helvetica,sans-Serif\" font-size=\"14.00\">gini = 0.046</text>\n<text xml:space=\"preserve\" text-anchor=\"middle\" x=\"9210\" y=\"-144.95\" font-family=\"Helvetica,sans-Serif\" font-size=\"14.00\">samples = 815</text>\n<text xml:space=\"preserve\" text-anchor=\"middle\" x=\"9210\" y=\"-129.2\" font-family=\"Helvetica,sans-Serif\" font-size=\"14.00\">value = [5, 14, 796, 0, 0, 0]</text>\n<text xml:space=\"preserve\" text-anchor=\"middle\" x=\"9210\" y=\"-113.45\" font-family=\"Helvetica,sans-Serif\" font-size=\"14.00\">class = WALKING_DOWNSTAIRS</text>\n</g>\n<!-- 120&#45;&gt;122 -->\n<g id=\"edge122\" class=\"edge\">\n<title>120&#45;&gt;122</title>\n<path fill=\"none\" stroke=\"black\" d=\"M9060.77,-229.38C9079.36,-219.66 9099.23,-209.28 9118.21,-199.36\"/>\n<polygon fill=\"black\" stroke=\"black\" points=\"9119.76,-202.49 9127,-194.76 9116.52,-196.29 9119.76,-202.49\"/>\n</g>\n<!-- 123 -->\n<g id=\"node124\" class=\"node\">\n<title>123</title>\n<polygon fill=\"#cef29c\" stroke=\"black\" points=\"9193.88,-71 8994.12,-71 8994.12,0 9193.88,0 9193.88,-71\"/>\n<text xml:space=\"preserve\" text-anchor=\"middle\" x=\"9094\" y=\"-53.7\" font-family=\"Helvetica,sans-Serif\" font-size=\"14.00\">gini = 0.444</text>\n<text xml:space=\"preserve\" text-anchor=\"middle\" x=\"9094\" y=\"-37.95\" font-family=\"Helvetica,sans-Serif\" font-size=\"14.00\">samples = 3</text>\n<text xml:space=\"preserve\" text-anchor=\"middle\" x=\"9094\" y=\"-22.2\" font-family=\"Helvetica,sans-Serif\" font-size=\"14.00\">value = [1, 2, 0, 0, 0, 0]</text>\n<text xml:space=\"preserve\" text-anchor=\"middle\" x=\"9094\" y=\"-6.45\" font-family=\"Helvetica,sans-Serif\" font-size=\"14.00\">class = WALKING_UPSTAIRS</text>\n</g>\n<!-- 122&#45;&gt;123 -->\n<g id=\"edge123\" class=\"edge\">\n<title>122&#45;&gt;123</title>\n<path fill=\"none\" stroke=\"black\" d=\"M9166.15,-106.7C9156.82,-97.62 9146.97,-88.04 9137.65,-78.97\"/>\n<polygon fill=\"black\" stroke=\"black\" points=\"9140.31,-76.68 9130.7,-72.21 9135.43,-81.7 9140.31,-76.68\"/>\n</g>\n<!-- 124 -->\n<g id=\"node125\" class=\"node\">\n<title>124</title>\n<polygon fill=\"#3de684\" stroke=\"black\" points=\"9437.62,-71 9212.38,-71 9212.38,0 9437.62,0 9437.62,-71\"/>\n<text xml:space=\"preserve\" text-anchor=\"middle\" x=\"9325\" y=\"-53.7\" font-family=\"Helvetica,sans-Serif\" font-size=\"14.00\">gini = 0.039</text>\n<text xml:space=\"preserve\" text-anchor=\"middle\" x=\"9325\" y=\"-37.95\" font-family=\"Helvetica,sans-Serif\" font-size=\"14.00\">samples = 812</text>\n<text xml:space=\"preserve\" text-anchor=\"middle\" x=\"9325\" y=\"-22.2\" font-family=\"Helvetica,sans-Serif\" font-size=\"14.00\">value = [4, 12, 796, 0, 0, 0]</text>\n<text xml:space=\"preserve\" text-anchor=\"middle\" x=\"9325\" y=\"-6.45\" font-family=\"Helvetica,sans-Serif\" font-size=\"14.00\">class = WALKING_DOWNSTAIRS</text>\n</g>\n<!-- 122&#45;&gt;124 -->\n<g id=\"edge124\" class=\"edge\">\n<title>122&#45;&gt;124</title>\n<path fill=\"none\" stroke=\"black\" d=\"M9253.48,-106.7C9262.73,-97.62 9272.49,-88.04 9281.73,-78.97\"/>\n<polygon fill=\"black\" stroke=\"black\" points=\"9283.92,-81.72 9288.61,-72.22 9279.02,-76.72 9283.92,-81.72\"/>\n</g>\n<!-- 126 -->\n<g id=\"node127\" class=\"node\">\n<title>126</title>\n<polygon fill=\"#e58139\" stroke=\"black\" points=\"9270.75,-308.62 9109.25,-308.62 9109.25,-237.62 9270.75,-237.62 9270.75,-308.62\"/>\n<text xml:space=\"preserve\" text-anchor=\"middle\" x=\"9190\" y=\"-291.32\" font-family=\"Helvetica,sans-Serif\" font-size=\"14.00\">gini = 0.0</text>\n<text xml:space=\"preserve\" text-anchor=\"middle\" x=\"9190\" y=\"-275.57\" font-family=\"Helvetica,sans-Serif\" font-size=\"14.00\">samples = 10</text>\n<text xml:space=\"preserve\" text-anchor=\"middle\" x=\"9190\" y=\"-259.82\" font-family=\"Helvetica,sans-Serif\" font-size=\"14.00\">value = [10, 0, 0, 0, 0, 0]</text>\n<text xml:space=\"preserve\" text-anchor=\"middle\" x=\"9190\" y=\"-244.07\" font-family=\"Helvetica,sans-Serif\" font-size=\"14.00\">class = WALKING</text>\n</g>\n<!-- 125&#45;&gt;126 -->\n<g id=\"edge126\" class=\"edge\">\n<title>125&#45;&gt;126</title>\n<path fill=\"none\" stroke=\"black\" d=\"M9190,-352.3C9190,-341.83 9190,-330.58 9190,-319.96\"/>\n<polygon fill=\"black\" stroke=\"black\" points=\"9193.5,-320.27 9190,-310.27 9186.5,-320.27 9193.5,-320.27\"/>\n</g>\n<!-- 127 -->\n<g id=\"node128\" class=\"node\">\n<title>127</title>\n<polygon fill=\"#39e581\" stroke=\"black\" points=\"9513.62,-308.62 9288.38,-308.62 9288.38,-237.62 9513.62,-237.62 9513.62,-308.62\"/>\n<text xml:space=\"preserve\" text-anchor=\"middle\" x=\"9401\" y=\"-291.32\" font-family=\"Helvetica,sans-Serif\" font-size=\"14.00\">gini = 0.0</text>\n<text xml:space=\"preserve\" text-anchor=\"middle\" x=\"9401\" y=\"-275.57\" font-family=\"Helvetica,sans-Serif\" font-size=\"14.00\">samples = 3</text>\n<text xml:space=\"preserve\" text-anchor=\"middle\" x=\"9401\" y=\"-259.82\" font-family=\"Helvetica,sans-Serif\" font-size=\"14.00\">value = [0, 0, 3, 0, 0, 0]</text>\n<text xml:space=\"preserve\" text-anchor=\"middle\" x=\"9401\" y=\"-244.07\" font-family=\"Helvetica,sans-Serif\" font-size=\"14.00\">class = WALKING_DOWNSTAIRS</text>\n</g>\n<!-- 125&#45;&gt;127 -->\n<g id=\"edge127\" class=\"edge\">\n<title>125&#45;&gt;127</title>\n<path fill=\"none\" stroke=\"black\" d=\"M9264.69,-352.13C9285.97,-339.95 9309.1,-326.72 9330.15,-314.67\"/>\n<polygon fill=\"black\" stroke=\"black\" points=\"9331.72,-317.8 9338.67,-309.8 9328.25,-311.73 9331.72,-317.8\"/>\n</g>\n<!-- 129 -->\n<g id=\"node130\" class=\"node\">\n<title>129</title>\n<polygon fill=\"#9de539\" stroke=\"black\" points=\"9504.88,-431.38 9305.12,-431.38 9305.12,-360.38 9504.88,-360.38 9504.88,-431.38\"/>\n<text xml:space=\"preserve\" text-anchor=\"middle\" x=\"9405\" y=\"-414.07\" font-family=\"Helvetica,sans-Serif\" font-size=\"14.00\">gini = 0.0</text>\n<text xml:space=\"preserve\" text-anchor=\"middle\" x=\"9405\" y=\"-398.32\" font-family=\"Helvetica,sans-Serif\" font-size=\"14.00\">samples = 55</text>\n<text xml:space=\"preserve\" text-anchor=\"middle\" x=\"9405\" y=\"-382.57\" font-family=\"Helvetica,sans-Serif\" font-size=\"14.00\">value = [0, 55, 0, 0, 0, 0]</text>\n<text xml:space=\"preserve\" text-anchor=\"middle\" x=\"9405\" y=\"-366.82\" font-family=\"Helvetica,sans-Serif\" font-size=\"14.00\">class = WALKING_UPSTAIRS</text>\n</g>\n<!-- 128&#45;&gt;129 -->\n<g id=\"edge129\" class=\"edge\">\n<title>128&#45;&gt;129</title>\n<path fill=\"none\" stroke=\"black\" d=\"M9405,-475.05C9405,-464.58 9405,-453.33 9405,-442.71\"/>\n<polygon fill=\"black\" stroke=\"black\" points=\"9408.5,-443.02 9405,-433.02 9401.5,-443.02 9408.5,-443.02\"/>\n</g>\n<!-- 130 -->\n<g id=\"node131\" class=\"node\">\n<title>130</title>\n<polygon fill=\"#9cf2c0\" stroke=\"black\" points=\"9748.62,-431.38 9523.38,-431.38 9523.38,-360.38 9748.62,-360.38 9748.62,-431.38\"/>\n<text xml:space=\"preserve\" text-anchor=\"middle\" x=\"9636\" y=\"-414.07\" font-family=\"Helvetica,sans-Serif\" font-size=\"14.00\">gini = 0.444</text>\n<text xml:space=\"preserve\" text-anchor=\"middle\" x=\"9636\" y=\"-398.32\" font-family=\"Helvetica,sans-Serif\" font-size=\"14.00\">samples = 6</text>\n<text xml:space=\"preserve\" text-anchor=\"middle\" x=\"9636\" y=\"-382.57\" font-family=\"Helvetica,sans-Serif\" font-size=\"14.00\">value = [2, 0, 4, 0, 0, 0]</text>\n<text xml:space=\"preserve\" text-anchor=\"middle\" x=\"9636\" y=\"-366.82\" font-family=\"Helvetica,sans-Serif\" font-size=\"14.00\">class = WALKING_DOWNSTAIRS</text>\n</g>\n<!-- 128&#45;&gt;130 -->\n<g id=\"edge130\" class=\"edge\">\n<title>128&#45;&gt;130</title>\n<path fill=\"none\" stroke=\"black\" d=\"M9486.77,-474.88C9510.28,-462.59 9535.84,-449.23 9559.06,-437.09\"/>\n<polygon fill=\"black\" stroke=\"black\" points=\"9560.61,-440.23 9567.85,-432.5 9557.37,-434.03 9560.61,-440.23\"/>\n</g>\n</g>\n</svg>\n",
      "text/plain": [
       "<graphviz.sources.Source at 0x1bfbf757430>"
      ]
     },
     "execution_count": 32,
     "metadata": {},
     "output_type": "execute_result"
    }
   ],
   "execution_count": 32
  },
  {
   "metadata": {},
   "cell_type": "code",
   "outputs": [],
   "execution_count": null,
   "source": ""
  }
 ],
 "metadata": {
  "kernelspec": {
   "display_name": "Python 3",
   "language": "python",
   "name": "python3"
  },
  "language_info": {
   "codemirror_mode": {
    "name": "ipython",
    "version": 3
   },
   "file_extension": ".py",
   "mimetype": "text/x-python",
   "name": "python",
   "nbconvert_exporter": "python",
   "pygments_lexer": "ipython3",
   "version": "3.10.7"
  }
 },
 "nbformat": 4,
 "nbformat_minor": 2
}
